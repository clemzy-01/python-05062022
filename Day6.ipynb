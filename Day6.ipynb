{
 "cells": [
  {
   "cell_type": "markdown",
   "metadata": {},
   "source": [
    "# FUNCTIONS"
   ]
  },
  {
   "cell_type": "code",
   "execution_count": 2,
   "metadata": {},
   "outputs": [
    {
     "name": "stdout",
     "output_type": "stream",
     "text": [
      "Welcome to python class\n",
      "None\n"
     ]
    }
   ],
   "source": [
    "def greet(): # function without a parameter)\n",
    "          print('Welcome to python class')\n",
    "print(greet())"
   ]
  },
  {
   "cell_type": "code",
   "execution_count": 6,
   "metadata": {},
   "outputs": [
    {
     "name": "stdout",
     "output_type": "stream",
     "text": [
      "Welcome to python class Simon\n",
      "None\n"
     ]
    }
   ],
   "source": [
    "def greet2(name): # function without a parameter)\n",
    "          print(f'Welcome to python class {name}')\n",
    "print(greet2('Simon'))"
   ]
  },
  {
   "cell_type": "code",
   "execution_count": 7,
   "metadata": {},
   "outputs": [
    {
     "name": "stdout",
     "output_type": "stream",
     "text": [
      "Welcome to python class Ade\n"
     ]
    }
   ],
   "source": [
    "greet2('Ade')"
   ]
  },
  {
   "cell_type": "code",
   "execution_count": 9,
   "metadata": {},
   "outputs": [
    {
     "name": "stdout",
     "output_type": "stream",
     "text": [
      "CANDIDATE DETAILS\n",
      "Name: Simeon Taiwo\n",
      "Gender: Male\n",
      "Age: 28\n",
      "\n",
      "Congratulations, you are eligible to vote\n"
     ]
    }
   ],
   "source": [
    "# FUNCTION with more than one parameter\n",
    "def person(name,gender,age):\n",
    "    print(f'''CANDIDATE DETAILS\n",
    "Name: {name}\n",
    "Gender: {gender}\n",
    "Age: {age}\n",
    "''')\n",
    "    if age >= 18:\n",
    "        print('Congratulations, you are eligible to vote')\n",
    "    else:\n",
    "        print('OOPA! sorry you are below the required age, you are not eligible to vote')\n",
    "person('Simeon Taiwo', 'Male', 28)"
   ]
  },
  {
   "cell_type": "code",
   "execution_count": 10,
   "metadata": {},
   "outputs": [
    {
     "name": "stdout",
     "output_type": "stream",
     "text": [
      "CANDIDATE DETAILS\n",
      "Name: Mayor Alo\n",
      "Gender: Female\n",
      "Age: 16\n",
      "\n",
      "OOPA! sorry you are below the required age, you are not eligible to vote\n"
     ]
    }
   ],
   "source": [
    "person('Mayor Alo','Female',16)"
   ]
  },
  {
   "cell_type": "code",
   "execution_count": 12,
   "metadata": {},
   "outputs": [
    {
     "name": "stdout",
     "output_type": "stream",
     "text": [
      "CANDIDATE DETAILS\n",
      "Name: Simeon Taiwo\n",
      "Gender: Male\n",
      "Age: 28\n",
      "\n",
      "Congratulations, you are eligible to vote\n"
     ]
    }
   ],
   "source": [
    "# A FUNCTION with a default parameter\n",
    "def vote(name,gender,age = 18):\n",
    "    print(f'''CANDIDATE DETAILS\n",
    "Name: {name}\n",
    "Gender: {gender}\n",
    "Age: {age}\n",
    "''')\n",
    "    if age >= 18:\n",
    "        print('Congratulations, you are eligible to vote')\n",
    "    else:\n",
    "        print('OOPA! sorry you are below the required age, you are not eligible to vote')\n",
    "vote('Simeon Taiwo', 'Male',28)"
   ]
  },
  {
   "cell_type": "code",
   "execution_count": 13,
   "metadata": {},
   "outputs": [
    {
     "name": "stdout",
     "output_type": "stream",
     "text": [
      "CANDIDATE DETAILS\n",
      "Name: Simeon Taiwo\n",
      "Gender: Male\n",
      "Age: 18\n",
      "\n",
      "Congratulations, you are eligible to vote\n"
     ]
    }
   ],
   "source": [
    "def vote(name,gender,age = 18):\n",
    "    print(f'''CANDIDATE DETAILS\n",
    "Name: {name}\n",
    "Gender: {gender}\n",
    "Age: {age}\n",
    "''')\n",
    "    if age >= 18:\n",
    "        print('Congratulations, you are eligible to vote')\n",
    "    else:\n",
    "        print('OOPA! sorry you are below the required age, you are not eligible to vote')\n",
    "vote('Simeon Taiwo', 'Male')"
   ]
  },
  {
   "cell_type": "code",
   "execution_count": 18,
   "metadata": {},
   "outputs": [
    {
     "name": "stdout",
     "output_type": "stream",
     "text": [
      "Math score 40\n",
      "Eng score 45\n",
      "Chem score 80\n",
      "Bio score 56\n",
      "Phy score 40\n",
      "Your Average score in 5 subjects is 52.2, Your Grade is D\n"
     ]
    }
   ],
   "source": [
    "def gradingsystem():\n",
    "    score1 = int(input('Math score '))\n",
    "    score2 = int(input('Eng score '))\n",
    "    score3 = int(input('Chem score '))\n",
    "    score4 = int(input('Bio score '))\n",
    "    score5 = int(input('Phy score '))\n",
    "\n",
    "    avgscore = (score1 + score2 + score3 + score4 + score5)/5\n",
    "\n",
    "    if avgscore >= 70 and avgscore <= 100:\n",
    "        print(f'Your Average score in 5 subjects is {avgscore}, Your Grade is A')\n",
    "    elif avgscore >= 60 and avgscore <=69.99:\n",
    "        print(f'Your Average score in 5 subjects is {avgscore}, Your Grade is B')\n",
    "    elif avgscore >= 55 and avgscore <= 59.99:\n",
    "        print(f'Your Average score in 5 subjects is {avgscore}, Your Grade is C')\n",
    "    elif avgscore >= 50 and avgscore <=54.99:\n",
    "        print(f'Your Average score in 5 subjects is {avgscore}, Your Grade is D')\n",
    "    elif avgscore >= 40 and avgscore <= 49.99:\n",
    "        print(f'Your Average score in 5 subjects is {avgscore}, Your Grade is E')\n",
    "    else:\n",
    "        print(f'Your Average score in 5 subjects is {avgscore}, Your Grade is F')\n",
    "    \n",
    "gradingsystem()"
   ]
  },
  {
   "cell_type": "code",
   "execution_count": 19,
   "metadata": {},
   "outputs": [
    {
     "name": "stdout",
     "output_type": "stream",
     "text": [
      "Math score 80\n",
      "Eng score 78\n",
      "Chem score 98\n",
      "Bio score 69\n",
      "Phy score 70\n",
      "Your Average score in 5 subjects is 79.0, Your Grade is A\n"
     ]
    }
   ],
   "source": [
    "gradingsystem()"
   ]
  },
  {
   "cell_type": "markdown",
   "metadata": {},
   "source": [
    "# 1. write a function to find the max of three numbers\n"
   ]
  },
  {
   "cell_type": "code",
   "execution_count": 23,
   "metadata": {},
   "outputs": [
    {
     "name": "stdout",
     "output_type": "stream",
     "text": [
      "Please enter your first score: 24\n",
      "Please enter your second score: 56\n",
      "Please enter your third score: 78\n",
      "Your third score which is 78 is the Max number\n"
     ]
    }
   ],
   "source": [
    "def numsystem():\n",
    "    first_score = int(input('Please enter your first score: '))\n",
    "    second_score = int(input('Please enter your second score: '))\n",
    "    third_score = int(input('Please enter your third score: '))\n",
    "    \n",
    "    if first_score > second_score and first_score > third_score:\n",
    "        print(f'Your First score which is {first_score} is the Max number')\n",
    "    elif second_score > first_score and second_score > third_score:\n",
    "        print(f'Your Second score which is {second_score} is the Max number')\n",
    "    else:\n",
    "        print(f'Your third score which is {third_score} is the Max number')\n",
    "numsystem()"
   ]
  },
  {
   "cell_type": "markdown",
   "metadata": {},
   "source": [
    "# 2. write a function to find if a year is a leapyear\n"
   ]
  },
  {
   "cell_type": "code",
   "execution_count": 27,
   "metadata": {},
   "outputs": [
    {
     "name": "stdout",
     "output_type": "stream",
     "text": [
      "Please enter the year: 2015\n",
      "This year 2015 is not a leap year\n"
     ]
    }
   ],
   "source": [
    "def yearsys():\n",
    "    year = int(input('Please enter the year: '))\n",
    "    \n",
    "    if year % 4 == int():\n",
    "        print(f'This year {year} is a leap year')\n",
    "    else:\n",
    "        print(f'This year {year} is not a leap year')\n",
    "yearsys()"
   ]
  },
  {
   "cell_type": "code",
   "execution_count": 29,
   "metadata": {},
   "outputs": [
    {
     "name": "stdout",
     "output_type": "stream",
     "text": [
      "Please enter the year: 2024\n",
      "This year 2024 is a leap year\n"
     ]
    }
   ],
   "source": [
    "def leapyear():\n",
    "    years = int(input('Please enter the year: '))\n",
    "    \n",
    "    if years % 400 == 0 and years % 100 == 0:\n",
    "        print(f'This year {years} is a leap year')\n",
    "    elif years % 4 == 0 and years % 100 != 100:\n",
    "        print(f'This year {years} is a leap year')\n",
    "    else:\n",
    "        print(f'This year {years} is not a leap year')\n",
    "leapyear()\n",
    "        "
   ]
  },
  {
   "cell_type": "markdown",
   "metadata": {},
   "source": [
    "# KEYWORD AND NON-KEYWORD ARGUMENT FUNCTIONS"
   ]
  },
  {
   "cell_type": "code",
   "execution_count": 30,
   "metadata": {},
   "outputs": [
    {
     "name": "stdout",
     "output_type": "stream",
     "text": [
      "<class 'tuple'>\n",
      "51.06666666666667\n"
     ]
    }
   ],
   "source": [
    "import statistics as st\n",
    "def average(*args):\n",
    "    print(type(args))\n",
    "    print(st.mean(args))\n",
    "average(85,60,67,58,90,40,50,60,30,29,39,40,50,45,23)\n"
   ]
  },
  {
   "cell_type": "code",
   "execution_count": 31,
   "metadata": {},
   "outputs": [
    {
     "name": "stdout",
     "output_type": "stream",
     "text": [
      "<class 'tuple'>\n",
      "50\n"
     ]
    }
   ],
   "source": [
    "def average(*args): # a single asteric '*' denotes a non-keywords argument\n",
    "    print(type(args))\n",
    "    print(st.median(args))\n",
    "average(85,60,67,58,90,40,50,60,30,29,39,40,50,45,23)"
   ]
  },
  {
   "cell_type": "code",
   "execution_count": 32,
   "metadata": {},
   "outputs": [
    {
     "name": "stdout",
     "output_type": "stream",
     "text": [
      "<class 'dict'>\n",
      "Name : Ojo\n",
      "Gender : Male\n",
      "Age : 30\n"
     ]
    }
   ],
   "source": [
    "def details(**kwargs): # a double asteric '**' denotes a keywords argument\n",
    "    print(type(kwargs))\n",
    "    for key,value in kwargs.items():\n",
    "        print(key,':', value)\n",
    "details(Name = 'Ojo', Gender = 'Male', Age = 30)"
   ]
  },
  {
   "cell_type": "code",
   "execution_count": 4,
   "metadata": {},
   "outputs": [
    {
     "name": "stdout",
     "output_type": "stream",
     "text": [
      "Please enter your name: fer\n",
      "Name: fer\n",
      "Please enter your age: 54\n",
      "Age: 54 years\n",
      "Please enter your weight in kg: 75\n",
      "Weight(kg): 75.0kg\n",
      "Please enter your height in meters: 1.56\n",
      "Height(m): 1.56m\n",
      "BMI: 30.818540433925047kg/m2 - Moderately Obese,\n",
      "Lifestyle modification highly advised. Please see your doctor\n"
     ]
    }
   ],
   "source": [
    "# A pythoto determine the body mass index of an individual with weight(kg)/[height(m)]**2\n",
    "\n",
    "def bmisys():\n",
    "    name = input('Please enter your name: ')\n",
    "    print(f'Name: {name}')\n",
    "    age = int(input('Please enter your age: '))\n",
    "    print(f'Age: {age} years')\n",
    "    weight = float(input('Please enter your weight in kg: '))\n",
    "    print(f'Weight(kg): {weight}kg')\n",
    "    height = float(input('Please enter your height in meters: '))\n",
    "    print(f'Height(m): {height}m')\n",
    "    \n",
    "    bmi = (weight/height**2)\n",
    "    \n",
    "    if bmi < 16.0:\n",
    "        print(f'''BMI: {bmi}kg/m2 - Severely Underweight,\n",
    "Please see your Doctor immediately''')\n",
    "    elif bmi >= 16.0 and bmi <= 18.4:\n",
    "        print(f'''BMI: {bmi}kg/m2 - Underweight,\n",
    "Please see your doctor''')\n",
    "    elif bmi >= 18.5 and bmi <= 24.9:\n",
    "        print(f'''BMI: {bmi}kg/m2 - Normal,\n",
    "Congratulations, Keep up the good work''')\n",
    "    elif bmi >= 25.0 and bmi <= 29.9:\n",
    "        print(f'''BMI: {bmi}kg/m2 - Overweight,\n",
    "you need to start adjusting your diet''')\n",
    "    elif bmi >= 30.0 and bmi <= 34.9:\n",
    "        print(f'''BMI: {bmi}kg/m2 - Moderately Obese,\n",
    "Lifestyle modification highly advised. Please see your doctor''')\n",
    "    elif bmi >= 35.0 and bmi <= 39.9:\n",
    "        print(f'''BMI: {bmi}kg/m2 - Severely Obese,\n",
    "Please see your doctor immediately''')\n",
    "    else:\n",
    "        print(f'BMI: {bmi}kg/m2 - Please see your doctor immediately')\n",
    "\n",
    "bmisys()\n",
    "        \n",
    "    "
   ]
  },
  {
   "cell_type": "code",
   "execution_count": 14,
   "metadata": {},
   "outputs": [
    {
     "name": "stdout",
     "output_type": "stream",
     "text": [
      "['Junior539', 'Intermediate1335', 'Junior124', 'Junior1090', 'Junior599', 'Junior1057', 'Junior451', 'Junior834', 'Junior907', 'Junior871', 'Junior237', 'Junior1175', 'Junior149', 'Junior908', 'Junior1052', 'Junior987', 'Junior248', 'Intermediate1249', 'Intermediate1496', 'Junior1050', 'Intermediate1562', 'Junior948', 'Intermediate1269', 'Senior1846', 'Senior1928', 'Senior1762', 'Junior1098', 'Junior317', 'Junior527', 'Intermediate1496', 'Junior1004', 'Junior669', 'Junior509', 'Junior518', 'Intermediate1216', 'Junior574', 'Senior1963', 'Junior167', 'Intermediate1487', 'Junior360', 'Junior400', 'Junior206', 'Junior896', 'Junior1178', 'Junior522', 'Senior1975', 'Junior289', 'Senior1659', 'Intermediate1460', 'Intermediate1216', 'Intermediate1220', 'Junior786', 'Junior214', 'Junior690', 'Junior674', 'Intermediate1544', 'Junior191', 'Junior399', 'Junior402', 'Junior869', 'Junior900', 'Junior207', 'Senior1621', 'Junior687', 'Junior479', 'Intermediate1551', 'Senior1653', 'Senior1814', 'Senior1855', 'Senior1723', 'Senior1776', 'Junior818', 'Junior921', 'Junior372', 'Junior138', 'Junior937', 'Junior389', 'Senior1630', 'Junior1089', 'Senior1705', 'Intermediate1215', 'Junior1020', 'Junior685', 'Junior635', 'Senior1929', 'Junior753', 'Intermediate1452', 'Intermediate1501', 'Senior1886', 'Junior637', 'Intermediate1418', 'Junior266', 'Junior1055', 'Intermediate1260', 'Senior1933', 'Intermediate1291', 'Junior1162', 'Intermediate1254', 'Senior1937', 'Junior605', 'Junior350', 'Junior541', 'Intermediate1273', 'Junior263', 'Junior246', 'Senior1754', 'Intermediate1486', 'Junior670', 'Junior1139', 'Junior1156', 'Junior365', 'Junior753', 'Junior405', 'Junior816', 'Intermediate1226', 'Intermediate1284', 'Intermediate1230', 'Junior608', 'Senior1810', 'Junior690', 'Junior161', 'Junior684', 'Intermediate1394', 'Junior495', 'Senior1665', 'Senior1694', 'Junior477', 'Junior115', 'Intermediate1487', 'Junior263', 'Junior686', 'Junior1084', 'Intermediate1471', 'Junior1077', 'Junior1161', 'Junior274', 'Junior942', 'Junior625', 'Junior892', 'Senior1688', 'Junior628', 'Junior445', 'Intermediate1437', 'Junior194', 'Senior1916', 'Senior1601', 'Junior797', 'Junior1157', 'Senior1975', 'Junior991', 'Senior1926', 'Senior1864', 'Senior1609', 'Senior1663', 'Junior180', 'Junior172', 'Junior241', 'Junior663', 'Junior431', 'Senior1872', 'Senior1613', 'Junior807', 'Senior1639', 'Intermediate1230', 'Junior553', 'Intermediate1314', 'Junior330', 'Junior147', 'Junior1138', 'Intermediate1226', 'Junior945', 'Junior658', 'Junior847', 'Junior129', 'Intermediate1489', 'Junior747', 'Senior1752', 'Senior1741', 'Intermediate1427', 'Junior379', 'Junior875', 'Senior1914', 'Junior739', 'Junior125', 'Junior583', 'Intermediate1539', 'Junior904', 'Junior607', 'Intermediate1557', 'Intermediate1516', 'Junior314', 'Intermediate1483', 'Intermediate1308', 'Junior1039', 'Junior316', 'Junior382', 'Junior1174', 'Junior271', 'Junior1048', 'Junior458', 'Senior1768', 'Junior223', 'Junior631', 'Intermediate1521', 'Senior1977', 'Junior343', 'Junior360', 'Junior263', 'Intermediate1303', 'Intermediate1216', 'Junior369', 'Junior660', 'Senior1650', 'Junior838', 'Intermediate1383', 'Senior1988', 'Junior1005', 'Senior1609', 'Senior1853', 'Senior1635', 'Junior702', 'Senior1617', 'Junior499', 'Intermediate1595', 'Junior188', 'Intermediate1213', 'Intermediate1522', 'Senior1900', 'Junior394', 'Junior722', 'Intermediate1359', 'Junior647', 'Intermediate1548', 'Junior640', 'Intermediate1392', 'Junior883', 'Junior954', 'Intermediate1356', 'Junior461', 'Intermediate1455', 'Junior172', 'Junior121', 'Junior722', 'Intermediate1553', 'Junior927', 'Junior888', 'Junior428', 'Junior1156', 'Junior828', 'Junior634', 'Junior976', 'Junior150', 'Junior573', 'Junior882', 'Junior191', 'Senior1787', 'Junior992', 'Senior1674', 'Junior359', 'Junior647', 'Junior943', 'Junior1175', 'Junior1069', 'Senior1780', 'Intermediate1345', 'Senior1643', 'Senior1605', 'Junior754', 'Junior126', 'Intermediate1257', 'Junior1048', 'Senior1939', 'Senior1911', 'Intermediate1327', 'Junior1078', 'Senior1909', 'Junior118', 'Junior512', 'Intermediate1269', 'Intermediate1420', 'Intermediate1332', 'Senior1951', 'Junior107', 'Junior1162', 'Intermediate1554', 'Intermediate1397', 'Intermediate1351', 'Intermediate1470', 'Junior1101', 'Intermediate1203', 'Senior1603', 'Intermediate1233', 'Senior1791', 'Junior451', 'Junior401', 'Junior466', 'Senior1626', 'Junior685', 'Junior959', 'Junior801', 'Intermediate1222', 'Junior466', 'Junior868', 'Junior732', 'Senior1902', 'Junior164', 'Senior1804', 'Intermediate1311', 'Junior585', 'Intermediate1357', 'Junior797', 'Senior1974', 'Junior672', 'Junior229', 'Junior672', 'Senior1784', 'Senior1858', 'Junior471', 'Junior283', 'Junior974', 'Junior450', 'Junior839', 'Junior552', 'Junior1141', 'Intermediate1403', 'Junior1097', 'Intermediate1580', 'Junior121', 'Senior1804', 'Senior1688', 'Senior1761', 'Junior226', 'Junior1028', 'Intermediate1326', 'Senior1720', 'Junior374', 'Junior917', 'Senior1997', 'Junior823', 'Intermediate1449', 'Junior817', 'Junior1080', 'Junior1121', 'Junior422', 'Junior278', 'Junior821', 'Junior1009', 'Intermediate1280', 'Senior1949', 'Junior845', 'Intermediate1225', 'Junior1086', 'Senior1625', 'Junior272', 'Senior1620', 'Intermediate1471', 'Intermediate1317', 'Junior621', 'Senior1637', 'Intermediate1483', 'Junior1002', 'Intermediate1426', 'Senior1864', 'Junior1151', 'Intermediate1307', 'Junior725', 'Junior457', 'Junior324', 'Senior1795', 'Junior238', 'Senior1881', 'Junior841', 'Junior909', 'Senior1782', 'Junior438', 'Junior563', 'Junior366', 'Intermediate1299', 'Junior863', 'Intermediate1455', 'Senior1830', 'Junior186', 'Junior687', 'Senior1671', 'Junior180', 'Junior272', 'Junior934', 'Junior673', 'Junior882', 'Intermediate1426', 'Intermediate1522', 'Intermediate1376', 'Junior693', 'Intermediate1419', 'Intermediate1263', 'Junior968', 'Junior742', 'Senior1810', 'Intermediate1377', 'Senior1871', 'Senior1635', 'Junior487', 'Intermediate1316', 'Junior1090', 'Senior1863', 'Senior1623', 'Intermediate1466', 'Senior1757', 'Junior1065', 'Junior155', 'Junior243', 'Junior278', 'Intermediate1227', 'Junior443', 'Junior101', 'Senior1721', 'Junior136', 'Junior405', 'Senior1605', 'Junior558', 'Junior568', 'Junior309', 'Junior572', 'Junior742', 'Junior360', 'Junior366', 'Intermediate1296', 'Intermediate1337', 'Senior1803', 'Intermediate1446', 'Junior744', 'Junior1112', 'Intermediate1439', 'Senior1632', 'Junior1040', 'Junior165', 'Senior1711', 'Junior842', 'Senior1769', 'Senior1794', 'Junior948', 'Junior545', 'Junior390', 'Junior654', 'Junior984', 'Junior961', 'Senior1896', 'Junior959', 'Junior633', 'Junior313', 'Junior1191', 'Intermediate1598', 'Senior1644', 'Junior119', 'Senior1827', 'Junior529', 'Junior702', 'Senior1717', 'Senior1917', 'Junior976', 'Intermediate1583', 'Junior846', 'Junior234', 'Senior1745', 'Senior1749', 'Senior1791', 'Senior1917', 'Intermediate1223', 'Intermediate1498', 'Junior171', 'Intermediate1420', 'Junior1068', 'Intermediate1402', 'Junior817', 'Junior103', 'Junior554', 'Intermediate1417', 'Senior1769', 'Junior446', 'Junior848', 'Intermediate1478', 'Junior221', 'Senior1643', 'Junior1141', 'Intermediate1529', 'Intermediate1293', 'Junior1099', 'Junior789', 'Junior330', 'Junior631', 'Intermediate1512', 'Senior1984', 'Junior794', 'Junior1020', 'Junior1045', 'Junior953', 'Intermediate1463', 'Junior882', 'Senior1697', 'Senior1960', 'Junior1092', 'Junior474', 'Junior458', 'Senior1856', 'Junior676', 'Senior1768', 'Junior927', 'Senior1925', 'Junior917', 'Junior873', 'Junior792', 'Junior1081', 'Intermediate1297', 'Senior1639', 'Intermediate1257', 'Intermediate1314', 'Junior799', 'Junior976', 'Junior375', 'Intermediate1368', 'Junior1090', 'Intermediate1370', 'Junior1094', 'Junior359', 'Senior1760', 'Senior1933', 'Intermediate1282', 'Junior1008', 'Intermediate1347', 'Senior1741', 'Junior589', 'Junior449', 'Senior1834', 'Intermediate1543', 'Intermediate1309', 'Senior1881', 'Senior1707', 'Intermediate1362', 'Junior554', 'Senior1789', 'Junior243', 'Intermediate1522', 'Junior1091', 'Junior939', 'Junior972', 'Senior1791', 'Junior652', 'Junior741', 'Junior989', 'Junior1112', 'Junior598', 'Intermediate1372', 'Junior530', 'Junior729', 'Intermediate1530', 'Intermediate1297', 'Junior232', 'Intermediate1399', 'Senior1895', 'Junior483', 'Junior195', 'Senior1677', 'Intermediate1478', 'Senior1690', 'Senior1981', 'Junior677', 'Junior827', 'Junior500', 'Junior995', 'Junior286', 'Junior295', 'Junior696', 'Junior339', 'Junior790', 'Intermediate1345', 'Senior1664', 'Junior836', 'Junior656', 'Junior1029', 'Junior986', 'Senior1975', 'Junior392', 'Junior109', 'Intermediate1460', 'Junior356', 'Junior464', 'Junior931', 'Junior262', 'Senior1770', 'Senior1679', 'Senior1746', 'Junior939', 'Senior1838', 'Intermediate1397', 'Junior191', 'Intermediate1244', 'Junior355', 'Intermediate1499', 'Junior949', 'Junior899', 'Junior794', 'Junior997', 'Junior624', 'Senior1901', 'Intermediate1410', 'Junior905', 'Junior717', 'Junior1068', 'Senior1680', 'Junior1099', 'Junior475', 'Junior914', 'Junior743', 'Junior374', 'Junior376', 'Senior1654', 'Junior620', 'Junior1058', 'Intermediate1304', 'Intermediate1255', 'Senior1851', 'Junior999', 'Junior1076', 'Junior1029', 'Junior870', 'Senior1812', 'Intermediate1532', 'Senior1922', 'Junior1122', 'Intermediate1236', 'Senior1880', 'Intermediate1587', 'Intermediate1505', 'Junior1022', 'Junior795', 'Senior1698', 'Junior948', 'Senior1991', 'Junior1011', 'Senior1698', 'Junior856', 'Senior1812', 'Junior251', 'Junior599', 'Junior1041', 'Junior236', 'Junior426', 'Junior485', 'Junior873', 'Junior873', 'Senior1706', 'Intermediate1551', 'Senior1657', 'Intermediate1559', 'Senior1804', 'Senior1941', 'Junior1070', 'Intermediate1437', 'Junior251', 'Junior630', 'Senior1820', 'Junior260', 'Junior298', 'Intermediate1349', 'Junior665', 'Junior565', 'Junior375', 'Senior1701', 'Intermediate1550', 'Intermediate1265', 'Senior1607', 'Junior425', 'Junior1129', 'Junior868', 'Junior1027', 'Junior963', 'Junior131', 'Junior1048', 'Senior1857', 'Intermediate1441', 'Junior241', 'Junior932', 'Senior1750', 'Junior151', 'Junior509', 'Senior1854', 'Junior217', 'Junior765', 'Senior1880', 'Intermediate1515', 'Intermediate1407', 'Junior312', 'Junior299', 'Junior292', 'Junior138', 'Junior1079', 'Junior1010', 'Junior1011', 'Senior1801', 'Junior269', 'Junior718', 'Senior1721', 'Intermediate1530', 'Junior104', 'Junior424', 'Junior624', 'Senior1692', 'Junior113', 'Intermediate1224', 'Junior370', 'Junior436', 'Senior1604', 'Senior1998', 'Junior601', 'Junior317', 'Junior753', 'Junior709', 'Junior384', 'Junior827', 'Junior797', 'Junior744', 'Junior686', 'Junior276', 'Junior602', 'Junior261', 'Senior1829', 'Junior260', 'Junior215', 'Intermediate1391', 'Junior716', 'Intermediate1416', 'Junior529', 'Senior1898', 'Junior764', 'Junior262', 'Intermediate1545', 'Junior273', 'Senior1675', 'Intermediate1258', 'Junior170', 'Intermediate1201', 'Junior299', 'Junior707', 'Junior1106', 'Intermediate1572', 'Senior1969', 'Junior1075', 'Intermediate1381', 'Junior960', 'Senior1726', 'Junior321', 'Intermediate1406', 'Junior870', 'Junior604', 'Intermediate1323', 'Junior739', 'Senior1779', 'Junior1094', 'Intermediate1354', 'Senior1760', 'Junior601', 'Junior381', 'Intermediate1514', 'Senior1717', 'Intermediate1251', 'Senior1827', 'Intermediate1512', 'Senior1898', 'Junior672', 'Senior1637', 'Senior1922', 'Junior575', 'Junior294', 'Senior1609', 'Junior895', 'Junior909', 'Intermediate1245', 'Junior387', 'Junior271', 'Junior349', 'Junior331', 'Intermediate1311', 'Senior1943', 'Junior698', 'Junior836', 'Senior1858', 'Junior709', 'Junior107', 'Intermediate1485', 'Senior1900', 'Junior202', 'Junior702', 'Junior970', 'Junior1074', 'Senior1925', 'Intermediate1365', 'Junior582', 'Junior373', 'Junior396', 'Junior863', 'Junior1040', 'Intermediate1576', 'Junior721', 'Intermediate1359', 'Junior505', 'Junior507', 'Intermediate1479', 'Senior1674', 'Senior1996', 'Senior1791', 'Intermediate1385', 'Intermediate1320', 'Junior244', 'Intermediate1440', 'Senior1875', 'Intermediate1461', 'Junior917', 'Junior710', 'Junior1049', 'Junior438', 'Senior1700', 'Junior680', 'Intermediate1505', 'Junior343', 'Junior243', 'Intermediate1306', 'Junior271', 'Senior1931', 'Senior1667', 'Senior1835', 'Intermediate1591', 'Junior958', 'Intermediate1390', 'Intermediate1204', 'Junior1009', 'Junior274', 'Intermediate1550', 'Junior466', 'Intermediate1468', 'Junior392', 'Senior1943', 'Junior385', 'Junior152', 'Senior1835', 'Junior370', 'Junior471', 'Senior1921', 'Junior269', 'Junior172', 'Intermediate1267', 'Senior1898', 'Junior261', 'Intermediate1483', 'Junior371', 'Junior806', 'Junior652', 'Junior453', 'Junior762', 'Junior388', 'Junior940', 'Junior749', 'Senior1645', 'Senior1865', 'Junior886', 'Junior981', 'Junior486', 'Junior439', 'Senior1814', 'Junior691', 'Senior1684', 'Senior1659', 'Junior1127', 'Junior156', 'Junior1192', 'Junior467', 'Junior495', 'Senior1829', 'Junior779', 'Intermediate1419', 'Senior1694', 'Junior652', 'Senior1825', 'Junior624', 'Junior122', 'Junior333', 'Junior552', 'Junior386', 'Junior297', 'Junior194', 'Senior1678', 'Intermediate1229', 'Junior722', 'Senior1611', 'Senior1753', 'Senior1894', 'Intermediate1529', 'Senior1630', 'Senior1960', 'Junior916', 'Junior1019', 'Junior300', 'Junior357', 'Junior172', 'Intermediate1563', 'Intermediate1264', 'Junior749', 'Senior1903', 'Intermediate1590', 'Junior318', 'Junior492', 'Junior653', 'Intermediate1370', 'Intermediate1237', 'Junior820', 'Intermediate1302', 'Junior1090', 'Senior1701', 'Junior343', 'Senior1952', 'Junior314', 'Junior1130', 'Senior1989', 'Junior1129', 'Junior1171', 'Junior620', 'Junior951', 'Junior595', 'Junior1051', 'Junior806', 'Junior270', 'Junior539', 'Junior445', 'Senior1832', 'Senior1997', 'Junior464', 'Junior1110', 'Junior740', 'Junior112', 'Intermediate1439', 'Junior1156', 'Junior808', 'Senior1652', 'Junior337', 'Junior198', 'Senior1883', 'Junior1149', 'Junior487', 'Junior860', 'Junior945', 'Senior1671', 'Junior750', 'Junior880', 'Intermediate1271', 'Senior1726', 'Intermediate1315', 'Junior512', 'Junior789', 'Senior1638', 'Senior1830', 'Junior950', 'Junior916', 'Junior947', 'Junior548', 'Junior850', 'Junior1097', 'Senior1995', 'Senior1956', 'Senior1784', 'Junior431', 'Junior719', 'Junior617', 'Senior1842', 'Senior1607', 'Junior946', 'Junior154', 'Junior891', 'Intermediate1483', 'Intermediate1509', 'Senior1632', 'Junior561', 'Junior1072', 'Junior1000', 'Intermediate1435', 'Intermediate1342', 'Junior648', 'Junior454', 'Junior332', 'Intermediate1343', 'Junior896', 'Junior509', 'Intermediate1263', 'Junior1093', 'Junior941', 'Intermediate1239', 'Junior782', 'Junior484', 'Intermediate1499', 'Intermediate1430', 'Intermediate1203', 'Junior709', 'Junior364', 'Junior1080', 'Junior869', 'Junior310', 'Senior1827', 'Senior1778', 'Junior254', 'Senior1659', 'Senior1794', 'Intermediate1345', 'Intermediate1583', 'Senior1659', 'Senior1602', 'Senior1603', 'Junior971', 'Intermediate1474', 'Junior632', 'Junior620', 'Junior563', 'Intermediate1424', 'Junior247', 'Junior1154', 'Junior148', 'Junior759', 'Junior846', 'Junior1176', 'Junior363', 'Senior1870', 'Junior801', 'Junior766', 'Intermediate1560', 'Senior1722', 'Junior201', 'Junior741', 'Junior1157', 'Junior980', 'Junior495', 'Intermediate1231', 'Senior1946', 'Junior1196', 'Senior1850', 'Senior1933', 'Intermediate1246', 'Junior603', 'Intermediate1467', 'Junior866', 'Junior198', 'Intermediate1592', 'Intermediate1331', 'Junior411', 'Junior399', 'Junior435', 'Intermediate1298', 'Senior1769', 'Junior410', 'Junior785', 'Junior644', 'Junior1099', 'Junior365', 'Senior1981', 'Senior1614', 'Junior206', 'Junior434', 'Junior850', 'Junior442', 'Intermediate1477', 'Junior1062', 'Junior931', 'Junior176', 'Senior1628', 'Senior1800', 'Senior1841', 'Junior619', 'Senior1788', 'Junior1192', 'Junior254', 'Junior1181', 'Junior1040', 'Junior490', 'Senior1677', 'Junior256', 'Junior377', 'Junior242', 'Senior1764', 'Intermediate1212', 'Junior344', 'Junior243', 'Junior739', 'Senior1894', 'Junior798', 'Junior116', 'Junior130', 'Junior617', 'Junior303', 'Senior1647', 'Senior1814', 'Intermediate1424', 'Junior462', 'Junior268', 'Junior755', 'Junior428', 'Junior706', 'Junior293', 'Intermediate1271', 'Intermediate1209', 'Intermediate1202', 'Junior125', 'Senior1650', 'Senior1609', 'Intermediate1300', 'Intermediate1485', 'Junior423', 'Junior816', 'Senior1985', 'Senior1881', 'Junior600', 'Intermediate1447', 'Intermediate1423', 'Junior117', 'Junior384', 'Junior295', 'Intermediate1334', 'Senior1810', 'Senior1700', 'Junior1042', 'Junior296', 'Intermediate1592', 'Senior1911', 'Junior232', 'Intermediate1493', 'Junior729', 'Junior907', 'Junior1160', 'Junior272', 'Senior1868', 'Senior1635', 'Junior197', 'Junior684', 'Intermediate1383', 'Junior1121', 'Junior535', 'Intermediate1295', 'Junior454', 'Junior858', 'Junior186', 'Intermediate1359', 'Junior1011', 'Intermediate1221', 'Junior799', 'Intermediate1294', 'Intermediate1407', 'Junior266', 'Junior343', 'Junior609', 'Junior463', 'Junior157', 'Junior506', 'Senior1624', 'Junior963', 'Junior738', 'Junior972', 'Junior1153', 'Junior243', 'Junior429', 'Intermediate1201', 'Junior676', 'Junior659', 'Junior551', 'Junior1036', 'Junior172', 'Intermediate1532', 'Intermediate1316', 'Junior1193', 'Intermediate1397', 'Junior776', 'Senior1785', 'Intermediate1513', 'Junior390', 'Intermediate1460', 'Intermediate1316', 'Junior448', 'Junior787', 'Junior672', 'Junior451', 'Junior147', 'Intermediate1553', 'Junior1135', 'Senior1744', 'Senior1837', 'Senior1645', 'Intermediate1547', 'Junior591', 'Junior367', 'Junior1150', 'Junior891', 'Junior901', 'Intermediate1301', 'Junior467', 'Intermediate1551', 'Intermediate1320', 'Intermediate1542', 'Intermediate1237', 'Intermediate1399', 'Junior219', 'Junior852', 'Senior1968', 'Intermediate1309', 'Senior1772', 'Senior1632', 'Intermediate1265', 'Junior1038', 'Senior1801', 'Junior1013', 'Junior912', 'Junior260', 'Senior1757', 'Junior609', 'Intermediate1459', 'Senior1631', 'Intermediate1351', 'Senior1847', 'Junior976', 'Junior985', 'Junior593', 'Junior437', 'Junior585', 'Intermediate1364', 'Senior1977', 'Intermediate1379', 'Senior1603', 'Junior1006', 'Junior895', 'Junior828', 'Senior1658', 'Intermediate1493', 'Senior1608', 'Intermediate1525', 'Senior1846', 'Junior996', 'Junior118', 'Junior224', 'Junior465', 'Senior1967', 'Junior1162', 'Intermediate1388', 'Junior359', 'Senior1974', 'Junior1195', 'Junior520', 'Junior425', 'Junior891', 'Intermediate1332', 'Intermediate1577', 'Junior912', 'Junior621', 'Junior959', 'Intermediate1299', 'Junior998', 'Junior922', 'Intermediate1490', 'Senior1781', 'Junior904', 'Senior1656', 'Junior671', 'Junior1161', 'Intermediate1560', 'Junior842', 'Junior941', 'Junior306', 'Senior1746', 'Junior526', 'Junior858', 'Junior1191', 'Senior1757', 'Intermediate1237', 'Junior373', 'Senior1695', 'Junior712', 'Junior375', 'Junior1035', 'Junior1146', 'Junior275', 'Intermediate1570', 'Junior1041', 'Junior324', 'Intermediate1289', 'Junior868', 'Intermediate1232', 'Intermediate1215', 'Intermediate1569', 'Junior819', 'Junior357', 'Intermediate1293', 'Junior276', 'Junior1199', 'Junior337', 'Junior720', 'Intermediate1464', 'Senior1834', 'Intermediate1268', 'Intermediate1590', 'Intermediate1500', 'Intermediate1244', 'Senior1889', 'Junior1194', 'Intermediate1504', 'Senior1751', 'Junior365', 'Junior587', 'Junior924', 'Junior1011', 'Intermediate1433', 'Junior142', 'Junior649', 'Intermediate1315', 'Senior1605', 'Intermediate1237', 'Intermediate1424', 'Junior511', 'Intermediate1435', 'Junior739', 'Intermediate1580', 'Intermediate1439', 'Junior427', 'Intermediate1283', 'Intermediate1536', 'Intermediate1282', 'Junior535', 'Junior835', 'Intermediate1285', 'Junior352', 'Junior631', 'Junior285', 'Junior256', 'Senior1926', 'Junior891', 'Intermediate1261', 'Junior724', 'Senior1801', 'Senior1844', 'Intermediate1208', 'Senior1688', 'Intermediate1537', 'Junior587', 'Junior579', 'Junior495', 'Junior787', 'Intermediate1372', 'Junior334', 'Junior256', 'Intermediate1542', 'Junior594', 'Intermediate1323', 'Intermediate1242', 'Junior532', 'Junior697', 'Junior879', 'Junior1001', 'Senior1712', 'Senior1742', 'Junior312', 'Junior448', 'Junior180', 'Junior296', 'Junior126', 'Intermediate1501', 'Junior579', 'Intermediate1424', 'Senior1603', 'Junior968', 'Junior561', 'Intermediate1204', 'Senior1792', 'Junior1026', 'Junior172', 'Junior414', 'Senior1714', 'Intermediate1302', 'Senior1896', 'Intermediate1325', 'Senior1996', 'Junior1054', 'Junior132', 'Senior1888', 'Senior1608', 'Junior945', 'Senior1782', 'Intermediate1211', 'Intermediate1394', 'Junior280', 'Intermediate1413', 'Junior405', 'Intermediate1476', 'Senior1703', 'Junior359', 'Junior945', 'Junior1024', 'Junior928', 'Junior1140', 'Junior1041', 'Senior1814', 'Intermediate1207', 'Junior509', 'Junior1007', 'Junior797', 'Senior1693', 'Junior894', 'Junior1072', 'Senior1843', 'Senior1855', 'Junior660', 'Junior1052', 'Senior1654', 'Intermediate1376', 'Junior326', 'Junior518', 'Intermediate1333', 'Junior252', 'Junior413', 'Junior1049', 'Junior527', 'Junior306', 'Junior385', 'Junior1048', 'Junior636', 'Intermediate1288', 'Junior822', 'Junior769', 'Intermediate1514', 'Junior886', 'Junior964', 'Junior636', 'Junior1006', 'Intermediate1486', 'Junior996', 'Junior862', 'Junior297', 'Junior341', 'Junior562', 'Junior254', 'Senior1667', 'Senior1760', 'Intermediate1436', 'Junior503', 'Junior277', 'Intermediate1357', 'Senior1609', 'Junior1165', 'Intermediate1453', 'Junior1154', 'Intermediate1416', 'Junior361', 'Junior902', 'Intermediate1539', 'Intermediate1409', 'Junior688', 'Junior170', 'Junior608', 'Intermediate1515', 'Intermediate1319', 'Junior152', 'Senior1660', 'Junior473', 'Junior735', 'Senior1716', 'Intermediate1232', 'Intermediate1398', 'Intermediate1598', 'Intermediate1549', 'Intermediate1236', 'Junior483', 'Junior633', 'Intermediate1203', 'Senior1729', 'Junior987', 'Junior1149', 'Senior1899', 'Junior988', 'Intermediate1477', 'Junior380', 'Senior1624', 'Intermediate1589', 'Junior539', 'Junior165', 'Senior1989', 'Junior552', 'Junior588', 'Junior1039', 'Intermediate1540', 'Senior1825', 'Junior1058', 'Junior1086', 'Junior1063', 'Junior820', 'Junior810', 'Intermediate1293', 'Junior244', 'Junior786', 'Senior1926', 'Junior1046', 'Junior434', 'Intermediate1377', 'Senior1803', 'Intermediate1481', 'Senior1863', 'Junior418', 'Intermediate1528', 'Intermediate1242', 'Intermediate1486', 'Junior886', 'Senior1803', 'Senior1803', 'Senior1667', 'Senior1682', 'Junior167', 'Intermediate1405', 'Junior165', 'Intermediate1235', 'Junior808', 'Junior121', 'Junior392', 'Intermediate1361', 'Senior1822', 'Intermediate1356', 'Junior360', 'Senior1793', 'Junior560', 'Senior1833', 'Junior740', 'Junior1009', 'Junior469', 'Intermediate1499', 'Intermediate1505', 'Senior1681', 'Junior672', 'Senior1892', 'Intermediate1406', 'Junior705', 'Junior477', 'Senior1618', 'Junior637', 'Senior1783', 'Junior301', 'Intermediate1527', 'Junior526', 'Junior870', 'Junior1127', 'Junior368', 'Junior245', 'Junior1015', 'Junior1188', 'Junior173', 'Junior260', 'Senior1941', 'Senior1703', 'Junior1023', 'Senior1857', 'Intermediate1452', 'Junior600', 'Intermediate1248', 'Junior818', 'Junior369', 'Junior1098', 'Junior293', 'Junior747', 'Junior546', 'Intermediate1496', 'Intermediate1297', 'Junior895', 'Junior436', 'Senior1827', 'Junior1179', 'Intermediate1290', 'Junior570', 'Junior800', 'Senior1855', 'Intermediate1271', 'Junior815', 'Senior1703', 'Junior1015', 'Junior323', 'Junior942', 'Senior1702', 'Senior1838', 'Junior226', 'Junior1179', 'Junior319', 'Junior857', 'Junior899', 'Junior685', 'Senior1827', 'Junior644', 'Intermediate1530', 'Senior1695', 'Junior631', 'Junior727', 'Junior275', 'Senior1934', 'Junior409', 'Junior277', 'Intermediate1410', 'Junior1099', 'Junior224', 'Junior1127', 'Junior338', 'Senior1737', 'Intermediate1407', 'Junior510', 'Junior891', 'Senior1765', 'Junior547', 'Junior817', 'Intermediate1408', 'Intermediate1447', 'Junior200', 'Junior956', 'Junior1129', 'Junior1200', 'Junior102', 'Junior568', 'Junior109', 'Junior700', 'Junior1191', 'Junior713', 'Senior1818', 'Senior1790', 'Intermediate1560', 'Junior917', 'Junior976', 'Junior977', 'Junior1175', 'Junior733', 'Junior352', 'Intermediate1338', 'Junior1013', 'Junior763', 'Junior1186', 'Junior283', 'Intermediate1444', 'Junior1134', 'Senior1741', 'Senior1861', 'Intermediate1447', 'Junior855', 'Intermediate1542', 'Senior1937', 'Senior1939', 'Senior1734', 'Intermediate1576', 'Junior265', 'Intermediate1425', 'Intermediate1336', 'Junior245', 'Junior1068', 'Junior781', 'Junior912', 'Junior753', 'Junior411', 'Junior1185', 'Junior962', 'Junior1179', 'Junior1132', 'Junior161', 'Junior675', 'Junior445', 'Junior741', 'Junior436', 'Junior581', 'Junior1176', 'Junior108', 'Senior1606', 'Junior1023', 'Junior915', 'Junior932', 'Junior611', 'Junior197', 'Intermediate1478', 'Senior1918', 'Junior854', 'Junior522', 'Senior1902', 'Junior1065', 'Senior1634', 'Intermediate1263', 'Intermediate1436', 'Senior1883', 'Junior323', 'Intermediate1422', 'Intermediate1266', 'Junior747', 'Junior903', 'Junior316', 'Junior391', 'Junior1040', 'Senior1710', 'Junior1114', 'Intermediate1562', 'Junior660', 'Junior871', 'Senior1763', 'Junior647', 'Junior986', 'Intermediate1299', 'Senior1642', 'Junior102', 'Senior1680', 'Intermediate1588', 'Senior1842', 'Intermediate1498', 'Junior694', 'Senior1703', 'Intermediate1465', 'Intermediate1330', 'Senior1685', 'Senior1702', 'Junior940', 'Intermediate1336', 'Junior1024', 'Intermediate1261', 'Senior1882', 'Intermediate1554', 'Intermediate1527', 'Junior863', 'Junior143', 'Senior1979', 'Junior962', 'Intermediate1470', 'Junior677', 'Senior1601', 'Junior108', 'Junior796', 'Junior566', 'Junior523', 'Senior1847', 'Senior1935', 'Junior733', 'Junior714', 'Junior297', 'Junior899', 'Senior1696', 'Senior1915', 'Intermediate1496', 'Junior1095', 'Intermediate1544', 'Junior1047', 'Junior915', 'Senior1975', 'Senior1808', 'Senior1602', 'Senior1967', 'Senior1655', 'Intermediate1305', 'Intermediate1560', 'Junior336', 'Senior1842', 'Senior1655', 'Intermediate1488', 'Senior1977', 'Intermediate1464', 'Senior1955', 'Junior633', 'Junior388', 'Junior208', 'Junior332', 'Junior353', 'Junior952', 'Junior1191', 'Intermediate1377', 'Junior951', 'Junior398', 'Junior380', 'Senior1992', 'Senior1687', 'Intermediate1261', 'Senior1880', 'Intermediate1597', 'Junior105', 'Junior156', 'Senior1625', 'Junior964', 'Junior256', 'Junior150', 'Junior852', 'Junior1086', 'Junior1176', 'Junior182', 'Intermediate1437', 'Junior113', 'Junior896', 'Junior237', 'Intermediate1487', 'Senior1786', 'Junior637', 'Intermediate1412', 'Junior871', 'Intermediate1494', 'Junior412', 'Intermediate1556', 'Junior913', 'Senior1978', 'Junior909', 'Junior1157', 'Junior155', 'Intermediate1500', 'Senior1784', 'Intermediate1348', 'Junior629', 'Junior543', 'Intermediate1435', 'Intermediate1367', 'Junior605', 'Junior579', 'Junior1153', 'Intermediate1557', 'Senior1609', 'Intermediate1415', 'Junior243', 'Intermediate1335', 'Senior1994', 'Intermediate1577', 'Junior957', 'Junior1132', 'Junior641', 'Junior687', 'Intermediate1557', 'Intermediate1208', 'Senior1747', 'Junior893', 'Junior1160', 'Intermediate1327', 'Intermediate1595', 'Junior985', 'Junior905', 'Junior1164', 'Senior1711', 'Junior1177', 'Senior1814', 'Junior658', 'Senior1838', 'Intermediate1544', 'Junior638', 'Junior1016', 'Senior1672', 'Junior316', 'Junior286', 'Intermediate1299', 'Senior1939', 'Senior1938', 'Senior1921', 'Junior177', 'Junior273', 'Senior1956', 'Intermediate1488', 'Intermediate1522', 'Junior378', 'Junior429', 'Intermediate1279', 'Junior246', 'Junior929', 'Intermediate1230', 'Junior884', 'Senior1993', 'Senior1751', 'Junior139', 'Junior857', 'Intermediate1567', 'Junior1081', 'Junior141', 'Senior1897', 'Intermediate1206', 'Junior1121', 'Junior156', 'Senior1751', 'Senior1679', 'Intermediate1234', 'Junior292', 'Senior1896', 'Junior526', 'Intermediate1401', 'Junior618', 'Junior839', 'Senior1622', 'Junior961', 'Intermediate1324', 'Junior796', 'Junior256', 'Intermediate1487', 'Senior1734', 'Senior1634', 'Junior332', 'Intermediate1273', 'Intermediate1269', 'Junior575', 'Junior131', 'Junior206', 'Intermediate1460', 'Senior1899', 'Intermediate1497', 'Senior1629', 'Senior1976', 'Senior1772', 'Intermediate1276', 'Junior160', 'Junior427', 'Senior1838', 'Junior933', 'Junior1142', 'Intermediate1215', 'Intermediate1469', 'Intermediate1434', 'Junior1118', 'Junior277', 'Senior1894', 'Junior324', 'Junior819', 'Intermediate1254', 'Junior426', 'Junior360', 'Junior846', 'Intermediate1568', 'Junior767', 'Junior183', 'Junior792', 'Intermediate1294', 'Intermediate1308', 'Junior620', 'Junior913', 'Intermediate1256', 'Intermediate1411', 'Junior215', 'Senior1757', 'Junior727', 'Senior1665', 'Junior394', 'Intermediate1516', 'Junior707', 'Junior376', 'Intermediate1457', 'Junior380', 'Junior809', 'Junior162', 'Junior1065', 'Senior1700', 'Intermediate1218', 'Junior297', 'Junior175', 'Senior1748', 'Junior714', 'Junior908', 'Junior351', 'Intermediate1552', 'Senior1817', 'Junior169', 'Senior1997', 'Junior431', 'Junior327', 'Junior220', 'Junior738', 'Senior1670', 'Senior1685', 'Junior296', 'Junior710', 'Junior211', 'Junior243', 'Junior108', 'Junior1098', 'Senior1912', 'Junior112', 'Junior572', 'Junior902', 'Intermediate1202', 'Junior1049', 'Junior569', 'Intermediate1542', 'Junior1084', 'Junior731', 'Intermediate1586', 'Junior493', 'Junior344', 'Junior723', 'Junior725', 'Senior1852', 'Junior884', 'Intermediate1234', 'Senior1903', 'Junior1126', 'Intermediate1472', 'Intermediate1240', 'Intermediate1208', 'Junior885', 'Senior1847', 'Junior251', 'Senior1926', 'Junior1121', 'Junior247', 'Junior366', 'Intermediate1375', 'Senior1619', 'Junior1078', 'Junior858', 'Senior1987', 'Junior957', 'Intermediate1447', 'Senior1824', 'Intermediate1585', 'Junior906', 'Intermediate1246', 'Junior268', 'Junior158', 'Intermediate1439', 'Junior1101', 'Junior161', 'Junior1029', 'Junior1184', 'Junior348', 'Senior1848', 'Junior681', 'Junior239', 'Senior1686', 'Junior738', 'Junior174', 'Intermediate1245', 'Junior225', 'Junior819', 'Senior1689', 'Intermediate1516', 'Intermediate1298', 'Junior114', 'Senior1946', 'Intermediate1221', 'Junior1058', 'Junior1129', 'Senior1674', 'Intermediate1409', 'Junior754', 'Senior1996', 'Junior329', 'Junior1015', 'Intermediate1288', 'Junior1048', 'Junior109', 'Intermediate1230', 'Junior615', 'Junior986', 'Junior454', 'Senior1755', 'Senior1826', 'Junior1118', 'Junior198', 'Junior528', 'Junior1185', 'Intermediate1373', 'Junior1060', 'Junior777', 'Junior220', 'Senior1671', 'Intermediate1270', 'Junior457', 'Junior439', 'Junior865', 'Intermediate1343', 'Intermediate1310', 'Junior477', 'Senior1833', 'Junior134', 'Senior1850', 'Junior381', 'Junior1114', 'Junior693', 'Junior1145', 'Intermediate1434', 'Intermediate1596', 'Junior234', 'Junior488', 'Junior443', 'Junior223', 'Intermediate1339', 'Junior892', 'Junior722', 'Junior141', 'Junior379', 'Junior125', 'Senior1812', 'Intermediate1378', 'Junior228', 'Intermediate1368', 'Junior118', 'Junior219', 'Junior655', 'Junior869', 'Junior261', 'Senior1735', 'Senior1959', 'Junior766', 'Intermediate1453', 'Junior692', 'Senior1899', 'Junior1010', 'Senior1675', 'Junior918', 'Senior1727', 'Intermediate1575', 'Intermediate1296', 'Intermediate1547', 'Senior1985', 'Junior957', 'Junior824', 'Junior298', 'Intermediate1332', 'Intermediate1467', 'Senior1867', 'Senior1709', 'Senior1947', 'Junior593', 'Junior544', 'Junior913', 'Junior621', 'Junior158', 'Intermediate1401', 'Junior1073', 'Junior757', 'Intermediate1357', 'Senior1639', 'Senior1793', 'Junior1177', 'Junior414', 'Intermediate1590', 'Junior721', 'Junior1157', 'Intermediate1482', 'Intermediate1350', 'Junior680', 'Junior142', 'Junior496', 'Senior1626', 'Junior181', 'Junior828', 'Junior318', 'Junior1052', 'Senior1798', 'Junior956', 'Senior1972', 'Junior651', 'Junior851', 'Intermediate1511', 'Junior155', 'Senior1829', 'Intermediate1311', 'Junior580', 'Junior864', 'Junior181', 'Intermediate1439', 'Junior369', 'Intermediate1532', 'Junior1053', 'Junior281', 'Intermediate1599', 'Senior1601', 'Junior1064', 'Intermediate1546', 'Intermediate1589', 'Junior217', 'Junior623', 'Junior980', 'Junior154', 'Junior464', 'Junior473', 'Intermediate1254', 'Junior736', 'Intermediate1209', 'Junior356', 'Intermediate1366', 'Junior677', 'Junior1194', 'Senior1689', 'Junior263', 'Intermediate1576', 'Senior1800', 'Intermediate1347', 'Senior1742', 'Junior450', 'Junior1029', 'Junior506', 'Junior1049', 'Senior1895', 'Junior1032', 'Junior731', 'Junior1188', 'Senior1713', 'Intermediate1501', 'Intermediate1249', 'Junior764', 'Junior991', 'Senior1977', 'Junior1083', 'Junior1170', 'Junior842', 'Intermediate1470', 'Junior530', 'Junior1119', 'Junior124', 'Intermediate1332', 'Intermediate1323', 'Senior1866', 'Intermediate1211', 'Intermediate1352', 'Junior1068', 'Junior1078', 'Junior1131', 'Senior1894', 'Junior497', 'Junior692', 'Intermediate1383', 'Junior979', 'Junior579', 'Junior898', 'Junior324', 'Junior503', 'Intermediate1499', 'Intermediate1596', 'Junior518', 'Junior459', 'Junior969', 'Junior892', 'Junior902', 'Intermediate1426', 'Junior281', 'Intermediate1480', 'Senior1609', 'Senior1811', 'Junior809', 'Senior1795', 'Junior1197', 'Intermediate1429', 'Junior495', 'Intermediate1482', 'Senior1987', 'Senior1805', 'Senior1882', 'Junior865', 'Junior1169', 'Junior591', 'Junior412', 'Senior1718', 'Intermediate1484', 'Senior1840', 'Senior1980', 'Intermediate1537', 'Junior449', 'Intermediate1496', 'Intermediate1495', 'Junior380', 'Junior736', 'Intermediate1516', 'Senior1955', 'Junior1143', 'Junior1181', 'Intermediate1295', 'Senior1893', 'Junior200', 'Junior1007', 'Junior823', 'Senior1623', 'Junior503', 'Junior132', 'Junior1118', 'Senior1872', 'Junior995', 'Intermediate1534', 'Junior168', 'Intermediate1288', 'Senior1862', 'Junior799', 'Junior851', 'Junior299', 'Junior905', 'Intermediate1487', 'Intermediate1448', 'Junior211', 'Junior737', 'Junior919', 'Junior300', 'Junior607', 'Intermediate1597', 'Junior230', 'Intermediate1330', 'Junior198', 'Intermediate1447', 'Senior1698', 'Junior1182', 'Junior103', 'Junior992', 'Junior1131', 'Junior474', 'Intermediate1432', 'Intermediate1599', 'Junior1012', 'Junior727', 'Junior1113', 'Intermediate1368', 'Intermediate1447', 'Intermediate1455', 'Junior469', 'Junior1037', 'Senior1953', 'Junior1033', 'Junior1048', 'Junior559', 'Junior458', 'Senior1640', 'Junior785', 'Junior448', 'Junior894', 'Senior1880', 'Junior795', 'Junior1190', 'Junior679', 'Junior563', 'Junior442', 'Intermediate1284', 'Junior1089', 'Junior479', 'Junior1167', 'Senior1615', 'Junior143', 'Senior1927', 'Junior1103', 'Junior407', 'Junior496', 'Senior1630', 'Intermediate1244', 'Junior1183', 'Junior418', 'Junior640', 'Junior119', 'Junior1151', 'Junior527', 'Intermediate1523', 'Junior827', 'Junior734', 'Junior1123', 'Junior933', 'Junior450', 'Junior772', 'Junior723', 'Junior1110', 'Junior674', 'Junior152', 'Junior460', 'Junior641', 'Junior866', 'Intermediate1463', 'Junior547', 'Intermediate1340', 'Senior1710', 'Junior783', 'Junior891', 'Junior1161', 'Senior1922', 'Senior1990', 'Intermediate1460', 'Junior607', 'Junior529', 'Junior228', 'Junior1195', 'Junior1063', 'Senior1712', 'Senior1913', 'Junior388', 'Junior253', 'Junior1178', 'Intermediate1212', 'Junior980', 'Junior755', 'Junior704', 'Junior461', 'Senior1634', 'Junior493', 'Junior858', 'Junior383', 'Junior1077', 'Junior844', 'Junior499', 'Junior1041', 'Senior1627', 'Senior1637', 'Senior1829', 'Intermediate1423', 'Junior383', 'Intermediate1235', 'Junior339', 'Junior990', 'Senior1974', 'Junior1001', 'Junior1194', 'Junior1004', 'Junior368', 'Junior726', 'Senior1665', 'Junior640', 'Senior1696', 'Junior114', 'Senior1673', 'Junior803', 'Senior1826', 'Intermediate1342', 'Junior1129', 'Junior774', 'Junior957', 'Junior651', 'Junior637', 'Senior1716', 'Junior520', 'Junior477', 'Junior243', 'Junior997', 'Junior1152', 'Intermediate1549', 'Junior863', 'Intermediate1361', 'Junior158', 'Intermediate1247', 'Senior1935', 'Junior183', 'Senior1989', 'Intermediate1528', 'Intermediate1256', 'Junior267', 'Junior408', 'Junior200', 'Senior1801', 'Junior611', 'Junior1085', 'Junior632', 'Junior471', 'Senior1682', 'Senior1770', 'Senior1668', 'Intermediate1453', 'Intermediate1278', 'Senior1873', 'Intermediate1229', 'Junior930', 'Junior290', 'Junior550', 'Senior1962', 'Junior901', 'Junior1101', 'Intermediate1566', 'Intermediate1462', 'Junior1153', 'Junior1138', 'Senior1696', 'Senior1948', 'Intermediate1493', 'Intermediate1315', 'Intermediate1202', 'Junior852', 'Junior915', 'Junior804', 'Junior1192', 'Intermediate1229', 'Intermediate1253', 'Junior676', 'Senior1928']\n"
     ]
    }
   ],
   "source": [
    "import random as rn\n",
    "jrn = 'Junior'\n",
    "itm = 'Intermediate'\n",
    "srn = 'Senior'\n",
    "li = []\n",
    "\n",
    "counter = 1\n",
    "while counter <= 500:\n",
    "    n = rn.randint(100,2001)\n",
    "    strn = str(n)\n",
    "    \n",
    "    if n >= 100 and n <= 1200:\n",
    "        li.append(jrn + strn)\n",
    "    elif n >= 1201 and n <= 1600:\n",
    "        li.append(itm + strn)\n",
    "    else:\n",
    "        li.append(srn + strn)\n",
    "        \n",
    "        \n",
    "        counter +=1\n",
    "print(li)\n"
   ]
  },
  {
   "cell_type": "code",
   "execution_count": 3,
   "metadata": {},
   "outputs": [
    {
     "name": "stdout",
     "output_type": "stream",
     "text": [
      "CANDIDATE DETAILS\n",
      "Name: Simeon Taiwo\n",
      "Gender: Male\n",
      "Age: 28\n",
      "\n",
      "Congratulations, you are eligible to vote\n"
     ]
    }
   ],
   "source": [
    "# FUNCTION with more than one parameter\n",
    "def person(name,gender,age):\n",
    "    print(f'''CANDIDATE DETAILS\n",
    "Name: {name}\n",
    "Gender: {gender}\n",
    "Age: {age}\n",
    "''')\n",
    "    if age >= 18:\n",
    "        print('Congratulations, you are eligible to vote')\n",
    "    else:\n",
    "        print('OOPA! sorry you are below the required age, you are not eligible to vote')\n",
    "person('Simeon Taiwo', 'Male', 28)\n",
    "\n"
   ]
  },
  {
   "cell_type": "code",
   "execution_count": 8,
   "metadata": {},
   "outputs": [
    {
     "ename": "AttributeError",
     "evalue": "'function' object has no attribute 'vr'",
     "output_type": "error",
     "traceback": [
      "\u001b[1;31m---------------------------------------------------------------------------\u001b[0m",
      "\u001b[1;31mAttributeError\u001b[0m                            Traceback (most recent call last)",
      "\u001b[1;32m<ipython-input-8-c31f93d4c1be>\u001b[0m in \u001b[0;36m<module>\u001b[1;34m\u001b[0m\n\u001b[1;32m----> 1\u001b[1;33m \u001b[0mprint\u001b[0m\u001b[1;33m(\u001b[0m\u001b[0mperson\u001b[0m\u001b[1;33m.\u001b[0m\u001b[0mvr\u001b[0m\u001b[1;33m)\u001b[0m\u001b[1;33m\u001b[0m\u001b[1;33m\u001b[0m\u001b[0m\n\u001b[0m",
      "\u001b[1;31mAttributeError\u001b[0m: 'function' object has no attribute 'vr'"
     ]
    }
   ],
   "source": []
  },
  {
   "cell_type": "code",
   "execution_count": null,
   "metadata": {},
   "outputs": [],
   "source": []
  }
 ],
 "metadata": {
  "kernelspec": {
   "display_name": "Python 3",
   "language": "python",
   "name": "python3"
  },
  "language_info": {
   "codemirror_mode": {
    "name": "ipython",
    "version": 3
   },
   "file_extension": ".py",
   "mimetype": "text/x-python",
   "name": "python",
   "nbconvert_exporter": "python",
   "pygments_lexer": "ipython3",
   "version": "3.8.5"
  }
 },
 "nbformat": 4,
 "nbformat_minor": 4
}
