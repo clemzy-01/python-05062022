{
 "cells": [
  {
   "cell_type": "code",
   "execution_count": 1,
   "metadata": {},
   "outputs": [],
   "source": [
    "import datetime as dt\n"
   ]
  },
  {
   "cell_type": "code",
   "execution_count": 3,
   "metadata": {},
   "outputs": [
    {
     "name": "stdout",
     "output_type": "stream",
     "text": [
      "['MAXYEAR', 'MINYEAR', '__builtins__', '__cached__', '__doc__', '__file__', '__loader__', '__name__', '__package__', '__spec__', 'date', 'datetime', 'datetime_CAPI', 'sys', 'time', 'timedelta', 'timezone', 'tzinfo']\n"
     ]
    }
   ],
   "source": [
    "print(dir(dt))"
   ]
  },
  {
   "cell_type": "code",
   "execution_count": 9,
   "metadata": {},
   "outputs": [],
   "source": [
    "from datetime import date"
   ]
  },
  {
   "cell_type": "code",
   "execution_count": 10,
   "metadata": {},
   "outputs": [
    {
     "data": {
      "text/plain": [
       "datetime.date(2022, 6, 10)"
      ]
     },
     "execution_count": 10,
     "metadata": {},
     "output_type": "execute_result"
    }
   ],
   "source": [
    "date.today()"
   ]
  },
  {
   "cell_type": "code",
   "execution_count": 11,
   "metadata": {},
   "outputs": [
    {
     "data": {
      "text/plain": [
       "2022"
      ]
     },
     "execution_count": 11,
     "metadata": {},
     "output_type": "execute_result"
    }
   ],
   "source": [
    "date.today().year"
   ]
  },
  {
   "cell_type": "code",
   "execution_count": 12,
   "metadata": {},
   "outputs": [
    {
     "data": {
      "text/plain": [
       "10"
      ]
     },
     "execution_count": 12,
     "metadata": {},
     "output_type": "execute_result"
    }
   ],
   "source": [
    "date.today().day"
   ]
  },
  {
   "cell_type": "code",
   "execution_count": 13,
   "metadata": {},
   "outputs": [
    {
     "data": {
      "text/plain": [
       "6"
      ]
     },
     "execution_count": 13,
     "metadata": {},
     "output_type": "execute_result"
    }
   ],
   "source": [
    "date.today().month"
   ]
  },
  {
   "cell_type": "code",
   "execution_count": 14,
   "metadata": {},
   "outputs": [],
   "source": [
    "# Creating a manual date: NOTE; when creating a manual date the format used is YYYY/MM/DD\n",
    "date1 = dt.date(2022,2,22)"
   ]
  },
  {
   "cell_type": "code",
   "execution_count": 15,
   "metadata": {},
   "outputs": [
    {
     "name": "stdout",
     "output_type": "stream",
     "text": [
      "2022\n",
      "2\n",
      "22\n"
     ]
    }
   ],
   "source": [
    "print(date1.year)\n",
    "print(date1.month)\n",
    "print(date1.day)"
   ]
  },
  {
   "cell_type": "code",
   "execution_count": 16,
   "metadata": {},
   "outputs": [
    {
     "data": {
      "text/plain": [
       "datetime.date(2022, 6, 10)"
      ]
     },
     "execution_count": 16,
     "metadata": {},
     "output_type": "execute_result"
    }
   ],
   "source": [
    "## How to get current date\n",
    "currentdate = dt.date.today()\n",
    "currentdate"
   ]
  },
  {
   "cell_type": "markdown",
   "metadata": {},
   "source": [
    "# How to modify date using the strftime"
   ]
  },
  {
   "cell_type": "code",
   "execution_count": 17,
   "metadata": {},
   "outputs": [
    {
     "data": {
      "text/plain": [
       "'Friday'"
      ]
     },
     "execution_count": 17,
     "metadata": {},
     "output_type": "execute_result"
    }
   ],
   "source": [
    "currentdate.strftime('%A')"
   ]
  },
  {
   "cell_type": "code",
   "execution_count": 18,
   "metadata": {},
   "outputs": [
    {
     "data": {
      "text/plain": [
       "'Fri'"
      ]
     },
     "execution_count": 18,
     "metadata": {},
     "output_type": "execute_result"
    }
   ],
   "source": [
    "currentdate.strftime('%a')"
   ]
  },
  {
   "cell_type": "code",
   "execution_count": 19,
   "metadata": {},
   "outputs": [
    {
     "data": {
      "text/plain": [
       "'June'"
      ]
     },
     "execution_count": 19,
     "metadata": {},
     "output_type": "execute_result"
    }
   ],
   "source": [
    "currentdate.strftime('%B')"
   ]
  },
  {
   "cell_type": "code",
   "execution_count": 20,
   "metadata": {},
   "outputs": [
    {
     "data": {
      "text/plain": [
       "'Jun'"
      ]
     },
     "execution_count": 20,
     "metadata": {},
     "output_type": "execute_result"
    }
   ],
   "source": [
    "currentdate.strftime('%b')"
   ]
  },
  {
   "cell_type": "code",
   "execution_count": 22,
   "metadata": {},
   "outputs": [
    {
     "data": {
      "text/plain": [
       "'161'"
      ]
     },
     "execution_count": 22,
     "metadata": {},
     "output_type": "execute_result"
    }
   ],
   "source": [
    "currentdate.strftime('%j')"
   ]
  },
  {
   "cell_type": "code",
   "execution_count": 23,
   "metadata": {},
   "outputs": [
    {
     "data": {
      "text/plain": [
       "'10 June,2022'"
      ]
     },
     "execution_count": 23,
     "metadata": {},
     "output_type": "execute_result"
    }
   ],
   "source": [
    "currentdate.strftime('%d %B,%Y')"
   ]
  },
  {
   "cell_type": "code",
   "execution_count": 24,
   "metadata": {},
   "outputs": [
    {
     "data": {
      "text/plain": [
       "'10 June, 2022'"
      ]
     },
     "execution_count": 24,
     "metadata": {},
     "output_type": "execute_result"
    }
   ],
   "source": [
    "date.today().strftime('%d %B, %Y')"
   ]
  },
  {
   "cell_type": "markdown",
   "metadata": {},
   "source": [
    "# How to get current time"
   ]
  },
  {
   "cell_type": "code",
   "execution_count": 25,
   "metadata": {},
   "outputs": [
    {
     "data": {
      "text/plain": [
       "datetime.time(10, 59, 51, 166682)"
      ]
     },
     "execution_count": 25,
     "metadata": {},
     "output_type": "execute_result"
    }
   ],
   "source": [
    "currenttime = dt.datetime.now().time()\n",
    "currenttime"
   ]
  },
  {
   "cell_type": "code",
   "execution_count": 30,
   "metadata": {},
   "outputs": [
    {
     "data": {
      "text/plain": [
       "'10'"
      ]
     },
     "execution_count": 30,
     "metadata": {},
     "output_type": "execute_result"
    }
   ],
   "source": [
    "currenttime.strftime('%H')"
   ]
  },
  {
   "cell_type": "code",
   "execution_count": 32,
   "metadata": {},
   "outputs": [
    {
     "data": {
      "text/plain": [
       "'51'"
      ]
     },
     "execution_count": 32,
     "metadata": {},
     "output_type": "execute_result"
    }
   ],
   "source": [
    "currenttime.strftime('%S')"
   ]
  },
  {
   "cell_type": "code",
   "execution_count": 34,
   "metadata": {},
   "outputs": [
    {
     "data": {
      "text/plain": [
       "'59'"
      ]
     },
     "execution_count": 34,
     "metadata": {},
     "output_type": "execute_result"
    }
   ],
   "source": [
    "currenttime.strftime('%M')"
   ]
  },
  {
   "cell_type": "code",
   "execution_count": 35,
   "metadata": {},
   "outputs": [
    {
     "data": {
      "text/plain": [
       "'166682'"
      ]
     },
     "execution_count": 35,
     "metadata": {},
     "output_type": "execute_result"
    }
   ],
   "source": [
    "currenttime.strftime('%f')"
   ]
  },
  {
   "cell_type": "code",
   "execution_count": 36,
   "metadata": {},
   "outputs": [
    {
     "data": {
      "text/plain": [
       "'10'"
      ]
     },
     "execution_count": 36,
     "metadata": {},
     "output_type": "execute_result"
    }
   ],
   "source": [
    "currenttime.strftime('%I')"
   ]
  },
  {
   "cell_type": "code",
   "execution_count": 38,
   "metadata": {},
   "outputs": [
    {
     "data": {
      "text/plain": [
       "'10 : 59 AM'"
      ]
     },
     "execution_count": 38,
     "metadata": {},
     "output_type": "execute_result"
    }
   ],
   "source": [
    "currenttime.strftime('%H : %M %p')"
   ]
  },
  {
   "cell_type": "code",
   "execution_count": 39,
   "metadata": {},
   "outputs": [
    {
     "data": {
      "text/plain": [
       "datetime.date(2022, 11, 7)"
      ]
     },
     "execution_count": 39,
     "metadata": {},
     "output_type": "execute_result"
    }
   ],
   "source": [
    "# The difference between two dates or two times is 'timedelta' which can be checked with secs, minisecs,microsec, minutes, hours, days etc.\n",
    "tdelta = dt.timedelta(days = 150)\n",
    "currentdate + tdelta"
   ]
  },
  {
   "cell_type": "code",
   "execution_count": 43,
   "metadata": {},
   "outputs": [],
   "source": [
    "from datetime import time"
   ]
  },
  {
   "cell_type": "code",
   "execution_count": 45,
   "metadata": {},
   "outputs": [
    {
     "name": "stdout",
     "output_type": "stream",
     "text": [
      "['__class__', '__delattr__', '__dir__', '__doc__', '__eq__', '__format__', '__ge__', '__getattribute__', '__gt__', '__hash__', '__init__', '__init_subclass__', '__le__', '__lt__', '__ne__', '__new__', '__reduce__', '__reduce_ex__', '__repr__', '__setattr__', '__sizeof__', '__str__', '__subclasshook__', 'dst', 'fold', 'fromisoformat', 'hour', 'isoformat', 'max', 'microsecond', 'min', 'minute', 'replace', 'resolution', 'second', 'strftime', 'tzinfo', 'tzname', 'utcoffset']\n"
     ]
    }
   ],
   "source": [
    "print(dir(time))"
   ]
  },
  {
   "cell_type": "code",
   "execution_count": 52,
   "metadata": {},
   "outputs": [
    {
     "data": {
      "text/plain": [
       "datetime.date(2025, 4, 25)"
      ]
     },
     "execution_count": 52,
     "metadata": {},
     "output_type": "execute_result"
    }
   ],
   "source": [
    "#to get the date of the next 150 weeks\n",
    "tdelta = dt.timedelta(weeks = 150)\n",
    "currentdate + tdelta"
   ]
  },
  {
   "cell_type": "code",
   "execution_count": 54,
   "metadata": {},
   "outputs": [
    {
     "data": {
      "text/plain": [
       "datetime.date(2022, 6, 10)"
      ]
     },
     "execution_count": 54,
     "metadata": {},
     "output_type": "execute_result"
    }
   ],
   "source": [
    "currentdate"
   ]
  },
  {
   "cell_type": "code",
   "execution_count": 55,
   "metadata": {},
   "outputs": [
    {
     "data": {
      "text/plain": [
       "datetime.date(2025, 4, 25)"
      ]
     },
     "execution_count": 55,
     "metadata": {},
     "output_type": "execute_result"
    }
   ],
   "source": [
    "currentdate + dt.timedelta(weeks = 150)"
   ]
  },
  {
   "cell_type": "code",
   "execution_count": 56,
   "metadata": {},
   "outputs": [
    {
     "data": {
      "text/plain": [
       "datetime.time(10, 59, 51, 166682)"
      ]
     },
     "execution_count": 56,
     "metadata": {},
     "output_type": "execute_result"
    }
   ],
   "source": [
    "currenttime"
   ]
  },
  {
   "cell_type": "code",
   "execution_count": 61,
   "metadata": {},
   "outputs": [
    {
     "name": "stdout",
     "output_type": "stream",
     "text": [
      "Please enter your birthday(yy/dd/mm): 2022/10/06\n",
      "2022-06-10 00:00:00\n"
     ]
    }
   ],
   "source": [
    "date2 = input('Please enter your birthday(yy/dd/mm): ')\n",
    "cdate = dt.datetime.strptime(date2, '%Y/%d/%m')\n",
    "print(cdate)"
   ]
  },
  {
   "cell_type": "code",
   "execution_count": 63,
   "metadata": {},
   "outputs": [
    {
     "name": "stdout",
     "output_type": "stream",
     "text": [
      "Please enter your birthday(yy/dd/mm): 1975/24/08\n",
      "1975-08-24\n"
     ]
    }
   ],
   "source": [
    "date2 = input('Please enter your birthday(yy/dd/mm): ')\n",
    "cdate = dt.datetime.strptime(date2, '%Y/%d/%m').date()\n",
    "print(cdate)"
   ]
  },
  {
   "cell_type": "code",
   "execution_count": 77,
   "metadata": {},
   "outputs": [
    {
     "name": "stdout",
     "output_type": "stream",
     "text": [
      "Please enter your Next appointment date (dd/mm/yy): 10/03/2023\n",
      "39 days, 0:00:00 weeks\n"
     ]
    }
   ],
   "source": [
    "# Exercise\n",
    "## Collect a data from a user and write a program to return how many weeks and days they haveleft until their next appointment from the current date\n",
    "\n",
    "clientinfo = input('Please enter your Next appointment date (dd/mm/yy): ')\n",
    "nxtapp = dt.datetime.strptime(clientinfo, '%d/%m/%Y').date()\n",
    "diff = nxtapp - currentdate\n",
    "inwks = diff / 7\n",
    "print(f'{inwks} weeks')"
   ]
  },
  {
   "cell_type": "code",
   "execution_count": 79,
   "metadata": {},
   "outputs": [
    {
     "name": "stdout",
     "output_type": "stream",
     "text": [
      "Please enter your name: Martins\n",
      "Please enter your appointment date in the format (dd/mm/yy): 10/02/2023\n",
      "Hey Martins you have 34 weeks and 6 days until your appointment.\n"
     ]
    }
   ],
   "source": [
    "# Exercise\n",
    "## Collect a data from a user and write a program to return how many weeks and days they haveleft until their next appointment from the current date\n",
    "\n",
    "# SOLUTION\n",
    "\n",
    "name = input('Please enter your name: ')\n",
    "strdate = input('Please enter your appointment date in the format (dd/mm/yy): ')\n",
    "Tnodays = 0\n",
    "nodays = 0\n",
    "noweeks = 0\n",
    "currentdate = dt.datetime.today()\n",
    "Appointmentdate = dt.datetime.strptime(strdate, '%d/%m/%Y')\n",
    "Tnodays = Appointmentdate - currentdate\n",
    "noweeks = Tnodays.days // 7 #Note: '//' double division sign means integer division( to divide and return value in whole number)\n",
    "nodays = Tnodays.days % 7 #to look for the remainder which will be used as days\n",
    "print(f'Hey {name} you have {noweeks} weeks and {nodays} days until your appointment.')"
   ]
  },
  {
   "cell_type": "code",
   "execution_count": null,
   "metadata": {},
   "outputs": [
    {
     "name": "stdout",
     "output_type": "stream",
     "text": [
      "\n",
      "\n",
      "*****WELCOME TO HOTEl DE SUAREZ*****\n",
      "\n",
      "1.Enter Customer Data\n",
      "2.Calculate Room Rent\n",
      "3.Calculate Food Purchased\n",
      "4.Show total cost\n",
      "5.EXIT\n",
      "\n",
      "Enter the number of your choice:1\n"
     ]
    }
   ],
   "source": [
    "class hotelmanage:\n",
    " \n",
    "    def __init__(self,rt='',s=0,p=0,r=0,t=0,a=1000,name='',address='',cindate='',coutdate='',rno=1):\n",
    " \n",
    "        print (\"\\n\\n*****WELCOME TO HOTEl DE SUAREZ*****\\n\")\n",
    " \n",
    "        self.rt=rt\n",
    " \n",
    "        self.r=r\n",
    " \n",
    "        self.t=t\n",
    " \n",
    "        self.p=p\n",
    " \n",
    "        self.s=s\n",
    "        self.a=a\n",
    "        self.name=name\n",
    "        self.address=address\n",
    "        self.cindate=cindate\n",
    "        self.coutdate=coutdate\n",
    "        self.rno=rno\n",
    "    def inputdata(self):\n",
    "        self.name=input(\"\\nEnter your Fullname:\")\n",
    "        self.address=input(\"\\nEnter your address:\")\n",
    "        self.cindate=input(\"\\nEnter your check in date:\")\n",
    "        self.coutdate=input(\"\\nEnter your checkout date:\")\n",
    "        print(\"Your room no.:\",self.rno,\"\\n\")\n",
    "        \n",
    "    def roomrent(self):#sel1353\n",
    " \n",
    "        print (\"We have the following rooms for you:-\")\n",
    " \n",
    "        print (\"1.  Class A----&gt;4000\")\n",
    " \n",
    "        print (\"2.  Class B----&gt;3000\")\n",
    " \n",
    "        print (\"3.  Class C----&gt;2000\")\n",
    " \n",
    "        print (\"4.  Class D----&gt;1000\")\n",
    " \n",
    "        x=int(input(\"Enter the number of your choice Please-&gt;\"))\n",
    " \n",
    "        n=int(input(\"For How Many Nights Did You Stay:\"))\n",
    " \n",
    "        if(x==1):\n",
    " \n",
    "            print (\"you have choose room Class A\")\n",
    " \n",
    "            self.s=4000*n\n",
    " \n",
    "        elif (x==2):\n",
    " \n",
    "            print (\"you have choose room Class B\")\n",
    " \n",
    "            self.s=3000*n\n",
    " \n",
    "        elif (x==3):\n",
    " \n",
    "            print (\"you have choose room Class C\")\n",
    " \n",
    "            self.s=2000*n\n",
    " \n",
    "        elif (x==4):\n",
    "            print (\"you have choose room Class D\")\n",
    " \n",
    "            self.s=1000*n\n",
    " \n",
    "        else:\n",
    " \n",
    "            print (\"please choose a room\")\n",
    " \n",
    "        print (\"your choosen room rent is =\",self.s,\"\\n\")\n",
    " \n",
    "    def foodpurchased(self):\n",
    " \n",
    "        print(\"*****RESTAURANT MENU*****\")\n",
    " \n",
    "        print(\"1.Dessert-----&gt;100\",\"2.Drinks-----&gt;50\",\"3.Breakfast---&gt;90\",\"4.Lunch----&gt;110\",\"5.Dinner---&gt;150\",\"6.Exit\")\n",
    " \n",
    " \n",
    "        while (1):\n",
    " \n",
    "            c=int(input(\"Enter the number of your choice:\"))\n",
    " \n",
    " \n",
    "            if (c==1):\n",
    "                d=int(input(\"Enter the quantity:\"))\n",
    "                self.r=self.r+100*d\n",
    " \n",
    "            elif (c==2):\n",
    "                 d=int(input(\"Enter the quantity:\"))\n",
    "                 self.r=self.r+50*d\n",
    " \n",
    "            elif (c==3):\n",
    "                 d=int(input(\"Enter the quantity:\"))\n",
    "                 self.r=self.r+90*d\n",
    " \n",
    "            elif (c==4):\n",
    "                 d=int(input(\"Enter the quantity:\"))\n",
    "                 self.r=self.r+110*d\n",
    " \n",
    "            elif (c==5):\n",
    "                 d=int(input(\"Enter the quantity:\"))\n",
    "                 self.r=self.r+150*d\n",
    " \n",
    "            elif (c==6):\n",
    "                break;\n",
    "            else:\n",
    "                print(\"You've Enter an Invalid Key\")\n",
    " \n",
    "        print (\"Total food Cost=Rs\",self.r,\"\\n\")\n",
    " \n",
    " \n",
    " \n",
    "    def display(self):\n",
    "        print (\"******HOTEL BILL******\")\n",
    "        print (\"Customer details:\")\n",
    "        print (\"Customer name:\",self.name)\n",
    "        print (\"Customer address:\",self.address)\n",
    "        print (\"Check in date:\",self.cindate)\n",
    "        print (\"Check out date\",self.coutdate)\n",
    "        print (\"Room no.\",self.rno)\n",
    "        print (\"Your Room rent is:\",self.s)\n",
    "        print (\"Your Food bill is:\",self.r)\n",
    " \n",
    "        self.rt=self.s+self.t+self.p+self.r\n",
    " \n",
    "        print (\"Your sub total Purchased is:\",self.rt)\n",
    "        print (\"Additional Service Charges is\",self.a)\n",
    "        print (\"Your grandtotal Purchased is:\",self.rt+self.a,\"\\n\")\n",
    "        self.rno+=1\n",
    " \n",
    "            \n",
    " \n",
    "        \n",
    " \n",
    "        \n",
    " \n",
    "def main():\n",
    " \n",
    "    a=hotelmanage()\n",
    "    \n",
    " \n",
    "    while (1):\n",
    "        print(\"1.Enter Customer Data\")\n",
    "        \n",
    "        print(\"2.Calculate Room Rent\")\n",
    " \n",
    "        print(\"3.Calculate Food Purchased\")\n",
    " \n",
    "        print(\"4.Show total cost\")\n",
    " \n",
    "        print(\"5.EXIT\")\n",
    " \n",
    "        b=int(input(\"\\nEnter the number of your choice:\"))\n",
    "        if (b==1):\n",
    "            a.inputdata()\n",
    " \n",
    "        if (b==2):\n",
    " \n",
    "            a.roomrent()\n",
    " \n",
    "        if (b==3):\n",
    " \n",
    "            a.foodpurchased()\n",
    " \n",
    "        if (b==4):\n",
    " \n",
    "            a.display()\n",
    " \n",
    "        if (b==5):\n",
    " \n",
    "            quit()\n",
    " \n",
    " \n",
    " \n",
    "main()"
   ]
  },
  {
   "cell_type": "code",
   "execution_count": null,
   "metadata": {},
   "outputs": [],
   "source": []
  }
 ],
 "metadata": {
  "kernelspec": {
   "display_name": "Python 3",
   "language": "python",
   "name": "python3"
  },
  "language_info": {
   "codemirror_mode": {
    "name": "ipython",
    "version": 3
   },
   "file_extension": ".py",
   "mimetype": "text/x-python",
   "name": "python",
   "nbconvert_exporter": "python",
   "pygments_lexer": "ipython3",
   "version": "3.8.5"
  }
 },
 "nbformat": 4,
 "nbformat_minor": 4
}
