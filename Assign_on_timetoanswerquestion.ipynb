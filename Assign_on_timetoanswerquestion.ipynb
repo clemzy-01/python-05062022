{
 "cells": [
  {
   "cell_type": "code",
   "execution_count": 1,
   "metadata": {},
   "outputs": [
    {
     "name": "stdout",
     "output_type": "stream",
     "text": [
      "Answer true or false in every Qst\n",
      "\n",
      "Qst 1. Early Code is in Kubwa Abuja\n",
      "Qst 2. The Earth is rectangular\n",
      "Qst 3. Buahri will not die\n",
      "Qst 4. Nigeia runs a democratic system of government\n",
      "Qst 5. Nigeria is in west Africa\n",
      "\n",
      "You started the quiz at 2022-06-15 10:02:53.553243\n",
      "Enter Qstn 1 Answer: true\n",
      "You started the quiz at 2022-06-15 10:02:58.376224\n",
      "You started the quiz at 2022-06-15 10:02:58.376224\n",
      "Enter Qstn 2 Answer: true\n",
      "You started the quiz at 2022-06-15 10:06:29.663376\n",
      "You started the quiz at 2022-06-15 10:06:29.663376\n",
      "Enter Qstn 3 Answer: false\n",
      "You started the quiz at 2022-06-15 10:06:32.916373\n",
      "You started the quiz at 2022-06-15 10:06:32.916373\n",
      "Enter Qstn 4 Answer: true\n",
      "You started the quiz at 2022-06-15 10:06:37.727072\n",
      "You started the quiz at 2022-06-15 10:06:37.727072\n",
      "Enter Qstn 5 Answer: true\n",
      "You started the quiz at 2022-06-15 10:06:40.611472\n",
      "\n",
      "It took you 2 Seconds to answer all 5 questions\n"
     ]
    }
   ],
   "source": [
    "'''Importing modules needed'''\n",
    "import datetime\n",
    "import random\n",
    "#Creating an empty list to store timestamp\n",
    "timelist = []\n",
    "#Displaying questions\n",
    "print('Answer true or false in every Qst')\n",
    "print('''\\nQst 1. Early Code is in Kubwa Abuja\n",
    "Qst 2. The Earth is rectangular\n",
    "Qst 3. Buahri will not die\n",
    "Qst 4. Nigeia runs a democratic system of government\n",
    "Qst 5. Nigeria is in west Africa\n",
    "''')\n",
    "#display start time and stop time for questions\n",
    "starttime = datetime.datetime.now()\n",
    "print(f'You started this question at {starttime}')\n",
    "qstn1 = input('Enter Qstn 1 Answer: ')\n",
    "stoptime = datetime.datetime.now()\n",
    "print(f'You answered this question at {stoptime}')\n",
    "\n",
    "starttime = datetime.datetime.now()\n",
    "print(f'You started this question at {starttime}')\n",
    "qstn2 = input('Enter Qstn 2 Answer: ')\n",
    "stoptime = datetime.datetime.now()\n",
    "print(f'You answered this question at {stoptime}')\n",
    "\n",
    "starttime = datetime.datetime.now()\n",
    "print(f'You started this question at {starttime}')\n",
    "qstn3 = input('Enter Qstn 3 Answer: ')\n",
    "stoptime = datetime.datetime.now()\n",
    "print(f'You answered this question at {stoptime}')\n",
    "\n",
    "starttime = datetime.datetime.now()\n",
    "print(f'You started this question at {starttime}')\n",
    "qstn4 = input('Enter Qstn 4 Answer: ')\n",
    "stoptime = datetime.datetime.now()\n",
    "print(f'You answered this question at {stoptime}')\n",
    "\n",
    "starttime = datetime.datetime.now()\n",
    "print(f'You started this question at {starttime}')\n",
    "qstn5 = input('Enter Qstn 5 Answer: ')\n",
    "stoptime = datetime.datetime.now()\n",
    "print(f'You answered this question at {stoptime}')\n",
    "\n",
    "#Calculating difference in timestamp\n",
    "diff = stoptime - starttime\n",
    "\n",
    "#Append timeings to list\n",
    "timelist.append(diff.seconds)\n",
    "\n",
    "#print final statement\n",
    "print(f'\\nIt took you {sum(timelist)} Seconds to answer all 5 questions')\n"
   ]
  },
  {
   "cell_type": "code",
   "execution_count": null,
   "metadata": {},
   "outputs": [],
   "source": []
  }
 ],
 "metadata": {
  "kernelspec": {
   "display_name": "Python 3",
   "language": "python",
   "name": "python3"
  },
  "language_info": {
   "codemirror_mode": {
    "name": "ipython",
    "version": 3
   },
   "file_extension": ".py",
   "mimetype": "text/x-python",
   "name": "python",
   "nbconvert_exporter": "python",
   "pygments_lexer": "ipython3",
   "version": "3.8.5"
  }
 },
 "nbformat": 4,
 "nbformat_minor": 4
}
