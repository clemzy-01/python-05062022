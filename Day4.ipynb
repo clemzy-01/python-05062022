{
 "cells": [
  {
   "cell_type": "markdown",
   "metadata": {},
   "source": [
    "# Dictionary"
   ]
  },
  {
   "cell_type": "code",
   "execution_count": 3,
   "metadata": {},
   "outputs": [],
   "source": [
    "details = {'Name':'ojo',\n",
    "          'Age':45,\n",
    "          'Gender':'Male',\n",
    "          'Height':1.85,\n",
    "          'Weight':75}"
   ]
  },
  {
   "cell_type": "code",
   "execution_count": 4,
   "metadata": {},
   "outputs": [
    {
     "data": {
      "text/plain": [
       "45"
      ]
     },
     "execution_count": 4,
     "metadata": {},
     "output_type": "execute_result"
    }
   ],
   "source": [
    "details['Age']"
   ]
  },
  {
   "cell_type": "code",
   "execution_count": 5,
   "metadata": {},
   "outputs": [
    {
     "data": {
      "text/plain": [
       "dict_keys(['Name', 'Age', 'Gender', 'Height', 'Weight'])"
      ]
     },
     "execution_count": 5,
     "metadata": {},
     "output_type": "execute_result"
    }
   ],
   "source": [
    "details.keys()"
   ]
  },
  {
   "cell_type": "code",
   "execution_count": 6,
   "metadata": {},
   "outputs": [
    {
     "data": {
      "text/plain": [
       "dict_values(['ojo', 45, 'Male', 1.85, 75])"
      ]
     },
     "execution_count": 6,
     "metadata": {},
     "output_type": "execute_result"
    }
   ],
   "source": [
    "details.values()"
   ]
  },
  {
   "cell_type": "code",
   "execution_count": 8,
   "metadata": {},
   "outputs": [
    {
     "data": {
      "text/plain": [
       "dict_items([('Name', 'ojo'), ('Age', 45), ('Gender', 'Male'), ('Height', 1.85), ('Weight', 75)])"
      ]
     },
     "execution_count": 8,
     "metadata": {},
     "output_type": "execute_result"
    }
   ],
   "source": [
    "details.items()"
   ]
  },
  {
   "cell_type": "code",
   "execution_count": 3,
   "metadata": {},
   "outputs": [
    {
     "data": {
      "text/plain": [
       "'Ojo'"
      ]
     },
     "execution_count": 3,
     "metadata": {},
     "output_type": "execute_result"
    }
   ],
   "source": [
    "records = {'names':['Taiwo','Ojo','Ade']}\n",
    "records['names'][1]"
   ]
  },
  {
   "cell_type": "code",
   "execution_count": 4,
   "metadata": {},
   "outputs": [
    {
     "data": {
      "text/plain": [
       "'Ade'"
      ]
     },
     "execution_count": 4,
     "metadata": {},
     "output_type": "execute_result"
    }
   ],
   "source": [
    "records['names'][2]"
   ]
  },
  {
   "cell_type": "markdown",
   "metadata": {},
   "source": [
    "# MODULES"
   ]
  },
  {
   "cell_type": "markdown",
   "metadata": {},
   "source": [
    "## Math Module"
   ]
  },
  {
   "cell_type": "code",
   "execution_count": 5,
   "metadata": {},
   "outputs": [],
   "source": [
    "import math"
   ]
  },
  {
   "cell_type": "code",
   "execution_count": 6,
   "metadata": {},
   "outputs": [
    {
     "name": "stdout",
     "output_type": "stream",
     "text": [
      "['__doc__', '__loader__', '__name__', '__package__', '__spec__', 'acos', 'acosh', 'asin', 'asinh', 'atan', 'atan2', 'atanh', 'ceil', 'comb', 'copysign', 'cos', 'cosh', 'degrees', 'dist', 'e', 'erf', 'erfc', 'exp', 'expm1', 'fabs', 'factorial', 'floor', 'fmod', 'frexp', 'fsum', 'gamma', 'gcd', 'hypot', 'inf', 'isclose', 'isfinite', 'isinf', 'isnan', 'isqrt', 'ldexp', 'lgamma', 'log', 'log10', 'log1p', 'log2', 'modf', 'nan', 'perm', 'pi', 'pow', 'prod', 'radians', 'remainder', 'sin', 'sinh', 'sqrt', 'tan', 'tanh', 'tau', 'trunc']\n"
     ]
    }
   ],
   "source": [
    "print(dir(math))"
   ]
  },
  {
   "cell_type": "code",
   "execution_count": 7,
   "metadata": {},
   "outputs": [
    {
     "name": "stdout",
     "output_type": "stream",
     "text": [
      "16\n",
      "15\n"
     ]
    }
   ],
   "source": [
    "number = 15.65\n",
    "print(math.ceil(number))\n",
    "print(math.floor(number))"
   ]
  },
  {
   "cell_type": "code",
   "execution_count": 9,
   "metadata": {},
   "outputs": [
    {
     "name": "stdout",
     "output_type": "stream",
     "text": [
      "13\n",
      "12\n"
     ]
    }
   ],
   "source": [
    "number0 = 12.44\n",
    "print(math.ceil(number0))\n",
    "print(math.floor(number0))"
   ]
  },
  {
   "cell_type": "code",
   "execution_count": 10,
   "metadata": {},
   "outputs": [
    {
     "name": "stdout",
     "output_type": "stream",
     "text": [
      "<built-in function dir>\n"
     ]
    }
   ],
   "source": [
    "print(dir)"
   ]
  },
  {
   "cell_type": "markdown",
   "metadata": {},
   "source": [
    "0.## Statistics"
   ]
  },
  {
   "cell_type": "code",
   "execution_count": 19,
   "metadata": {},
   "outputs": [],
   "source": [
    "import stat"
   ]
  },
  {
   "cell_type": "code",
   "execution_count": 21,
   "metadata": {},
   "outputs": [
    {
     "name": "stdout",
     "output_type": "stream",
     "text": [
      "['Counter', 'Decimal', 'Fraction', 'NormalDist', 'StatisticsError', '__all__', '__builtins__', '__cached__', '__doc__', '__file__', '__loader__', '__name__', '__package__', '__spec__', '_coerce', '_convert', '_exact_ratio', '_fail_neg', '_find_lteq', '_find_rteq', '_isfinite', '_normal_dist_inv_cdf', '_ss', '_sum', 'bisect_left', 'bisect_right', 'erf', 'exp', 'fabs', 'fmean', 'fsum', 'geometric_mean', 'groupby', 'harmonic_mean', 'hypot', 'itemgetter', 'log', 'math', 'mean', 'median', 'median_grouped', 'median_high', 'median_low', 'mode', 'multimode', 'numbers', 'pstdev', 'pvariance', 'quantiles', 'random', 'sqrt', 'stdev', 'tau', 'variance']\n"
     ]
    }
   ],
   "source": [
    "import statistics as stat\n",
    "print(dir(stat))"
   ]
  },
  {
   "cell_type": "code",
   "execution_count": 22,
   "metadata": {},
   "outputs": [
    {
     "name": "stdout",
     "output_type": "stream",
     "text": [
      "52.30769230769231\n"
     ]
    }
   ],
   "source": [
    "values = [58,89,46,4,23,15,89,52,69,100,25,25,85]\n",
    "print(stat.mean(values))"
   ]
  },
  {
   "cell_type": "code",
   "execution_count": 23,
   "metadata": {},
   "outputs": [
    {
     "name": "stdout",
     "output_type": "stream",
     "text": [
      "['BPF', 'LOG4', 'NV_MAGICCONST', 'RECIP_BPF', 'Random', 'SG_MAGICCONST', 'SystemRandom', 'TWOPI', '_Sequence', '_Set', '__all__', '__builtins__', '__cached__', '__doc__', '__file__', '__loader__', '__name__', '__package__', '__spec__', '_accumulate', '_acos', '_bisect', '_ceil', '_cos', '_e', '_exp', '_inst', '_log', '_os', '_pi', '_random', '_repeat', '_sha512', '_sin', '_sqrt', '_test', '_test_generator', '_urandom', '_warn', 'betavariate', 'choice', 'choices', 'expovariate', 'gammavariate', 'gauss', 'getrandbits', 'getstate', 'lognormvariate', 'normalvariate', 'paretovariate', 'randint', 'random', 'randrange', 'sample', 'seed', 'setstate', 'shuffle', 'triangular', 'uniform', 'vonmisesvariate', 'weibullvariate']\n"
     ]
    }
   ],
   "source": [
    "import random as rn\n",
    "print(dir(rn))"
   ]
  },
  {
   "cell_type": "code",
   "execution_count": 28,
   "metadata": {},
   "outputs": [
    {
     "name": "stdout",
     "output_type": "stream",
     "text": [
      "[69, 100, 89, 89, 58, 25, 85, 15, 25, 46, 4, 52, 23]\n"
     ]
    }
   ],
   "source": [
    "rn.shuffle(values)\n",
    "print(values)"
   ]
  },
  {
   "cell_type": "code",
   "execution_count": 29,
   "metadata": {},
   "outputs": [
    {
     "data": {
      "text/plain": [
       "40"
      ]
     },
     "execution_count": 29,
     "metadata": {},
     "output_type": "execute_result"
    }
   ],
   "source": [
    "rn.randint(15,45)"
   ]
  },
  {
   "cell_type": "code",
   "execution_count": 30,
   "metadata": {},
   "outputs": [
    {
     "data": {
      "text/plain": [
       "86"
      ]
     },
     "execution_count": 30,
     "metadata": {},
     "output_type": "execute_result"
    }
   ],
   "source": [
    "rn.randint(20,100)"
   ]
  },
  {
   "cell_type": "code",
   "execution_count": 31,
   "metadata": {},
   "outputs": [
    {
     "data": {
      "text/plain": [
       "15"
      ]
     },
     "execution_count": 31,
     "metadata": {},
     "output_type": "execute_result"
    }
   ],
   "source": [
    "rn.choice(values)"
   ]
  },
  {
   "cell_type": "code",
   "execution_count": 33,
   "metadata": {},
   "outputs": [
    {
     "data": {
      "text/plain": [
       "58"
      ]
     },
     "execution_count": 33,
     "metadata": {},
     "output_type": "execute_result"
    }
   ],
   "source": [
    "rn.choice(values)"
   ]
  },
  {
   "cell_type": "markdown",
   "metadata": {},
   "source": [
    "# CONDITIONAL STATEMENTS"
   ]
  },
  {
   "cell_type": "markdown",
   "metadata": {},
   "source": [
    "## if"
   ]
  },
  {
   "cell_type": "code",
   "execution_count": 36,
   "metadata": {},
   "outputs": [
    {
     "name": "stdout",
     "output_type": "stream",
     "text": [
      "Please provide your name:Adebayo\n",
      "Adebayo starts with an upper case\n"
     ]
    }
   ],
   "source": [
    "name = input('Please provide your name:')\n",
    "if name[0]==name[0].upper():\n",
    "    print(f'{name} starts with an upper case')"
   ]
  },
  {
   "cell_type": "code",
   "execution_count": 42,
   "metadata": {},
   "outputs": [
    {
     "ename": "KeyboardInterrupt",
     "evalue": "Interrupted by user",
     "output_type": "error",
     "traceback": [
      "\u001b[1;31m---------------------------------------------------------------------------\u001b[0m",
      "\u001b[1;31mKeyboardInterrupt\u001b[0m                         Traceback (most recent call last)",
      "\u001b[1;32m<ipython-input-42-4f3ae008ff16>\u001b[0m in \u001b[0;36m<module>\u001b[1;34m\u001b[0m\n\u001b[1;32m----> 1\u001b[1;33m \u001b[0mname\u001b[0m \u001b[1;33m=\u001b[0m \u001b[0minput\u001b[0m\u001b[1;33m(\u001b[0m\u001b[1;34m'Please provide your name:'\u001b[0m\u001b[1;33m)\u001b[0m\u001b[1;33m\u001b[0m\u001b[1;33m\u001b[0m\u001b[0m\n\u001b[0m\u001b[0;32m      2\u001b[0m \u001b[1;32mif\u001b[0m \u001b[0mname\u001b[0m\u001b[1;33m[\u001b[0m\u001b[1;36m0\u001b[0m\u001b[1;33m]\u001b[0m\u001b[1;33m.\u001b[0m\u001b[0mstartswith\u001b[0m\u001b[1;33m(\u001b[0m\u001b[0mstr\u001b[0m\u001b[1;33m.\u001b[0m\u001b[0mupper\u001b[0m\u001b[1;33m(\u001b[0m\u001b[1;33m)\u001b[0m\u001b[1;33m)\u001b[0m\u001b[1;33m:\u001b[0m\u001b[1;33m\u001b[0m\u001b[1;33m\u001b[0m\u001b[0m\n\u001b[0;32m      3\u001b[0m     \u001b[0mprint\u001b[0m\u001b[1;33m(\u001b[0m\u001b[1;34mf'{name} starts with an upper case'\u001b[0m\u001b[1;33m)\u001b[0m\u001b[1;33m\u001b[0m\u001b[1;33m\u001b[0m\u001b[0m\n\u001b[0;32m      4\u001b[0m \u001b[1;33m\u001b[0m\u001b[0m\n",
      "\u001b[1;32m~\\anaconda3\\lib\\site-packages\\ipykernel\\kernelbase.py\u001b[0m in \u001b[0;36mraw_input\u001b[1;34m(self, prompt)\u001b[0m\n\u001b[0;32m    858\u001b[0m                 \u001b[1;34m\"raw_input was called, but this frontend does not support input requests.\"\u001b[0m\u001b[1;33m\u001b[0m\u001b[1;33m\u001b[0m\u001b[0m\n\u001b[0;32m    859\u001b[0m             )\n\u001b[1;32m--> 860\u001b[1;33m         return self._input_request(str(prompt),\n\u001b[0m\u001b[0;32m    861\u001b[0m             \u001b[0mself\u001b[0m\u001b[1;33m.\u001b[0m\u001b[0m_parent_ident\u001b[0m\u001b[1;33m,\u001b[0m\u001b[1;33m\u001b[0m\u001b[1;33m\u001b[0m\u001b[0m\n\u001b[0;32m    862\u001b[0m             \u001b[0mself\u001b[0m\u001b[1;33m.\u001b[0m\u001b[0m_parent_header\u001b[0m\u001b[1;33m,\u001b[0m\u001b[1;33m\u001b[0m\u001b[1;33m\u001b[0m\u001b[0m\n",
      "\u001b[1;32m~\\anaconda3\\lib\\site-packages\\ipykernel\\kernelbase.py\u001b[0m in \u001b[0;36m_input_request\u001b[1;34m(self, prompt, ident, parent, password)\u001b[0m\n\u001b[0;32m    902\u001b[0m             \u001b[1;32mexcept\u001b[0m \u001b[0mKeyboardInterrupt\u001b[0m\u001b[1;33m:\u001b[0m\u001b[1;33m\u001b[0m\u001b[1;33m\u001b[0m\u001b[0m\n\u001b[0;32m    903\u001b[0m                 \u001b[1;31m# re-raise KeyboardInterrupt, to truncate traceback\u001b[0m\u001b[1;33m\u001b[0m\u001b[1;33m\u001b[0m\u001b[1;33m\u001b[0m\u001b[0m\n\u001b[1;32m--> 904\u001b[1;33m                 \u001b[1;32mraise\u001b[0m \u001b[0mKeyboardInterrupt\u001b[0m\u001b[1;33m(\u001b[0m\u001b[1;34m\"Interrupted by user\"\u001b[0m\u001b[1;33m)\u001b[0m \u001b[1;32mfrom\u001b[0m \u001b[1;32mNone\u001b[0m\u001b[1;33m\u001b[0m\u001b[1;33m\u001b[0m\u001b[0m\n\u001b[0m\u001b[0;32m    905\u001b[0m             \u001b[1;32mexcept\u001b[0m \u001b[0mException\u001b[0m \u001b[1;32mas\u001b[0m \u001b[0me\u001b[0m\u001b[1;33m:\u001b[0m\u001b[1;33m\u001b[0m\u001b[1;33m\u001b[0m\u001b[0m\n\u001b[0;32m    906\u001b[0m                 \u001b[0mself\u001b[0m\u001b[1;33m.\u001b[0m\u001b[0mlog\u001b[0m\u001b[1;33m.\u001b[0m\u001b[0mwarning\u001b[0m\u001b[1;33m(\u001b[0m\u001b[1;34m\"Invalid Message:\"\u001b[0m\u001b[1;33m,\u001b[0m \u001b[0mexc_info\u001b[0m\u001b[1;33m=\u001b[0m\u001b[1;32mTrue\u001b[0m\u001b[1;33m)\u001b[0m\u001b[1;33m\u001b[0m\u001b[1;33m\u001b[0m\u001b[0m\n",
      "\u001b[1;31mKeyboardInterrupt\u001b[0m: Interrupted by user"
     ]
    }
   ],
   "source": [
    "name = input('Please provide your name:')\n",
    "if name[0].startswith(str.upper()):\n",
    "    print(f'{name} starts with an upper case')\n",
    "    "
   ]
  },
  {
   "cell_type": "code",
   "execution_count": 46,
   "metadata": {},
   "outputs": [
    {
     "name": "stdout",
     "output_type": "stream",
     "text": [
      "Please provide a number34\n",
      "34 is an odd number\n"
     ]
    }
   ],
   "source": [
    "num = int(input('Please provide a number'))\n",
    "if num % 2 == 0:\n",
    "    print(f'{num} is an odd number')"
   ]
  },
  {
   "cell_type": "code",
   "execution_count": 50,
   "metadata": {},
   "outputs": [
    {
     "name": "stdout",
     "output_type": "stream",
     "text": [
      "Please provide a number50\n",
      "50 is an even number\n"
     ]
    }
   ],
   "source": [
    "num = int(input('Please provide a number'))\n",
    "if num % 2 == 0:\n",
    "    print(f'{num} is an even number')\n",
    "else:\n",
    "    print(f'{num} is an odd number')"
   ]
  },
  {
   "cell_type": "code",
   "execution_count": 54,
   "metadata": {},
   "outputs": [
    {
     "name": "stdout",
     "output_type": "stream",
     "text": [
      "Math score56\n",
      "Eng score78\n",
      "Chem score90\n",
      "Bio score90\n",
      "Phy score89\n",
      "Your Average score in 5 subjects is 80.6, Your Grade is A\n"
     ]
    }
   ],
   "source": [
    "score1 = int(input('Math score'))\n",
    "score2 = int(input('Eng score'))\n",
    "score3 = int(input('Chem score'))\n",
    "score4 = int(input('Bio score'))\n",
    "score5 = int(input('Phy score'))\n",
    "\n",
    "avgscore = (score1 + score2 + score3 + score4 + score5)/5\n",
    "\n",
    "if avgscore >= 70 and avgscore <= 100:\n",
    "    print(f'Your Average score in 5 subjects is {avgscore}, Your Grade is A')\n",
    "elif avgscore >= 60 and avgscore <=69.99:\n",
    "    print(f'Your Average score in 5 subjects is {avgscore}, Your Grade is B')\n",
    "elif avgscore >= 55 and avgscore <= 59.99:\n",
    "    print(f'Your Average score in 5 subjects is {avgscore}, Your Grade is C')\n",
    "elif avgscore >= 50 and avgscore <=54.99:\n",
    "    print(f'Your Average score in 5 subjects is {avgscore}, Your Grade is D')\n",
    "elif avgscore >= 40 and avgscore <= 49.99:\n",
    "    print(f'Your Average score in 5 subjects is {avgscore}, Your Grade is E')\n",
    "else:\n",
    "    print(f'Your Average score in 5 subjects is {avgscore}, Your Grade is F')\n",
    "          "
   ]
  },
  {
   "cell_type": "code",
   "execution_count": 56,
   "metadata": {},
   "outputs": [
    {
     "name": "stdout",
     "output_type": "stream",
     "text": [
      "Math score 98\n",
      "Eng score 90\n",
      "Chem score 879\n",
      "Bio score 78\n",
      "Phy score 78\n",
      "Your Average score in 5 subjects is 244.6, Your Grade is F\n"
     ]
    }
   ],
   "source": [
    "score1 = int(input('Math score '))\n",
    "score2 = int(input('Eng score '))\n",
    "score3 = int(input('Chem score '))\n",
    "score4 = int(input('Bio score '))\n",
    "score5 = int(input('Phy score '))\n",
    "\n",
    "avgscore = (score1 + score2 + score3 + score4 + score5)/5\n",
    "\n",
    "if avgscore >= 70 and avgscore <= 100:\n",
    "    print(f'Your Average score in 5 subjects is {avgscore}, Your Grade is A')\n",
    "elif avgscore >= 60 and avgscore <=69.99:\n",
    "    print(f'Your Average score in 5 subjects is {avgscore}, Your Grade is B')\n",
    "elif avgscore >= 55 and avgscore <= 59.99:\n",
    "    print(f'Your Average score in 5 subjects is {avgscore}, Your Grade is C')\n",
    "elif avgscore >= 50 and avgscore <=54.99:\n",
    "    print(f'Your Average score in 5 subjects is {avgscore}, Your Grade is D')\n",
    "elif avgscore >= 40 and avgscore <= 49.99:\n",
    "    print(f'Your Average score in 5 subjects is {avgscore}, Your Grade is E')\n",
    "else:\n",
    "    print(f'Your Average score in 5 subjects is {avgscore}, Your Grade is F')"
   ]
  },
  {
   "cell_type": "code",
   "execution_count": 1,
   "metadata": {},
   "outputs": [],
   "source": [
    "from datetime import date"
   ]
  },
  {
   "cell_type": "code",
   "execution_count": 7,
   "metadata": {},
   "outputs": [
    {
     "name": "stdout",
     "output_type": "stream",
     "text": [
      "['__add__', '__class__', '__delattr__', '__dir__', '__doc__', '__eq__', '__format__', '__ge__', '__getattribute__', '__gt__', '__hash__', '__init__', '__init_subclass__', '__le__', '__lt__', '__ne__', '__new__', '__radd__', '__reduce__', '__reduce_ex__', '__repr__', '__rsub__', '__setattr__', '__sizeof__', '__str__', '__sub__', '__subclasshook__', 'ctime', 'day', 'fromisocalendar', 'fromisoformat', 'fromordinal', 'fromtimestamp', 'isocalendar', 'isoformat', 'isoweekday', 'max', 'min', 'month', 'replace', 'resolution', 'strftime', 'timetuple', 'today', 'toordinal', 'weekday', 'year']\n"
     ]
    }
   ],
   "source": [
    "print(dir(date))"
   ]
  },
  {
   "cell_type": "code",
   "execution_count": 8,
   "metadata": {},
   "outputs": [
    {
     "data": {
      "text/plain": [
       "datetime.date(2022, 5, 14)"
      ]
     },
     "execution_count": 8,
     "metadata": {},
     "output_type": "execute_result"
    }
   ],
   "source": [
    "date.today()"
   ]
  },
  {
   "cell_type": "code",
   "execution_count": 9,
   "metadata": {},
   "outputs": [],
   "source": [
    "date = date.today()"
   ]
  },
  {
   "cell_type": "code",
   "execution_count": 37,
   "metadata": {},
   "outputs": [
    {
     "name": "stdout",
     "output_type": "stream",
     "text": [
      "Please Enter your Year of Employment 2013\n",
      "Year of employemnt: 2013\n",
      "2022-05-14\n",
      "2022\n",
      "Your Years of Service is 9 years\n",
      " Congratulations, you are Eligible for Bonus\n"
     ]
    }
   ],
   "source": [
    "Yoe = int(input('Please Enter your Year of Employment '))\n",
    "print(f'Year of employemnt: {Yoe}')\n",
    "\n",
    "#Criteria Check to Ensure conditions are met\n",
    "todays_date = date.today()\n",
    "print(todays_date)\n",
    "print(todays_date.year)\n",
    "Yos = todays_date.year - Yoe\n",
    "if Yos > 5:\n",
    "    print(f'Your Years of Service is {Yos} years')\n",
    "    print(f' Congratulations, you are Eligible for Bonus')\n",
    "else:\n",
    "    print('You are not qualified for Bonus this time')\n",
    "    "
   ]
  },
  {
   "cell_type": "code",
   "execution_count": null,
   "metadata": {},
   "outputs": [
    {
     "name": "stdout",
     "output_type": "stream",
     "text": [
      "Current date: 2022-05-14\n",
      "Current year: 2022\n",
      "Current month: 5\n",
      "Current day: 14\n"
     ]
    }
   ],
   "source": [
    "#Importing date class from datetime module\n",
    "from datetime import date\n",
    "\n",
    "todays_date = date.today()\n",
    "\n",
    "#printing todays date\n",
    "print('Current date:', todays_date)\n",
    "\n",
    "#fetching current year, month, and day of today\n",
    "print('Current year:' , todays_date.year)\n",
    "print('Current month:' , todays_date.month)\n",
    "print('Current day:' , todays_date.day)\n",
    "\n",
    "#Requesting Staff Info\n",
    "Name = input('Please enter your name ')\n",
    "print(f'Employee Name: {Name}')\n",
    "\n",
    "Salary = int(input('Please enter your current net pay '))\n",
    "print(f'Current Net Salary: ${Salary}')\n",
    "\n",
    "Yoe = int(input('Please Enter your Year of Employment '))\n",
    "print(f'Year of employemnt: {Yoe}')\n",
    "\n",
    "#Calculations for 5% Bonus\n",
    "Bonus = Salary/100 * 5\n",
    "New_Net_Pay = Bonus + Salary\n",
    "\n",
    "#Criteria Check to Ensure conditions are met\n",
    "Yos = todays_date.year - Yoe\n",
    "print(f'Your Years of Service is {Yos} years')\n",
    "\n",
    "if Yos > 5:\n",
    "    print(f'Congratulations, you are Eligible for Bonus')\n",
    "    print(f'Congratulations, your new Net Salary is ${New_Net_Pay}')\n",
    "else:\n",
    "    print('Oops! You are not qualified for Bonus this time')\n"
   ]
  },
  {
   "cell_type": "code",
   "execution_count": 57,
   "metadata": {},
   "outputs": [
    {
     "name": "stdout",
     "output_type": "stream",
     "text": [
      "Please enter your password: adebayo@\n",
      "valid\n"
     ]
    }
   ],
   "source": [
    "pwd = input('Please enter your password: ')\n",
    "sc =['<','>','#','@','$','%','^','%','&','*',';']\n",
    "if not any(char in sc for char in pwd):\n",
    "    print('password should have atleast one char')\n",
    "else:\n",
    "    print('valid')\n",
    "        \n",
    "        \n",
    "\n"
   ]
  },
  {
   "cell_type": "code",
   "execution_count": 74,
   "metadata": {},
   "outputs": [
    {
     "ename": "SyntaxError",
     "evalue": "invalid syntax (<ipython-input-74-72e3250b3279>, line 20)",
     "output_type": "error",
     "traceback": [
      "\u001b[1;36m  File \u001b[1;32m\"<ipython-input-74-72e3250b3279>\"\u001b[1;36m, line \u001b[1;32m20\u001b[0m\n\u001b[1;33m    else:\u001b[0m\n\u001b[1;37m    ^\u001b[0m\n\u001b[1;31mSyntaxError\u001b[0m\u001b[1;31m:\u001b[0m invalid syntax\n"
     ]
    }
   ],
   "source": [
    "# #defining variables\n",
    "import random as rn\n",
    "\n",
    "North = ['Kaduna','Kano','Niger','Kogi','Borno','FCT','Abuja','Plateau','Katsina','Benue','Nassarawa','Yobe','Bauchi','Taraba','Adamawa','Sokoto']\n",
    "South = ['Delta','Bayelsa','Rivers','Cross River','Akwa-Ibom']\n",
    "West = ['Lagos','Ekiti','Ondo','Edo','Oyo','Osun']\n",
    "East = ['Enugu','Imo','Abia','Ebonyi','Anambra']\n",
    "\n",
    "#Collection of info from user\n",
    "school_geo_location = input('Please enter the geographical location of your school: ')\n",
    "print(f'School Geographical Location: {school_geo_location}')\n",
    "\n",
    "\n",
    "\n",
    "#Conditions\n",
    "for char in North:\n",
    "    if char not in school_geo_location:\n",
    "        print(f'You are Posted to Serve in {rn.choice(North)}')\n",
    "else:\n",
    "    print(f'Not Selected')\n",
    "break\n",
    "    "
   ]
  },
  {
   "cell_type": "code",
   "execution_count": null,
   "metadata": {},
   "outputs": [],
   "source": [
    "# #defining variables\n",
    "import random as rn\n",
    "\n",
    "North = ['Kaduna','Kano','Niger','Kogi','Borno','FCT','Abuja','Plateau','Katsina','Benue','Nassarawa','Yobe','Bauchi','Taraba','Adamawa','Sokoto']\n",
    "South = ['Delta','Bayelsa','Rivers','Cross River','Akwa-Ibom']\n",
    "West = ['Lagos','Ekiti','Ondo','Edo','Oyo','Osun']\n",
    "East = ['Enugu','Imo','Abia','Ebonyi','Anambra']\n",
    "\n",
    "#Collection of info from user\n",
    "school_geo_location = input('Please enter the geographical location of your school: ')\n",
    "print(f'School Geographical Location: {school_geo_location}')\n",
    "\n",
    "n = (rn.choice(East),rn.choice(West),rn.choice(South))\n",
    "\n",
    "#Conditions\n",
    "if not any(char in (East,West,South) for char in school_geo_location):\n",
    "    print(f'You are Posted to Serve in {rn.choice(n)}')\n",
    "\n",
    "else:\n",
    "    print(f'Not Selected')"
   ]
  },
  {
   "cell_type": "code",
   "execution_count": 26,
   "metadata": {},
   "outputs": [
    {
     "name": "stdout",
     "output_type": "stream",
     "text": [
      "Please enter the geographical location of your school: fkfkjg\n",
      "School Geographical Location: fkfkjg\n",
      "You are Posted to Serve in Abia\n"
     ]
    }
   ],
   "source": [
    "# #defining variables\n",
    "import random as rn\n",
    "\n",
    "North = ['Kaduna','Kano','Niger','Kogi','Borno','FCT','Abuja','Plateau','Katsina','Benue','Nassarawa','Yobe','Bauchi','Taraba','Adamawa','Sokoto']\n",
    "South = ['Delta','Bayelsa','Rivers','Cross River','Akwa-Ibom']\n",
    "West = ['Lagos','Ekiti','Ondo','Edo','Oyo','Osun']\n",
    "East = ['Enugu','Imo','Abia','Ebonyi','Anambra']\n",
    "\n",
    "#Collection of info from user\n",
    "school_geo_location = input('Please enter the geographical location of your school: ')\n",
    "print(f'School Geographical Location: {school_geo_location}')\n",
    "\n",
    "n = (rn.choice(East),rn.choice(West),rn.choice(South))\n",
    "\n",
    "#Conditions\n",
    "if school_geo_location != East:\n",
    "    print(f'You are Posted to Serve in {rn.choice(n)}')\n",
    "\n",
    "else:\n",
    "    print('location not decided yet')"
   ]
  },
  {
   "cell_type": "code",
   "execution_count": null,
   "metadata": {},
   "outputs": [],
   "source": []
  }
 ],
 "metadata": {
  "kernelspec": {
   "display_name": "Python 3",
   "language": "python",
   "name": "python3"
  },
  "language_info": {
   "codemirror_mode": {
    "name": "ipython",
    "version": 3
   },
   "file_extension": ".py",
   "mimetype": "text/x-python",
   "name": "python",
   "nbconvert_exporter": "python",
   "pygments_lexer": "ipython3",
   "version": "3.8.5"
  }
 },
 "nbformat": 4,
 "nbformat_minor": 4
}
