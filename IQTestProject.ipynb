{
 "cells": [
  {
   "cell_type": "code",
   "execution_count": 2,
   "metadata": {},
   "outputs": [
    {
     "name": "stdout",
     "output_type": "stream",
     "text": [
      "Enter year of birth: 1996\n",
      "YOB: 1996\n",
      "CA: 26\n",
      "Answer true or false in every Qst\n",
      "\n",
      "Qst 1. Nigeria is an islamic state\n",
      "Qst 2. There are 7 continents\n",
      "Qst 3. Covid-19 was a scam\n",
      "\n",
      "Enter Qstn 1 Answer: true\n",
      "Enter Qstn 2 Answer: false\n",
      "Enter Qstn 3 Answer: false\n",
      "TS: 100\n",
      "CA: 26\n",
      "MA: 26.0\n",
      "IQ: 100.0\n",
      "IQ: Average\n"
     ]
    }
   ],
   "source": [
    "from datetime import date\n",
    "YOB = int(input('Enter year of birth: '))\n",
    "#TS = Test SCore\n",
    "CA = date.today().year - YOB\n",
    "\n",
    "print(f'YOB: {YOB}')\n",
    "print(f'CA: {CA}')\n",
    "\n",
    "print('Answer true or false in every Qst')\n",
    "print('''\\nQst 1. Nigeria is an islamic state\n",
    "Qst 2. There are 7 continents\n",
    "Qst 3. Covid-19 was a scam\n",
    "''')\n",
    "\n",
    "qstn1 = input('Enter Qstn 1 Answer: ')\n",
    "qstn2 = input('Enter Qstn 2 Answer: ')\n",
    "qstn3 = input('Enter Qstn 3 Answer: ')\n",
    "\n",
    "if qstn1 == 'true' and qstn2 == 'true' and qstn3 == 'true':\n",
    "    TS = 100 * 3\n",
    "    print(TS)\n",
    "elif qstn1 == 'false' and qstn2 == 'true' and qstn3 == 'true':\n",
    "    TS = 100 * 2\n",
    "elif qstn1 == 'true' and qstn2 == 'false' and qstn3 == 'true':\n",
    "    TS = 100 * 2\n",
    "elif qstn1 == 'true' and qstn2 == 'true' and qstn3 == 'false':\n",
    "    TS = 100 *2\n",
    "elif qstn1 == 'false' and qstn2 == 'false' and qstn3 == 'true':\n",
    "    TS = 100 * 1\n",
    "elif qstn1 == 'false' and qstn2 == 'true' and qstn3 == 'false':\n",
    "    TS = 100 * 1\n",
    "elif qstn1 == 'true' and qstn2 == 'false' and qstn3 == 'false':\n",
    "    TS = 100 *1\n",
    "elif qstn1 == 'false' and qstn2 == 'false' and qstn3 == 'false':\n",
    "    TS = 1\n",
    "    \n",
    "print(f'TS: {TS}')    \n",
    "print(f'CA: {CA}')\n",
    "\n",
    "MA = TS/100 * CA\n",
    "print(f'MA: {MA}')\n",
    "\n",
    "IQ = MA/CA * 100\n",
    "\n",
    "print(f'IQ: {IQ}')\n",
    "\n",
    "if IQ >= 200 <=300:\n",
    "    print('IQ Level: Highly Gifted')\n",
    "elif IQ >= 70 <=199:\n",
    "    print('IQ Level: Average')\n",
    "else:\n",
    "    print('IQ Level: Low')"
   ]
  },
  {
   "cell_type": "code",
   "execution_count": null,
   "metadata": {},
   "outputs": [],
   "source": []
  }
 ],
 "metadata": {
  "kernelspec": {
   "display_name": "Python 3",
   "language": "python",
   "name": "python3"
  },
  "language_info": {
   "codemirror_mode": {
    "name": "ipython",
    "version": 3
   },
   "file_extension": ".py",
   "mimetype": "text/x-python",
   "name": "python",
   "nbconvert_exporter": "python",
   "pygments_lexer": "ipython3",
   "version": "3.8.5"
  }
 },
 "nbformat": 4,
 "nbformat_minor": 4
}
