{
 "cells": [
  {
   "cell_type": "markdown",
   "metadata": {},
   "source": [
    "# Error Handling\n",
    "# try\n",
    "# except\n",
    "# else\n",
    "# finally"
   ]
  },
  {
   "cell_type": "code",
   "execution_count": 3,
   "metadata": {},
   "outputs": [
    {
     "name": "stdout",
     "output_type": "stream",
     "text": [
      "Please provide the first number: 23\n",
      "Please provide the second: 50\n",
      "73\n",
      "You have encoutered one or more errors\n"
     ]
    }
   ],
   "source": [
    "try:\n",
    "    num1 = int(input('Please provide the first number: '))\n",
    "    num2 = int(input('Please provide the second: '))\n",
    "    print(num1 + num2)\n",
    "    print(num1.upper())\n",
    "except:\n",
    "    print('You have encoutered one or more errors')"
   ]
  },
  {
   "cell_type": "code",
   "execution_count": 5,
   "metadata": {},
   "outputs": [
    {
     "name": "stdout",
     "output_type": "stream",
     "text": [
      "Please provide the first number: 56\n",
      "Please provide the second: a\n",
      "Wrong Value provided\n"
     ]
    }
   ],
   "source": [
    "\n",
    "try:\n",
    "    num1 = int(input('Please provide the first number: '))\n",
    "    num2 = int(input('Please provide the second: '))\n",
    "    print(num1 + num2)\n",
    "    print(num1.upper())\n",
    "except ValueError:\n",
    "    print('Wrong Value provided')\n",
    "except AttributeError:\n",
    "    print('Wrong function on integer atrribute')\n",
    "except:\n",
    "    print('You have encountered one or more errors')"
   ]
  },
  {
   "cell_type": "code",
   "execution_count": 6,
   "metadata": {},
   "outputs": [
    {
     "name": "stdout",
     "output_type": "stream",
     "text": [
      "Please provide the first number: 30\n",
      "Please provide the second: 50\n",
      "80\n",
      "Wrong function on integer atrribute\n"
     ]
    }
   ],
   "source": [
    "try:\n",
    "    num1 = int(input('Please provide the first number: '))\n",
    "    num2 = int(input('Please provide the second: '))\n",
    "    print(num1 + num2)\n",
    "    print(num1.upper())\n",
    "except ValueError:\n",
    "    print('Wrong Value provided')\n",
    "except AttributeError:\n",
    "    print('Wrong function on integer atrribute')\n",
    "except:\n",
    "    print('You have encountered one or more errors')"
   ]
  },
  {
   "cell_type": "code",
   "execution_count": 7,
   "metadata": {},
   "outputs": [
    {
     "name": "stdout",
     "output_type": "stream",
     "text": [
      "Please provide the first number: 45\n",
      "Please provide the second: 50\n",
      "95\n"
     ]
    }
   ],
   "source": [
    "try:\n",
    "    num1 = int(input('Please provide the first number: '))\n",
    "    num2 = int(input('Please provide the second: '))\n",
    "    print(num1 + num2)\n",
    "except ValueError:\n",
    "    print('Wrong Value provided')\n",
    "except AttributeError:\n",
    "    print('Wrong function on integer atrribute')\n",
    "except:\n",
    "    print('You have encountered one or more errors')"
   ]
  },
  {
   "cell_type": "code",
   "execution_count": 8,
   "metadata": {},
   "outputs": [
    {
     "name": "stdout",
     "output_type": "stream",
     "text": [
      "Please provide the first number: 45\n",
      "Please provide the second: p\n",
      "Wrong Value provided\n"
     ]
    }
   ],
   "source": [
    "try:\n",
    "    num1 = int(input('Please provide the first number: '))\n",
    "    num2 = int(input('Please provide the second: '))\n",
    "    print(num1 + num2)\n",
    "except ValueError:\n",
    "    print('Wrong Value provided')\n",
    "except AttributeError:\n",
    "    print('Wrong function on integer atrribute')\n",
    "except:\n",
    "    print('You have encountered one or more errors')\n",
    "else:\n",
    "    print(num1 ** num2) #Note: The else function will be executed only if the 'try' block is free of error."
   ]
  },
  {
   "cell_type": "code",
   "execution_count": 10,
   "metadata": {},
   "outputs": [
    {
     "name": "stdout",
     "output_type": "stream",
     "text": [
      "Please provide the first number: 45\n",
      "Please provide the second: 2\n",
      "47\n",
      "2025\n"
     ]
    }
   ],
   "source": [
    "try:\n",
    "    num1 = int(input('Please provide the first number: '))\n",
    "    num2 = int(input('Please provide the second: '))\n",
    "    print(num1 + num2)\n",
    "except ValueError:\n",
    "    print('Wrong Value provided')\n",
    "except AttributeError:\n",
    "    print('Wrong function on integer atrribute')\n",
    "except:\n",
    "    print('You have encountered one or more errors')\n",
    "else:\n",
    "    print(num1 ** num2) #Note: The else function will be executed only if the 'try' block is free of error."
   ]
  },
  {
   "cell_type": "code",
   "execution_count": 11,
   "metadata": {},
   "outputs": [
    {
     "name": "stdout",
     "output_type": "stream",
     "text": [
      "Please provide the first number: 23\n",
      "Please provide the second: e\n",
      "Wrong Value provided\n",
      "End of Program\n"
     ]
    }
   ],
   "source": [
    "try:\n",
    "    num1 = int(input('Please provide the first number: '))\n",
    "    num2 = int(input('Please provide the second: '))\n",
    "    print(num1 + num2)\n",
    "except ValueError:\n",
    "    print('Wrong Value provided')\n",
    "except AttributeError:\n",
    "    print('Wrong function on integer atrribute')\n",
    "except:\n",
    "    print('You have encountered one or more errors')\n",
    "else:\n",
    "    print(num1 ** num2) #Note: The else function will be executed only if the 'try' block is free of error.\n",
    "finally: #Note: Finally will always execute regardless of any error except there is an error in your finally block\n",
    "    print('End of Program')\n",
    "    "
   ]
  },
  {
   "cell_type": "code",
   "execution_count": 12,
   "metadata": {},
   "outputs": [
    {
     "name": "stdout",
     "output_type": "stream",
     "text": [
      "Please provide the first number: 23\n",
      "Please provide the second: 2\n",
      "25\n",
      "529\n",
      "End of Program\n"
     ]
    }
   ],
   "source": [
    "try:\n",
    "    num1 = int(input('Please provide the first number: '))\n",
    "    num2 = int(input('Please provide the second: '))\n",
    "    print(num1 + num2)\n",
    "except ValueError:\n",
    "    print('Wrong Value provided')\n",
    "except AttributeError:\n",
    "    print('Wrong function on integer atrribute')\n",
    "except:\n",
    "    print('You have encountered one or more errors')\n",
    "else:\n",
    "    print(num1 ** num2) #Note: The else function will be executed only if the 'try' block is free of error.\n",
    "finally: #Note: Finally will always execute regardless of any error except there is an error in your finally block\n",
    "    print('End of Program')"
   ]
  },
  {
   "cell_type": "code",
   "execution_count": 13,
   "metadata": {},
   "outputs": [
    {
     "name": "stdout",
     "output_type": "stream",
     "text": [
      "Please provide the first number: 20\n",
      "Please provide the second: 2\n",
      "22\n",
      "400\n",
      "40\n",
      "End of Program\n"
     ]
    }
   ],
   "source": [
    "try:\n",
    "    num1 = int(input('Please provide the first number: '))\n",
    "    num2 = int(input('Please provide the second: '))\n",
    "    print(num1 + num2)\n",
    "except ValueError:\n",
    "    print('Wrong Value provided')\n",
    "except AttributeError:\n",
    "    print('Wrong function on integer atrribute')\n",
    "except:\n",
    "    print('You have encountered one or more errors')\n",
    "else:\n",
    "    print(num1 ** num2) #Note: The else function will be executed only if the 'try' block is free of error.\n",
    "finally: #Note: Finally will always execute regardless of any error except there is an error in your finally block\n",
    "    print(num1 * num2)\n",
    "    print('End of Program')"
   ]
  },
  {
   "cell_type": "code",
   "execution_count": 14,
   "metadata": {},
   "outputs": [],
   "source": [
    "#Exercise\n",
    "#Using error handling, write a simple calculator giving the user the liberty to \n",
    "##Choose wich operation they want to perform handling the following errors:\n",
    "##TypeError,ValueError,AttributeError,EOFError,ZeroDivisionError and all other errors\n",
    "##under the else block write a condition to check if both numbers are even or odd number\n",
    "##or one is even and the other is odd\n",
    "##under finally print a statement that says \"HEY IT IS INTERESTING TO BE A PROGRAMMER END OF PROGRAM!!!!\"\n",
    "#5 marks"
   ]
  },
  {
   "cell_type": "code",
   "execution_count": 15,
   "metadata": {},
   "outputs": [
    {
     "name": "stdout",
     "output_type": "stream",
     "text": [
      "Please provide the first number: 2\n",
      "Please provide the second: 3\n",
      "enter what to do: addition\n",
      "5\n"
     ]
    }
   ],
   "source": [
    "num1 = int(input('Please provide the first number: '))\n",
    "num2 = int(input('Please provide the second: '))\n",
    "add = num1 + num2\n",
    "sub = num1 - num2\n",
    "user = input('enter what to do: ')\n",
    "if user == 'addition':\n",
    "    print(add)\n",
    "elif user == 'subtraction':\n",
    "    print(sub)\n"
   ]
  },
  {
   "cell_type": "code",
   "execution_count": 17,
   "metadata": {},
   "outputs": [
    {
     "name": "stdout",
     "output_type": "stream",
     "text": [
      "Please provide the first number: 2\n",
      "Please provide the second: 3\n",
      "enter what to do as addition, subtraction, division, multiplication: addition\n",
      "5\n",
      "Num1 is an even number and num2 is an odd number\n",
      "HEY IT'S INTERESTING TO BE A PROGRAMMER\n",
      "End of Program\n"
     ]
    }
   ],
   "source": [
    "try:\n",
    "    num1 = int(input('Please provide the first number: '))\n",
    "    num2 = int(input('Please provide the second: '))\n",
    "    add = num1 + num2\n",
    "    sub = num1 - num2\n",
    "    div = num1 / num2\n",
    "    mul = num1 * num2\n",
    "    user = input('enter what to do as addition, subtraction, division, multiplication: ')\n",
    "    if user == 'addition':\n",
    "        print(add)\n",
    "    elif user == 'subtraction':\n",
    "        print(sub)\n",
    "    elif user == 'multiplication':\n",
    "        print(mul)\n",
    "    elif user == 'division':\n",
    "        print(div)\n",
    "except TypeError:\n",
    "    print('Wrong type error')\n",
    "except EOFError:\n",
    "    print('You have an EOFError')\n",
    "except ZeroDivisionError:\n",
    "    print(' Check for ZeroDivisionError')   \n",
    "except ValueError:\n",
    "    print('Wrong Value provided')\n",
    "except AttributeError:\n",
    "    print('Wrong function on integer atrribute')\n",
    "except:\n",
    "    print('You have encountered one or more errors')\n",
    "else:\n",
    "    if num1 % 2 == 0 and num2 % 2 == 0:\n",
    "        print('Both numbers are Even numbers')\n",
    "    elif num1 % 2 == 0 and num2 % 2 != 0:\n",
    "        print('Num1 is an even number and num2 is an odd number')\n",
    "    elif num1 % 2 != 0 and num2 % 2 == 0:\n",
    "        print('Num1 is an odd number and num2 is an even number')\n",
    "    else:\n",
    "        print('Noth numbers are odd numbers')\n",
    "finally:\n",
    "    print('HEY IT\\'S INTERESTING TO BE A PROGRAMMER')\n",
    "    print('End of Program')"
   ]
  },
  {
   "cell_type": "code",
   "execution_count": 18,
   "metadata": {},
   "outputs": [
    {
     "name": "stdout",
     "output_type": "stream",
     "text": [
      "Please provide the first number: 2\n",
      "Please provide the second: 4\n",
      "Choose your operation\n",
      "+: Addition\n",
      "-: Subtraction\n",
      "/: Division\n",
      "*: Multiplication\n",
      "+\n",
      "2 + 4 = 6\n",
      "Both numbers are Even numbers\n",
      "HEY IT'S INTERESTING TO BE A PROGRAMMER\n",
      "End of Program\n"
     ]
    }
   ],
   "source": [
    "try:\n",
    "    num1 = int(input('Please provide the first number: '))\n",
    "    num2 = int(input('Please provide the second: '))\n",
    "    choice = input('''Choose your operation\n",
    "+: Addition\n",
    "-: Subtraction\n",
    "/: Division\n",
    "*: Multiplication\n",
    "''')\n",
    "    if choice == '+':\n",
    "        print(f'{num1} + {num2} = {num1 + num2}')\n",
    "    elif choice == '-':\n",
    "        print(f'{num1} - {num2} = {num1 - num2}')\n",
    "    elif choice == '/':\n",
    "        print(f'{num1} / {num2} = {num1 / num2}')\n",
    "    elif choice == '*':\n",
    "        print(f'{num1} * {num2} = {num1 * num2}')\n",
    "except TypeError:\n",
    "    print('Wrong type error')\n",
    "except EOFError:\n",
    "    print('One of the Bracket is missing')\n",
    "except ZeroDivisionError:\n",
    "    print('A number cannot be divisible by zero')   \n",
    "except ValueError:\n",
    "    print('Wrong Value provided')\n",
    "except AttributeError:\n",
    "    print('Wrong function on integer atrribute')\n",
    "except:\n",
    "    print('You have encountered one or more errors')\n",
    "else:\n",
    "    if num1 % 2 == 0 and num2 % 2 == 0:\n",
    "        print('Both numbers are Even numbers')\n",
    "    elif num1 % 2 == 0 and num2 % 2 != 0:\n",
    "        print('Num1 is an even number and num2 is an odd number')\n",
    "    elif num1 % 2 != 0 and num2 % 2 == 0:\n",
    "        print('Num1 is an odd number and num2 is an even number')\n",
    "    else:\n",
    "        print('Noth numbers are odd numbers')\n",
    "finally:\n",
    "    print('HEY IT\\'S INTERESTING TO BE A PROGRAMMER')\n",
    "    print('End of Program')"
   ]
  },
  {
   "cell_type": "code",
   "execution_count": null,
   "metadata": {},
   "outputs": [],
   "source": []
  }
 ],
 "metadata": {
  "kernelspec": {
   "display_name": "Python 3",
   "language": "python",
   "name": "python3"
  },
  "language_info": {
   "codemirror_mode": {
    "name": "ipython",
    "version": 3
   },
   "file_extension": ".py",
   "mimetype": "text/x-python",
   "name": "python",
   "nbconvert_exporter": "python",
   "pygments_lexer": "ipython3",
   "version": "3.8.5"
  }
 },
 "nbformat": 4,
 "nbformat_minor": 4
}
