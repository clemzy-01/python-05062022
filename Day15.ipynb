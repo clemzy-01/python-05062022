{
 "cells": [
  {
   "cell_type": "code",
   "execution_count": null,
   "metadata": {},
   "outputs": [],
   "source": [
    "#Work title PHONE STORE (Mobile Shop) Record MAnagement\n"
   ]
  },
  {
   "cell_type": "code",
   "execution_count": 1,
   "metadata": {},
   "outputs": [],
   "source": [
    "Phone_Record = []"
   ]
  },
  {
   "cell_type": "code",
   "execution_count": 2,
   "metadata": {},
   "outputs": [
    {
     "name": "stdout",
     "output_type": "stream",
     "text": [
      "Enter Y as yes and N as no to enter phone detailsY\n",
      "Phone Name: Nokia\n",
      "Model Number: NK123\n",
      "Price: 12000\n",
      "Enter Y as yes and N as no to enter phone detailsY\n",
      "Phone Name: Sagem\n",
      "Model Number: SAG123\n",
      "Price: 14000\n",
      "Enter Y as yes and N as no to enter phone detailsN\n",
      "-------The list of the Phones that the store has---------\n",
      "1 . Nokia:NK123::12000\n",
      "2 . Sagem:SAG123::14000\n"
     ]
    }
   ],
   "source": [
    "class Phone_Store_Record_Management:\n",
    "    def __init__(self,Pname,Modelno,Price):\n",
    "        self.Pname = Pname\n",
    "        self.Modelno = Modelno\n",
    "        self.Price = Price\n",
    "    \n",
    "    def getprice(self):\n",
    "        return self.Price\n",
    "        \n",
    "    def getmodel(self):\n",
    "        return self.Modelno\n",
    "    def __str__(self):\n",
    "        return self.Pname + ':'+str(self.getmodel())+'::' + str(self.getprice())\n",
    "\n",
    "def prices(rec,Pname,Modelno,Price):\n",
    "    rec.append(Phone_Store_Record_Management(Pname,Modelno,Price))\n",
    "    return rec\n",
    "record = []\n",
    "x = input('Enter Y as yes and N as no to enter phone details')\n",
    "while x == 'Y':\n",
    "    Pname = input('Phone Name: ')\n",
    "    Modelno = input('Model Number: ')\n",
    "    Money = input('Price: ')\n",
    "    record = prices(record,Pname,Modelno,Money)\n",
    "    x = input('Enter Y as yes and N as no to enter phone details')\n",
    "    \n",
    "n = 1\n",
    "print(\"-------The list of the Phones that the store has---------\")\n",
    "for item in record:\n",
    "    print(n, '.',item)\n",
    "    n = n + 1\n",
    "    \n",
    "     "
   ]
  },
  {
   "cell_type": "code",
   "execution_count": null,
   "metadata": {},
   "outputs": [],
   "source": []
  },
  {
   "cell_type": "code",
   "execution_count": 3,
   "metadata": {},
   "outputs": [
    {
     "ename": "TypeError",
     "evalue": "'list' object is not callable",
     "output_type": "error",
     "traceback": [
      "\u001b[1;31m---------------------------------------------------------------------------\u001b[0m",
      "\u001b[1;31mTypeError\u001b[0m                                 Traceback (most recent call last)",
      "\u001b[1;32m<ipython-input-3-81d1023b3f82>\u001b[0m in \u001b[0;36m<module>\u001b[1;34m\u001b[0m\n\u001b[0;32m      1\u001b[0m \u001b[1;32mfor\u001b[0m \u001b[0ma\u001b[0m \u001b[1;32min\u001b[0m \u001b[0mrange\u001b[0m\u001b[1;33m(\u001b[0m\u001b[0mlen\u001b[0m\u001b[1;33m(\u001b[0m\u001b[0mrecord\u001b[0m\u001b[1;33m)\u001b[0m\u001b[1;33m)\u001b[0m\u001b[1;33m:\u001b[0m\u001b[1;33m\u001b[0m\u001b[1;33m\u001b[0m\u001b[0m\n\u001b[1;32m----> 2\u001b[1;33m     \u001b[0mPhone_Store_Record_Management\u001b[0m\u001b[1;33m(\u001b[0m\u001b[0mrecord\u001b[0m\u001b[1;33m(\u001b[0m\u001b[0ma\u001b[0m\u001b[1;33m)\u001b[0m\u001b[1;33m)\u001b[0m\u001b[1;33m\u001b[0m\u001b[1;33m\u001b[0m\u001b[0m\n\u001b[0m",
      "\u001b[1;31mTypeError\u001b[0m: 'list' object is not callable"
     ]
    }
   ],
   "source": [
    "for a in range(len(record)):\n",
    "    Phone_Store_Record_Management(record(a))"
   ]
  },
  {
   "cell_type": "code",
   "execution_count": 8,
   "metadata": {},
   "outputs": [],
   "source": [
    "file = open('demo.doc','w')\n",
    "file.write('''Work Title: a work done in time saves you the stressful hurry.''')\n",
    "file.close()"
   ]
  },
  {
   "cell_type": "code",
   "execution_count": 12,
   "metadata": {},
   "outputs": [
    {
     "name": "stdout",
     "output_type": "stream",
     "text": [
      "{\n",
      " \"cells\": [\n",
      "  {\n",
      "   \"cell_type\": \"markdown\",\n",
      "   \"metadata\": {},\n",
      "   \"source\": [\n",
      "    \"# LAMBDA FUNCTION \"\n",
      "   ]\n",
      "  },\n",
      "  {\n",
      "   \"cell_type\": \"markdown\",\n",
      "   \"metadata\": {},\n",
      "   \"source\": [\n",
      "    \"#In lambda function everything has to be on same line\"\n",
      "   ]\n",
      "  },\n",
      "  {\n",
      "   \"cell_type\": \"code\",\n",
      "   \"execution_count\": 3,\n",
      "   \"metadata\": {},\n",
      "   \"outputs\": [\n",
      "    {\n",
      "     \"data\": {\n",
      "      \"text/plain\": [\n",
      "       \"3125\"\n",
      "      ]\n",
      "     },\n",
      "     \"execution_count\": 3,\n",
      "     \"metadata\": {},\n",
      "     \"output_type\": \"execute_result\"\n",
      "    }\n",
      "   ],\n",
      "   \"source\": [\n",
      "    \"(lambda x:x**x) (5)\"\n",
      "   ]\n",
      "  },\n",
      "  {\n",
      "   \"cell_type\": \"code\",\n",
      "   \"execution_count\": 5,\n",
      "   \"metadata\": {},\n",
      "   \"outputs\": [\n",
      "    {\n",
      "     \"name\": \"stdout\",\n",
      "     \"output_type\": \"stream\",\n",
      "     \"text\": [\n",
      "      \"please provide a number)))                                                  78\\n\"\n",
      "     ]\n",
      "    },\n",
      "    {\n",
      "     \"data\": {\n",
      "      \"text/plain\": [\n",
      "       \"'78 is an even number'\"\n",
      "      ]\n",
      "     },\n",
      "     \"execution_count\": 5,\n",
      "     \"metadata\": {},\n",
      "     \"output_type\": \"execute_result\"\n",
      "    }\n",
      "   ],\n",
      "   \"source\": [\n",
      "    \"# Excerise 1\\n\",\n",
      "    \"# Write a lambda function to check if a given number is an even number or odd number\\n\",\n",
      "    \"(lambda num:f'{num} is an even number' if num % 2 == 0 else  f'{num}is an odd number')(int(input('please provide a number)))                                                  ')))\"\n",
      "   ]\n",
      "  },\n",
      "  {\n",
      "   \"cell_type\": \"code\",\n",
      "   \"execution_count\": 11,\n",
      "   \"metadata\": {},\n",
      "   \"outputs\": [\n",
      "    {\n",
      "     \"name\": \"stdout\",\n",
      "     \"output_type\": \"stream\",\n",
      "     \"text\": [\n",
      "      \"please provide your passwordAde@\\n\"\n",
      "     ]\n",
      "    },\n",
      "    {\n",
      "     \"data\": {\n",
      "      \"text/plain\": [\n",
      "       \"False\"\n",
      "      ]\n",
      "     },\n",
      "     \"execution_count\": 11,\n",
      "     \"metadata\": {},\n",
      "     \"output_type\": \"execute_result\"\n",
      "    }\n",
      "   ],\n",
      "   \"source\": [\n",
      "    \"# Exercise 2\\n\",\n",
      "    \"#write a lambda function to check if a given password start with an uppercase letter and end with any special character\\n\",\n",
      "    \"\\n\",\n",
      "    \"(lambda password: f'{password} start with the upper case and ends with a special character' if password [0]==password.upper() and password[-1]=='#'else False)(input('please provide your password'))\"\n",
      "   ]\n",
      "  },\n",
      "  {\n",
      "   \"cell_type\": \"markdown\",\n",
      "   \"metadata\": {},\n",
      "   \"source\": [\n",
      "    \"# MAP  & FILTER \"\n",
      "   ]\n",
      "  },\n",
      "  {\n",
      "   \"cell_type\": \"code\",\n",
      "   \"execution_count\": 12,\n",
      "   \"metadata\": {},\n",
      "   \"outputs\": [\n",
      "    {\n",
      "     \"name\": \"stdout\",\n",
      "     \"output_type\": \"stream\",\n",
      "     \"text\": [\n",
      "      \"['BINGO', 'CAPPY', 'WISKY', 'BANTY', 'HENRY']\\n\"\n",
      "     ]\n",
      "    }\n",
      "   ],\n",
      "   \"source\": [\n",
      "    \"dogs= ['bingo','cappy','wisky','banty','henry']\\n\",\n",
      "    \"updatelist =list(map(lambda x: str.upper(x),dogs))\\n\",\n",
      "    \"print(updatelist)\"\n",
      "   ]\n",
      "  },\n",
      "  {\n",
      "   \"cell_type\": \"markdown\",\n",
      "   \"metadata\": {},\n",
      "   \"source\": [\n",
      "    \"# FILTER\"\n",
      "   ]\n",
      "  },\n",
      "  {\n",
      "   \"cell_type\": \"code\",\n",
      "   \"execution_count\": 14,\n",
      "   \"metadata\": {},\n",
      "   \"outputs\": [\n",
      "    {\n",
      "     \"name\": \"stdout\",\n",
      "     \"output_type\": \"stream\",\n",
      "     \"text\": [\n",
      "      \"[7.0, 7.810249675906654, 6.928203230275509, 7.0, 7.615773105863909, 7.0710678118654755, 6.708203932499369, 6.782329983125268, 6.855654600401044, 8.0, 7.211102550927978, 8.366600265340756, 7.615773105863909, 7.681145747868608, 8.306623862918075, 7.14142842854285, 8.306623862918075, 7.416198487095663, 6.708203932499369, 6.708203932499369, 7.0, 8.366600265340756, 8.18535277187245, 7.54983443527075, 7.483314773547883, 8.0, 7.0, 7.0710678118654755, 7.745966692414834, 7.745966692414834, 7.810249675906654, 8.246211251235321, 7.937253933193772, 7.14142842854285, 8.06225774829855, 6.708203932499369, 6.855654600401044, 8.246211251235321, 7.14142842854285, 7.810249675906654, 7.0, 7.681145747868608, 6.928203230275509, 7.745966692414834, 8.0, 6.928203230275509, 6.855654600401044, 8.246211251235321, 8.366600265340756, 8.366600265340756]\\n\",\n",
      "      \"[49, 48, 49, 50, 45, 46, 47, 52, 51, 55, 45, 45, 49, 49, 50, 51, 45, 47, 51, 49, 48, 48, 47]\\n\"\n",
      "     ]\n",
      "    }\n",
      "   ],\n",
      "   \"source\": [\n",
      "    \"import random as rn\\n\",\n",
      "    \"import math as m\\n\",\n",
      "    \"numbers =[]\\n\",\n",
      "    \"counter= 1\\n\",\n",
      "    \"while counter <=50:\\n\",\n",
      "    \"    num=rn.randint(45,70)\\n\",\n",
      "    \"    numbers.append(num)\\n\",\n",
      "    \"    counter +=1\\n\",\n",
      "    \"    \\n\",\n",
      "    \"numsqrt=list(map(lambda x:m.sqrt(x),numbers))\\n\",\n",
      "    \"numfilter=list(filter(lambda x:x <=55,numbers))\\n\",\n",
      "    \"print(numsqrt)\\n\",\n",
      "    \"print(numfilter)\"\n",
      "   ]\n",
      "  },\n",
      "  {\n",
      "   \"cell_type\": \"code\",\n",
      "   \"execution_count\": 15,\n",
      "   \"metadata\": {},\n",
      "   \"outputs\": [\n",
      "    {\n",
      "     \"name\": \"stdout\",\n",
      "     \"output_type\": \"stream\",\n",
      "     \"text\": [\n",
      "      \"[47, 61, 65, 62, 69, 63, 46, 51, 55, 60, 64, 67, 62, 46, 54, 65, 48, 48, 63, 58, 52, 64, 65, 59, 59, 66, 57, 66, 64, 53, 47, 67, 64, 49, 58, 68, 55, 70, 48, 63, 60, 52, 48, 55, 65, 45, 67, 68, 62, 66]\\n\",\n",
      "      \"[6.855654600401044, 7.810249675906654, 8.06225774829855, 7.874007874011811, 8.306623862918075, 7.937253933193772, 6.782329983125268, 7.14142842854285, 7.416198487095663, 7.745966692414834, 8.0, 8.18535277187245, 7.874007874011811, 6.782329983125268, 7.3484692283495345, 8.06225774829855, 6.928203230275509, 6.928203230275509, 7.937253933193772, 7.615773105863909, 7.211102550927978, 8.0, 8.06225774829855, 7.681145747868608, 7.681145747868608, 8.12403840463596, 7.54983443527075, 8.12403840463596, 8.0, 7.280109889280518, 6.855654600401044, 8.18535277187245, 8.0, 7.0, 7.615773105863909, 8.246211251235321, 7.416198487095663, 8.366600265340756, 6.928203230275509, 7.937253933193772, 7.745966692414834, 7.211102550927978, 6.928203230275509, 7.416198487095663, 8.06225774829855, 6.708203932499369, 8.18535277187245, 8.246211251235321, 7.874007874011811, 8.12403840463596]\\n\",\n",
      "      \"[47, 46, 51, 55, 46, 54, 48, 48, 52, 53, 47, 49, 55, 48, 52, 48, 55, 45]\\n\"\n",
      "     ]\n",
      "    }\n",
      "   ],\n",
      "   \"source\": [\n",
      "    \"import random as rn\\n\",\n",
      "    \"import math as m\\n\",\n",
      "    \"numbers =[]\\n\",\n",
      "    \"counter= 1\\n\",\n",
      "    \"while counter <=50:\\n\",\n",
      "    \"    num=rn.randint(45,70)\\n\",\n",
      "    \"    numbers.append(num)\\n\",\n",
      "    \"    counter +=1\\n\",\n",
      "    \"print(numbers)    \\n\",\n",
      "    \"numsqrt=list(map(lambda x:m.sqrt(x),numbers))\\n\",\n",
      "    \"numfilter=list(filter(lambda x:x <=55,numbers))\\n\",\n",
      "    \"print(numsqrt)\\n\",\n",
      "    \"print(numfilter)\"\n",
      "   ]\n",
      "  },\n",
      "  {\n",
      "   \"cell_type\": \"code\",\n",
      "   \"execution_count\": null,\n",
      "   \"metadata\": {},\n",
      "   \"outputs\": [],\n",
      "   \"source\": []\n",
      "  }\n",
      " ],\n",
      " \"metadata\": {\n",
      "  \"kernelspec\": {\n",
      "   \"display_name\": \"Python 3\",\n",
      "   \"language\": \"python\",\n",
      "   \"name\": \"python3\"\n",
      "  },\n",
      "  \"language_info\": {\n",
      "   \"codemirror_mode\": {\n",
      "    \"name\": \"ipython\",\n",
      "    \"version\": 3\n",
      "   },\n",
      "   \"file_extension\": \".py\",\n",
      "   \"mimetype\": \"text/x-python\",\n",
      "   \"name\": \"python\",\n",
      "   \"nbconvert_exporter\": \"python\",\n",
      "   \"pygments_lexer\": \"ipython3\",\n",
      "   \"version\": \"3.8.5\"\n",
      "  }\n",
      " },\n",
      " \"nbformat\": 4,\n",
      " \"nbformat_minor\": 4\n",
      "}\n",
      "\n"
     ]
    },
    {
     "data": {
      "text/plain": [
       "<function TextIOWrapper.close()>"
      ]
     },
     "execution_count": 12,
     "metadata": {},
     "output_type": "execute_result"
    }
   ],
   "source": [
    "file1 = open('day 7.ipynb','r')\n",
    "print(file1.read())\n",
    "file1.close"
   ]
  },
  {
   "cell_type": "code",
   "execution_count": 14,
   "metadata": {},
   "outputs": [],
   "source": [
    "file2 = open('demo.doc','a')\n",
    "file2.write('''I will delete you, if you are not serious''')\n",
    "file2.close()"
   ]
  },
  {
   "cell_type": "code",
   "execution_count": 15,
   "metadata": {},
   "outputs": [
    {
     "name": "stdout",
     "output_type": "stream",
     "text": [
      "Work Title: a work done in time saves you the stressful hurry.I will delete you, if you are not serious\n"
     ]
    }
   ],
   "source": [
    "file2 = open('demo.doc','r')\n",
    "print(file2.read())\n",
    "file2.close()"
   ]
  },
  {
   "cell_type": "code",
   "execution_count": 16,
   "metadata": {},
   "outputs": [
    {
     "name": "stdout",
     "output_type": "stream",
     "text": [
      "Work Title: a work done in time saves you the stressful hurry.I will delete you, if you are not serious\n"
     ]
    }
   ],
   "source": [
    "file3 = open('demo.doc','r+')#'r+' means Read then append OR read before append\n",
    "print(file3.read())\n",
    "file3.write('''I don tire for this python when we never see the tail o...''')\n",
    "file3.close()\n"
   ]
  },
  {
   "cell_type": "code",
   "execution_count": 17,
   "metadata": {},
   "outputs": [
    {
     "name": "stdout",
     "output_type": "stream",
     "text": [
      "Work Title: a work done in time saves you the stressful hurry.I will delete you, if you are not seriousI don tire for this python when we never see the tail o...\n",
      "Work Title: a work done in time saves you the stressful hurry.I will delete you, if you are not seriousI don tire for this python when we never see the tail o...I don tire for this python when we never see the tail o...\n"
     ]
    }
   ],
   "source": [
    "file3 = open('demo.doc','r+')#'r+' means Read then append OR read before append\n",
    "print(file3.read())\n",
    "file3.write('''I don tire for this python when we never see the tail o...''')\n",
    "file3 = open('demo.doc','r')\n",
    "print(file3.read())\n",
    "file3.close()\n"
   ]
  },
  {
   "cell_type": "code",
   "execution_count": 3,
   "metadata": {},
   "outputs": [
    {
     "name": "stdout",
     "output_type": "stream",
     "text": [
      "Enter Y as yes and N as no to enter phone detailsY\n",
      "Phone Name: Nokia\n",
      "Model Number: NK3320\n",
      "Price: 16000\n",
      "Enter Y as yes and N as no to enter phone detailsN\n",
      "-------The list of the Phones that the store has---------\n",
      "1 . Nokia:NK3320::16000\n"
     ]
    }
   ],
   "source": [
    "class Phone_Store_Record_Management:\n",
    "    def __init__(self,Pname,Modelno,Price):\n",
    "        self.Pname = Pname\n",
    "        self.Modelno = Modelno\n",
    "        self.Price = Price\n",
    "    \n",
    "    def getprice(self):\n",
    "        return self.Price\n",
    "        \n",
    "    def getmodel(self):\n",
    "        return self.Modelno\n",
    "    def __str__(self):\n",
    "        return self.Pname + ':'+str(self.getmodel())+'::' + str(self.getprice())\n",
    "\n",
    "def prices(asee,Pname,Modelno,Price):\n",
    "    asee.append(Phone_Store_Record_Management(Pname,Modelno,Price))\n",
    "    return asee\n",
    "record = []\n",
    "x = input('Enter Y as yes and N as no to enter phone details')\n",
    "while x == 'Y':\n",
    "    Pname = input('Phone Name: ')\n",
    "    Modelno = input('Model Number: ')\n",
    "    Money = input('Price: ')\n",
    "    record = prices(record,Pname,Modelno,Money)\n",
    "    x = input('Enter Y as yes and N as no to enter phone details')\n",
    "    \n",
    "n = 1\n",
    "print(\"-------The list of the Phones that the store has---------\")\n",
    "for item in record:\n",
    "    print(n, '.',item)\n",
    "    n = n + 1\n",
    "    "
   ]
  },
  {
   "cell_type": "code",
   "execution_count": null,
   "metadata": {},
   "outputs": [],
   "source": []
  }
 ],
 "metadata": {
  "kernelspec": {
   "display_name": "Python 3",
   "language": "python",
   "name": "python3"
  },
  "language_info": {
   "codemirror_mode": {
    "name": "ipython",
    "version": 3
   },
   "file_extension": ".py",
   "mimetype": "text/x-python",
   "name": "python",
   "nbconvert_exporter": "python",
   "pygments_lexer": "ipython3",
   "version": "3.8.5"
  }
 },
 "nbformat": 4,
 "nbformat_minor": 4
}
