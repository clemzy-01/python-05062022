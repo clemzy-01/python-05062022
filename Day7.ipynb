{
 "cells": [
  {
   "cell_type": "markdown",
   "metadata": {},
   "source": [
    "# lambda function"
   ]
  },
  {
   "cell_type": "code",
   "execution_count": 1,
   "metadata": {},
   "outputs": [
    {
     "data": {
      "text/plain": [
       "3125"
      ]
     },
     "execution_count": 1,
     "metadata": {},
     "output_type": "execute_result"
    }
   ],
   "source": [
    "(lambda x: x**x)(5)"
   ]
  },
  {
   "cell_type": "code",
   "execution_count": 3,
   "metadata": {},
   "outputs": [
    {
     "name": "stdout",
     "output_type": "stream",
     "text": [
      "Please enter a number45\n"
     ]
    },
    {
     "data": {
      "text/plain": [
       "'45 is an odd number'"
      ]
     },
     "execution_count": 3,
     "metadata": {},
     "output_type": "execute_result"
    }
   ],
   "source": [
    "# Exercise 1\n",
    "#Write a labmda function to check if a given number is an even number or odd number\n",
    "\n",
    "(lambda num:f'{num} is an even number' if num % 2 ==0 else f'{num} is an odd number')(int(input('Please enter a number')))"
   ]
  },
  {
   "cell_type": "code",
   "execution_count": 18,
   "metadata": {},
   "outputs": [
    {
     "name": "stdout",
     "output_type": "stream",
     "text": [
      "Please enter your password@seyilaw@\n"
     ]
    },
    {
     "data": {
      "text/plain": [
       "'@seyilaw@ starts with an uppercase letter and ends with a special character'"
      ]
     },
     "execution_count": 18,
     "metadata": {},
     "output_type": "execute_result"
    }
   ],
   "source": [
    "# Exercise 2\n",
    "# Write a lambda function to check if a given password start with an uppercase letter and end with any special character\n",
    "\n",
    "(lambda passwd: f'{passwd} starts with an uppercase letter and ends with a special character' if passwd[0]==passwd.upper() and passwd[-1] == '#' or passwd[-1] == '@' else 'no')(input('Please enter your password'))"
   ]
  },
  {
   "cell_type": "code",
   "execution_count": 20,
   "metadata": {},
   "outputs": [
    {
     "name": "stdout",
     "output_type": "stream",
     "text": [
      "Please enter your password Seyilaw\n"
     ]
    },
    {
     "data": {
      "text/plain": [
       "'no'"
      ]
     },
     "execution_count": 20,
     "metadata": {},
     "output_type": "execute_result"
    }
   ],
   "source": [
    "# Exercise 2\n",
    "# Write a lambda function to check if a given password start with an uppercase letter and end with any special character\n",
    "\n",
    "(lambda passwd: f'{passwd} starts with an uppercase letter and ends with a special character' if passwd[0]==passwd.upper() and passwd[-1] == '#' or passwd[-1] == '@' else 'no')(input('Please enter your password '))"
   ]
  },
  {
   "cell_type": "markdown",
   "metadata": {},
   "source": [
    "## HomeWork - Read more on 'String Module'"
   ]
  },
  {
   "cell_type": "markdown",
   "metadata": {},
   "source": [
    "# MAP AND FILTER"
   ]
  },
  {
   "cell_type": "code",
   "execution_count": 21,
   "metadata": {},
   "outputs": [],
   "source": [
    "#what is the work of map and filter?\n",
    "## Map is used for modification of a tuple or list. and in carrying out this function\n",
    "###you must use the lambda function to execute the map action.\n",
    "\n",
    "## Filter is used for selection of items from turple or list and in carrying out this function\n",
    "###you must use the lambda function to execute the map action.\n",
    "\n",
    "#NOTE: \n",
    "    ## Map & Filter can't be used in dictionary"
   ]
  },
  {
   "cell_type": "code",
   "execution_count": 22,
   "metadata": {},
   "outputs": [
    {
     "name": "stdout",
     "output_type": "stream",
     "text": [
      "['BINGO', 'CAPPY', 'WISKY', 'BANTY', 'HENRY']\n"
     ]
    }
   ],
   "source": [
    "dogs = ['bingo', 'cappy', 'wisky', 'banty', 'henry']\n",
    "updatelist = list(map(lambda x: str.upper(x),dogs))\n",
    "print(updatelist)"
   ]
  },
  {
   "cell_type": "code",
   "execution_count": 24,
   "metadata": {},
   "outputs": [
    {
     "name": "stdout",
     "output_type": "stream",
     "text": [
      "[59, 57, 53, 69, 47, 69, 59, 52, 52, 53, 69, 46, 66, 57, 46, 68, 60, 49, 53, 66, 49, 50, 64, 65, 54, 47, 53, 59, 69, 46, 68, 64, 51, 57, 59, 46, 60, 59, 68, 53, 64, 55, 59, 67, 49, 60, 60, 62, 45, 57]\n",
      "[7.681145747868608, 7.54983443527075, 7.280109889280518, 8.306623862918075, 6.855654600401044, 8.306623862918075, 7.681145747868608, 7.211102550927978, 7.211102550927978, 7.280109889280518, 8.306623862918075, 6.782329983125268, 8.12403840463596, 7.54983443527075, 6.782329983125268, 8.246211251235321, 7.745966692414834, 7.0, 7.280109889280518, 8.12403840463596, 7.0, 7.0710678118654755, 8.0, 8.06225774829855, 7.3484692283495345, 6.855654600401044, 7.280109889280518, 7.681145747868608, 8.306623862918075, 6.782329983125268, 8.246211251235321, 8.0, 7.14142842854285, 7.54983443527075, 7.681145747868608, 6.782329983125268, 7.745966692414834, 7.681145747868608, 8.246211251235321, 7.280109889280518, 8.0, 7.416198487095663, 7.681145747868608, 8.18535277187245, 7.0, 7.745966692414834, 7.745966692414834, 7.874007874011811, 6.708203932499369, 7.54983443527075]\n",
      "[53, 47, 52, 52, 53, 46, 46, 49, 53, 49, 50, 54, 47, 53, 46, 51, 46, 53, 55, 49, 45]\n"
     ]
    }
   ],
   "source": [
    "import random as rn\n",
    "import math as m\n",
    "numbers = []\n",
    "counter = 1\n",
    "while counter <= 50:\n",
    "    num = rn.randint(45,70)\n",
    "    numbers.append(num)\n",
    "    counter +=1\n",
    "print(numbers)    \n",
    "numsqrt = list(map(lambda x:m.sqrt(x),numbers))\n",
    "numfilter = list(filter(lambda x: x <= 55, numbers))\n",
    "print(numsqrt)\n",
    "print(numfilter)"
   ]
  },
  {
   "cell_type": "code",
   "execution_count": 28,
   "metadata": {},
   "outputs": [
    {
     "name": "stdout",
     "output_type": "stream",
     "text": [
      "['Formatter', 'Template', '_ChainMap', '_TemplateMetaclass', '__all__', '__builtins__', '__cached__', '__doc__', '__file__', '__loader__', '__name__', '__package__', '__spec__', '_re', '_sentinel_dict', '_string', 'ascii_letters', 'ascii_lowercase', 'ascii_uppercase', 'capwords', 'digits', 'hexdigits', 'octdigits', 'printable', 'punctuation', 'whitespace']\n"
     ]
    }
   ],
   "source": [
    "import string\n",
    "print(dir(string))"
   ]
  },
  {
   "cell_type": "code",
   "execution_count": null,
   "metadata": {},
   "outputs": [],
   "source": []
  }
 ],
 "metadata": {
  "kernelspec": {
   "display_name": "Python 3",
   "language": "python",
   "name": "python3"
  },
  "language_info": {
   "codemirror_mode": {
    "name": "ipython",
    "version": 3
   },
   "file_extension": ".py",
   "mimetype": "text/x-python",
   "name": "python",
   "nbconvert_exporter": "python",
   "pygments_lexer": "ipython3",
   "version": "3.8.5"
  }
 },
 "nbformat": 4,
 "nbformat_minor": 4
}
