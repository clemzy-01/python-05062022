{
 "cells": [
  {
   "cell_type": "code",
   "execution_count": 2,
   "metadata": {},
   "outputs": [
    {
     "name": "stdout",
     "output_type": "stream",
     "text": [
      "i sold two pairs of shirt for 15000, a shoe for 25000, a suit for the sum of 45000\n"
     ]
    }
   ],
   "source": [
    "price1 = 15000\n",
    "price2 = 25000\n",
    "price3 = 45000\n",
    "\n",
    "report ='i sold two pairs of shirt for {}, a shoe for {}, a suit for the sum of {}'\n",
    "print (report.format(price1,price2,price3))"
   ]
  },
  {
   "cell_type": "code",
   "execution_count": 3,
   "metadata": {},
   "outputs": [
    {
     "name": "stdout",
     "output_type": "stream",
     "text": [
      "i sold two pairs of shirt for 25000, a shoe for 15000, a suit for 45000\n"
     ]
    }
   ],
   "source": [
    "print (f'i sold two pairs of shirt for {price2}, a shoe for {price1}, a suit for {price3}')"
   ]
  },
  {
   "cell_type": "code",
   "execution_count": 3,
   "metadata": {},
   "outputs": [
    {
     "name": "stdout",
     "output_type": "stream",
     "text": [
      "PYTHON\n",
      "python\n",
      "Python Is Fun\n",
      "Python is fun\n",
      "['python', 'is', 'fun']\n",
      "info@gmail.com\n"
     ]
    }
   ],
   "source": [
    "word1 = 'python'\n",
    "word2 = 'PYTHON'\n",
    "word3 = 'python is fun'\n",
    "word4 = '     info@gmail.com'\n",
    "\n",
    "print(word1.upper())\n",
    "print(word2.lower())\n",
    "print(word3.title())\n",
    "print(word3.capitalize())\n",
    "print(word3.split())\n",
    "print(word4.strip())"
   ]
  },
  {
   "cell_type": "code",
   "execution_count": 4,
   "metadata": {},
   "outputs": [
    {
     "name": "stdout",
     "output_type": "stream",
     "text": [
      "Python\n"
     ]
    }
   ],
   "source": [
    "print(word1.capitalize())"
   ]
  },
  {
   "cell_type": "code",
   "execution_count": 5,
   "metadata": {},
   "outputs": [
    {
     "name": "stdout",
     "output_type": "stream",
     "text": [
      "python\n"
     ]
    }
   ],
   "source": [
    "print(word1)"
   ]
  },
  {
   "cell_type": "code",
   "execution_count": 31,
   "metadata": {},
   "outputs": [
    {
     "name": "stdout",
     "output_type": "stream",
     "text": [
      "python: python is fun\n"
     ]
    }
   ],
   "source": [
    "print(f'{word1}:',word3)"
   ]
  },
  {
   "cell_type": "code",
   "execution_count": 7,
   "metadata": {},
   "outputs": [
    {
     "name": "stdout",
     "output_type": "stream",
     "text": [
      "python      info@gmail.com\n"
     ]
    }
   ],
   "source": [
    "print(word1,word4)"
   ]
  },
  {
   "cell_type": "code",
   "execution_count": 8,
   "metadata": {},
   "outputs": [
    {
     "name": "stdout",
     "output_type": "stream",
     "text": [
      "python info@gmail.com\n"
     ]
    }
   ],
   "source": [
    "print(word1,word4.strip())"
   ]
  },
  {
   "cell_type": "code",
   "execution_count": 9,
   "metadata": {},
   "outputs": [
    {
     "name": "stdout",
     "output_type": "stream",
     "text": [
      "pythonpython is fun\n"
     ]
    }
   ],
   "source": [
    "print('python'+ word3)"
   ]
  },
  {
   "cell_type": "code",
   "execution_count": 10,
   "metadata": {},
   "outputs": [
    {
     "name": "stdout",
     "output_type": "stream",
     "text": [
      "python is fun in the end\n"
     ]
    }
   ],
   "source": [
    "print(word3 + ' in the end')"
   ]
  },
  {
   "cell_type": "code",
   "execution_count": 11,
   "metadata": {},
   "outputs": [
    {
     "name": "stdout",
     "output_type": "stream",
     "text": [
      "python is hard at the begining but python is fun\n"
     ]
    }
   ],
   "source": [
    "print(word1 + ' is hard at the begining but ' + word3)"
   ]
  },
  {
   "cell_type": "markdown",
   "metadata": {},
   "source": [
    "# Data Type Conversion"
   ]
  },
  {
   "cell_type": "code",
   "execution_count": 12,
   "metadata": {},
   "outputs": [
    {
     "name": "stdout",
     "output_type": "stream",
     "text": [
      "12\n"
     ]
    }
   ],
   "source": [
    "num2 = int(12.5)\n",
    "print(num2)"
   ]
  },
  {
   "cell_type": "code",
   "execution_count": 13,
   "metadata": {},
   "outputs": [
    {
     "name": "stdout",
     "output_type": "stream",
     "text": [
      "12\n"
     ]
    }
   ],
   "source": [
    "print(round(num2))"
   ]
  },
  {
   "cell_type": "code",
   "execution_count": 14,
   "metadata": {},
   "outputs": [
    {
     "name": "stdout",
     "output_type": "stream",
     "text": [
      "12\n"
     ]
    }
   ],
   "source": [
    "print(round(int(num2)))"
   ]
  },
  {
   "cell_type": "code",
   "execution_count": 15,
   "metadata": {},
   "outputs": [
    {
     "name": "stdout",
     "output_type": "stream",
     "text": [
      "12.0\n"
     ]
    }
   ],
   "source": [
    "print(float(num2))"
   ]
  },
  {
   "cell_type": "code",
   "execution_count": 16,
   "metadata": {},
   "outputs": [
    {
     "name": "stdout",
     "output_type": "stream",
     "text": [
      "135\n"
     ]
    }
   ],
   "source": [
    "num1 = float(135.67)\n",
    "print(round(int(num1)))"
   ]
  },
  {
   "cell_type": "code",
   "execution_count": 17,
   "metadata": {},
   "outputs": [
    {
     "name": "stdout",
     "output_type": "stream",
     "text": [
      "135\n"
     ]
    }
   ],
   "source": [
    "print(int(num1))"
   ]
  },
  {
   "cell_type": "code",
   "execution_count": 18,
   "metadata": {},
   "outputs": [
    {
     "name": "stdout",
     "output_type": "stream",
     "text": [
      "136\n"
     ]
    }
   ],
   "source": [
    "print(int(round(num1)))"
   ]
  },
  {
   "cell_type": "code",
   "execution_count": 19,
   "metadata": {},
   "outputs": [
    {
     "name": "stdout",
     "output_type": "stream",
     "text": [
      "135.67\n"
     ]
    }
   ],
   "source": [
    "print(str(num1))"
   ]
  },
  {
   "cell_type": "markdown",
   "metadata": {},
   "source": [
    "# OPERATORS"
   ]
  },
  {
   "cell_type": "markdown",
   "metadata": {},
   "source": [
    "# Arithmetic Operators\n",
    "## + addition\n",
    "## - subtration\n",
    "## * multiplication\n",
    "## / division\n",
    "## % modulous\n",
    "## // integer division\n",
    "## ** exponentia"
   ]
  },
  {
   "cell_type": "code",
   "execution_count": 6,
   "metadata": {},
   "outputs": [
    {
     "name": "stdout",
     "output_type": "stream",
     "text": [
      "25 + 15 = 40\n",
      "25 - 15 = 10\n",
      "25 x 15 = 375\n",
      "25 / 15 = 1.6666666666666667\n",
      "25 % 15 = 10\n",
      "25 // 15 = 1.6666666666666667\n",
      "25 ^ 15 = 931322574615478515625\n"
     ]
    }
   ],
   "source": [
    "number1 = 25\n",
    "number2 = 15\n",
    "\n",
    "print(f'{number1} + {number2} = {number1 + number2}')\n",
    "print(f'{number1} - {number2} = {number1 - number2}')\n",
    "print(f'{number1} x {number2} = {number1 * number2}')\n",
    "print(f'{number1} / {number2} = {number1 / number2}')\n",
    "print(f'{number1} % {number2} = {number1 % number2}')\n",
    "print(f'{number1} // {number2} = {number1 / number2}')\n",
    "print(f'{number1} ^ {number2} = {number1 ** number2}')"
   ]
  },
  {
   "cell_type": "markdown",
   "metadata": {},
   "source": [
    "# Comparism Operators\n",
    "## > greater than\n",
    "## < less than\n",
    "## >= greater than or equal to\n",
    "## <= less than or equal to\n",
    "## == equal to\n",
    "## != not equal to"
   ]
  },
  {
   "cell_type": "code",
   "execution_count": 21,
   "metadata": {},
   "outputs": [
    {
     "name": "stdout",
     "output_type": "stream",
     "text": [
      "True\n",
      "False\n",
      "True\n",
      "False\n",
      "False\n",
      "True\n"
     ]
    }
   ],
   "source": [
    "print(number1 > number2)\n",
    "print(number1 < number2)\n",
    "print(number1 >= number2)\n",
    "print(number1 <= number2)\n",
    "print(number1 == number2)\n",
    "print(number1 != number2)"
   ]
  },
  {
   "cell_type": "code",
   "execution_count": 22,
   "metadata": {},
   "outputs": [
    {
     "name": "stdout",
     "output_type": "stream",
     "text": [
      "True\n"
     ]
    }
   ],
   "source": [
    "print(num1 > num2)"
   ]
  },
  {
   "cell_type": "code",
   "execution_count": 23,
   "metadata": {},
   "outputs": [
    {
     "name": "stdout",
     "output_type": "stream",
     "text": [
      "False\n"
     ]
    }
   ],
   "source": [
    "print(price1 > price2)"
   ]
  },
  {
   "cell_type": "code",
   "execution_count": 24,
   "metadata": {},
   "outputs": [
    {
     "name": "stdout",
     "output_type": "stream",
     "text": [
      "i have 1000 dollars so i can buy 3 football for 450.0 dollars\n"
     ]
    }
   ],
   "source": [
    "totalmoney = 1000\n",
    "quantity = 3\n",
    "price = 450.00\n",
    "report = \"i have {} dollars so i can buy {} football for {} dollars\"\n",
    "print(report.format(totalmoney,quantity,price))"
   ]
  },
  {
   "cell_type": "code",
   "execution_count": 25,
   "metadata": {},
   "outputs": [
    {
     "name": "stdout",
     "output_type": "stream",
     "text": [
      "458.0\n"
     ]
    }
   ],
   "source": [
    "print(float(458))"
   ]
  },
  {
   "cell_type": "code",
   "execution_count": 16,
   "metadata": {},
   "outputs": [
    {
     "name": "stdout",
     "output_type": "stream",
     "text": [
      "5000(1 + 6/100)**3 - 5000 = 5000\n",
      "= 5000 *(1 + 6/100)**3 - 5000 = 955.0799999999999 \n",
      "25 + 15 = 40\n",
      "25 - 15 = 10\n",
      "25 x 15 = 375\n",
      "25 / 15 = 1.6666666666666667\n",
      "25 % 15 = 10\n",
      "25 // 15 = 1.6666666666666667\n",
      "25 ^ 15 = 931322574615478515625\n"
     ]
    }
   ],
   "source": [
    "principal = 5000\n",
    "rate = 6\n",
    "time = 3\n",
    "print(f'{principal}(1 + {rate}/100)**3 - {principal} = {principal}')\n",
    "\n",
    "solution = principal * (1 + rate/100)**3 - principal\n",
    "print(f'= {principal} *(1 + {rate}/100)**3 - {principal} = {solution} ')\n",
    "\n",
    "\n",
    "print(f'{number1} + {number2} = {number1 + number2}')\n",
    "print(f'{number1} - {number2} = {number1 - number2}')\n",
    "print(f'{number1} x {number2} = {number1 * number2}')\n",
    "print(f'{number1} / {number2} = {number1 / number2}')\n",
    "print(f'{number1} % {number2} = {number1 % number2}')\n",
    "print(f'{number1} // {number2} = {number1 / number2}')\n",
    "print(f'{number1} ^ {number2} = {number1 ** number2}')"
   ]
  },
  {
   "cell_type": "markdown",
   "metadata": {},
   "source": [
    "# Logical Operators\n",
    "## and\n",
    "## or\n",
    "## not"
   ]
  },
  {
   "cell_type": "code",
   "execution_count": 4,
   "metadata": {},
   "outputs": [
    {
     "ename": "NameError",
     "evalue": "name 'number1' is not defined",
     "output_type": "error",
     "traceback": [
      "\u001b[1;31m---------------------------------------------------------------------------\u001b[0m",
      "\u001b[1;31mNameError\u001b[0m                                 Traceback (most recent call last)",
      "\u001b[1;32m<ipython-input-4-d86bc6c3500f>\u001b[0m in \u001b[0;36m<module>\u001b[1;34m\u001b[0m\n\u001b[1;32m----> 1\u001b[1;33m \u001b[0mprint\u001b[0m\u001b[1;33m(\u001b[0m\u001b[0mnumber1\u001b[0m\u001b[1;33m)\u001b[0m\u001b[1;33m\u001b[0m\u001b[1;33m\u001b[0m\u001b[0m\n\u001b[0m",
      "\u001b[1;31mNameError\u001b[0m: name 'number1' is not defined"
     ]
    }
   ],
   "source": [
    "print(number1)"
   ]
  },
  {
   "cell_type": "code",
   "execution_count": null,
   "metadata": {},
   "outputs": [],
   "source": [
    "print(number1 != number2 and number1 < number2)"
   ]
  },
  {
   "cell_type": "code",
   "execution_count": null,
   "metadata": {},
   "outputs": [],
   "source": [
    "print(number1)"
   ]
  },
  {
   "cell_type": "code",
   "execution_count": null,
   "metadata": {},
   "outputs": [],
   "source": [
    "print(number1 != number2 and number1 < number2)"
   ]
  },
  {
   "cell_type": "code",
   "execution_count": null,
   "metadata": {},
   "outputs": [],
   "source": [
    "print(not number1)"
   ]
  },
  {
   "cell_type": "code",
   "execution_count": null,
   "metadata": {},
   "outputs": [],
   "source": [
    "print(number1 != number2 and number1 > number2)"
   ]
  },
  {
   "cell_type": "markdown",
   "metadata": {},
   "source": [
    "# Membership Operators\n",
    "## in, not in"
   ]
  },
  {
   "cell_type": "code",
   "execution_count": 17,
   "metadata": {},
   "outputs": [
    {
     "name": "stdout",
     "output_type": "stream",
     "text": [
      "False\n"
     ]
    }
   ],
   "source": [
    "word = 'School'\n",
    "print('s' in word)"
   ]
  },
  {
   "cell_type": "code",
   "execution_count": 18,
   "metadata": {},
   "outputs": [
    {
     "name": "stdout",
     "output_type": "stream",
     "text": [
      "True\n"
     ]
    }
   ],
   "source": [
    "print('s'not in word)"
   ]
  },
  {
   "cell_type": "code",
   "execution_count": 19,
   "metadata": {},
   "outputs": [
    {
     "name": "stdout",
     "output_type": "stream",
     "text": [
      "True\n"
     ]
    }
   ],
   "source": [
    "print('S' in word)"
   ]
  },
  {
   "cell_type": "code",
   "execution_count": 20,
   "metadata": {},
   "outputs": [
    {
     "name": "stdout",
     "output_type": "stream",
     "text": [
      "True\n"
     ]
    }
   ],
   "source": [
    "print('p' not in word)"
   ]
  },
  {
   "cell_type": "markdown",
   "metadata": {},
   "source": [
    "# Identity Operators\n",
    "## is, is not"
   ]
  },
  {
   "cell_type": "code",
   "execution_count": 21,
   "metadata": {},
   "outputs": [
    {
     "name": "stdout",
     "output_type": "stream",
     "text": [
      "False\n"
     ]
    }
   ],
   "source": [
    "print(number1 is number2)"
   ]
  },
  {
   "cell_type": "code",
   "execution_count": 22,
   "metadata": {},
   "outputs": [
    {
     "name": "stdout",
     "output_type": "stream",
     "text": [
      "True\n"
     ]
    }
   ],
   "source": [
    "print(number1 is not number2)"
   ]
  },
  {
   "cell_type": "code",
   "execution_count": 27,
   "metadata": {},
   "outputs": [
    {
     "name": "stdout",
     "output_type": "stream",
     "text": [
      "ADEBAYO\n"
     ]
    }
   ],
   "source": [
    "add = 'adebayo'\n",
    "print(add.upper())"
   ]
  },
  {
   "cell_type": "code",
   "execution_count": 54,
   "metadata": {},
   "outputs": [
    {
     "name": "stdout",
     "output_type": "stream",
     "text": [
      "Please provide password: ADEBAYO\n",
      "error\n"
     ]
    }
   ],
   "source": [
    "name = input('Please provide password: ')\n",
    "check = {name}\n",
    "if any(name.upper()) in check:\n",
    "    print('Name is accepted')\n",
    "else:\n",
    "    print('error')"
   ]
  },
  {
   "cell_type": "code",
   "execution_count": 55,
   "metadata": {},
   "outputs": [
    {
     "name": "stdout",
     "output_type": "stream",
     "text": [
      "Please provide your name: ades\n",
      "ades has an upper case\n"
     ]
    }
   ],
   "source": [
    "name = input('Please provide your name: ')\n",
    "if name[:]is not name.upper():\n",
    "    print(f'{name} has an upper case')\n",
    "else:\n",
    "    print('Not allowed')"
   ]
  },
  {
   "cell_type": "code",
   "execution_count": null,
   "metadata": {
    "collapsed": true
   },
   "outputs": [],
   "source": []
  },
  {
   "cell_type": "code",
   "execution_count": null,
   "metadata": {},
   "outputs": [],
   "source": []
  },
  {
   "cell_type": "code",
   "execution_count": 47,
   "metadata": {},
   "outputs": [
    {
     "name": "stdout",
     "output_type": "stream",
     "text": [
      "Please provide your name: adegy\n",
      "adegy has an upper case\n"
     ]
    }
   ],
   "source": [
    "name = input('Please provide your name: ')\n",
    "if name not in name.upper():\n",
    "    print(f'{name} has an upper case')\n",
    "else:\n",
    "    print('Not allowed')"
   ]
  },
  {
   "cell_type": "code",
   "execution_count": null,
   "metadata": {},
   "outputs": [],
   "source": []
  }
 ],
 "metadata": {
  "kernelspec": {
   "display_name": "Python 3",
   "language": "python",
   "name": "python3"
  },
  "language_info": {
   "codemirror_mode": {
    "name": "ipython",
    "version": 3
   },
   "file_extension": ".py",
   "mimetype": "text/x-python",
   "name": "python",
   "nbconvert_exporter": "python",
   "pygments_lexer": "ipython3",
   "version": "3.8.5"
  }
 },
 "nbformat": 4,
 "nbformat_minor": 4
}
