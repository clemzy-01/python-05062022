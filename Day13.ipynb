{
 "cells": [
  {
   "cell_type": "markdown",
   "metadata": {},
   "source": [
    "# CLASSES: OBJECT ORIENTED PROGRAMS"
   ]
  },
  {
   "cell_type": "code",
   "execution_count": 1,
   "metadata": {},
   "outputs": [
    {
     "data": {
      "text/plain": [
       "'Mammal'"
      ]
     },
     "execution_count": 1,
     "metadata": {},
     "output_type": "execute_result"
    }
   ],
   "source": [
    "# A simple class with only attributes\n",
    "## attribute define the class\n",
    "\n",
    "class dog:\n",
    "    attr1 = 'Mammal'\n",
    "    attr2 = 'bark'\n",
    "obj = dog()\n",
    "obj.attr1"
   ]
  },
  {
   "cell_type": "code",
   "execution_count": 7,
   "metadata": {},
   "outputs": [
    {
     "ename": "NameError",
     "evalue": "name 'attr1' is not defined",
     "output_type": "error",
     "traceback": [
      "\u001b[1;31m---------------------------------------------------------------------------\u001b[0m",
      "\u001b[1;31mNameError\u001b[0m                                 Traceback (most recent call last)",
      "\u001b[1;32m<ipython-input-7-7a3e40e7ae63>\u001b[0m in \u001b[0;36m<module>\u001b[1;34m\u001b[0m\n\u001b[0;32m     10\u001b[0m         \u001b[0mprint\u001b[0m\u001b[1;33m(\u001b[0m\u001b[1;34mf'Rocky belongs to the family of {attr1}'\u001b[0m\u001b[1;33m)\u001b[0m\u001b[1;31m# NOTE: without the 'self' fucntion it will see 'attr1 as not defined'\u001b[0m\u001b[1;33m\u001b[0m\u001b[1;33m\u001b[0m\u001b[0m\n\u001b[0;32m     11\u001b[0m \u001b[0mobj\u001b[0m \u001b[1;33m=\u001b[0m \u001b[0mdog\u001b[0m\u001b[1;33m(\u001b[0m\u001b[1;33m)\u001b[0m\u001b[1;33m\u001b[0m\u001b[1;33m\u001b[0m\u001b[0m\n\u001b[1;32m---> 12\u001b[1;33m \u001b[0mobj\u001b[0m\u001b[1;33m.\u001b[0m\u001b[0mfamily\u001b[0m\u001b[1;33m(\u001b[0m\u001b[1;33m)\u001b[0m\u001b[1;33m\u001b[0m\u001b[1;33m\u001b[0m\u001b[0m\n\u001b[0m",
      "\u001b[1;32m<ipython-input-7-7a3e40e7ae63>\u001b[0m in \u001b[0;36mfamily\u001b[1;34m(self)\u001b[0m\n\u001b[0;32m      8\u001b[0m \u001b[1;33m\u001b[0m\u001b[0m\n\u001b[0;32m      9\u001b[0m     \u001b[1;32mdef\u001b[0m \u001b[0mfamily\u001b[0m\u001b[1;33m(\u001b[0m\u001b[0mself\u001b[0m\u001b[1;33m)\u001b[0m\u001b[1;33m:\u001b[0m \u001b[1;31m# without the 'self' function, you can't call out the method and attribute of a class\u001b[0m\u001b[1;33m\u001b[0m\u001b[1;33m\u001b[0m\u001b[0m\n\u001b[1;32m---> 10\u001b[1;33m         \u001b[0mprint\u001b[0m\u001b[1;33m(\u001b[0m\u001b[1;34mf'Rocky belongs to the family of {attr1}'\u001b[0m\u001b[1;33m)\u001b[0m\u001b[1;31m# NOTE: without the 'self' fucntion it will see 'attr1 as not defined'\u001b[0m\u001b[1;33m\u001b[0m\u001b[1;33m\u001b[0m\u001b[0m\n\u001b[0m\u001b[0;32m     11\u001b[0m \u001b[0mobj\u001b[0m \u001b[1;33m=\u001b[0m \u001b[0mdog\u001b[0m\u001b[1;33m(\u001b[0m\u001b[1;33m)\u001b[0m\u001b[1;33m\u001b[0m\u001b[1;33m\u001b[0m\u001b[0m\n\u001b[0;32m     12\u001b[0m \u001b[0mobj\u001b[0m\u001b[1;33m.\u001b[0m\u001b[0mfamily\u001b[0m\u001b[1;33m(\u001b[0m\u001b[1;33m)\u001b[0m\u001b[1;33m\u001b[0m\u001b[1;33m\u001b[0m\u001b[0m\n",
      "\u001b[1;31mNameError\u001b[0m: name 'attr1' is not defined"
     ]
    }
   ],
   "source": [
    "# A simple class with only attributes\n",
    "## attribute define the class\n",
    "## method defines the function of the class\n",
    "\n",
    "class dog:\n",
    "    attr1 = 'Mammal'\n",
    "    attr2 = 'bark'\n",
    "    \n",
    "    def family(self): # without the 'self' function, you can't call out the method and attribute of a class\n",
    "        print(f'Rocky belongs to the family of {attr1}')# NOTE: without the 'self' fucntion it will see 'attr1 as not defined'\n",
    "obj = dog()\n",
    "obj.family()"
   ]
  },
  {
   "cell_type": "code",
   "execution_count": 4,
   "metadata": {},
   "outputs": [
    {
     "name": "stdout",
     "output_type": "stream",
     "text": [
      "Rocky belongs to the family of Mammal\n"
     ]
    }
   ],
   "source": [
    "# A simple class with only attributes\n",
    "## attribute define the class\n",
    "## method defines the function of the class\n",
    "\n",
    "class dog:\n",
    "    attr1 = 'Mammal'\n",
    "    attr2 = 'bark'\n",
    "    \n",
    "    def family(self): # without the 'self' function, you can't call out the method and attribute of a class\n",
    "        print(f'Rocky belongs to the family of {self.attr1}')\n",
    "obj = dog()\n",
    "obj.family()"
   ]
  },
  {
   "cell_type": "code",
   "execution_count": 5,
   "metadata": {},
   "outputs": [],
   "source": [
    "# Attributes tell you the features of a class\n",
    "# Method tells you how the class operates"
   ]
  },
  {
   "cell_type": "code",
   "execution_count": 9,
   "metadata": {},
   "outputs": [
    {
     "name": "stdout",
     "output_type": "stream",
     "text": [
      "Mercilado Lamborghini has started\n",
      "None\n",
      "Please choose your Gear1\n",
      "Gear has been changed to 1\n",
      "None\n",
      "Please choose enter 1 to engage your nitro or 2 to disengage your nitro2\n",
      "Nitro Disengaged\n",
      "None\n",
      "Mercilado Lamborghini has stopped, Game Over!!!!!!!!!!!!!!!!!!!!!!\n",
      "None\n"
     ]
    }
   ],
   "source": [
    "# To write a car simulation game\n",
    "## Everything inside the class is function\n",
    "\n",
    "class car_simulation_game:\n",
    "    def __init__(self,Brand,Model,Colour,Year,Speed):\n",
    "        self.Brand = Brand\n",
    "        self.Model = Model\n",
    "        self.Colour = Colour\n",
    "        self.Year = Year\n",
    "        self.Speed = Speed\n",
    "        \n",
    "    def start(self): #The 1st method is 'start'\n",
    "        print(f'{self.Model} {self.Brand} has started')\n",
    "            \n",
    "    def gear(self):\n",
    "        option = input('Please choose your Gear')\n",
    "        if option == '1':\n",
    "            print('Gear has been changed to 1')\n",
    "        elif option == '2':\n",
    "            print('Gear has been changed to 2')\n",
    "        elif option == '3':\n",
    "            print('Gear has been changed to 3')\n",
    "        elif option == '4':\n",
    "            print('Gear has been changed to 4')\n",
    "        elif option == '5':\n",
    "            print('Gear has been changed to 5')\n",
    "        elif option == 'R':\n",
    "            print('Gear has been put on Reverse')\n",
    "        \n",
    "    def nitro(self):\n",
    "        option = input('Please choose enter 1 to engage your nitro or 2 to disengage your nitro')\n",
    "        if option == '1':\n",
    "            print('Nitro Engaged')\n",
    "        elif option == '2':\n",
    "            print('Nitro Disengaged')\n",
    "        \n",
    "    def stop(self):\n",
    "        print(f'{self.Model} {self.Brand} has stopped, Game Over!!!!!!!!!!!!!!!!!!!!!!')\n",
    "            \n",
    "car1 = car_simulation_game('Lamborghini','Mercilado','Black',2020,351)\n",
    "#Calling the method now\n",
    "print(car1.start())\n",
    "print(car1.gear())\n",
    "print(car1.nitro())\n",
    "print(car1.stop())\n",
    "\n",
    "\n"
   ]
  },
  {
   "cell_type": "code",
   "execution_count": 16,
   "metadata": {},
   "outputs": [
    {
     "name": "stdout",
     "output_type": "stream",
     "text": [
      "MerciladoLamborghinihas started\n",
      "None\n"
     ]
    }
   ],
   "source": [
    "print(car1.start())"
   ]
  },
  {
   "cell_type": "code",
   "execution_count": 17,
   "metadata": {},
   "outputs": [
    {
     "name": "stdout",
     "output_type": "stream",
     "text": [
      "Please choose your Gear1\n",
      "Gear has been changed to 1\n",
      "None\n"
     ]
    }
   ],
   "source": [
    "print(car1.gear())"
   ]
  },
  {
   "cell_type": "markdown",
   "metadata": {},
   "source": [
    "## INHERITANCE"
   ]
  },
  {
   "cell_type": "code",
   "execution_count": 19,
   "metadata": {},
   "outputs": [
    {
     "name": "stdout",
     "output_type": "stream",
     "text": [
      "MLMercedeshas started\n",
      "None\n",
      "Please choose your Gear2\n",
      "Gear has been changed to 2\n",
      "None\n",
      "Please choose enter 1 to engage your nitro or 2 to disengage your nitro2\n",
      "Nitro Disengaged\n",
      "None\n",
      "MLMercedes has stopped, Game Over!!!!!!!!!!!!!!!!!!!!!!\n",
      "None\n"
     ]
    }
   ],
   "source": [
    "class F12(car_simulation_game):\n",
    "    def openroof(self):\n",
    "        option = input('1 to open roof or 2 to close roof')\n",
    "        if option == '1':\n",
    "            print('Roof Open')\n",
    "        elif option == '2':\n",
    "            print('Roof Closed')\n",
    "car2 = F12('Mercedes','ML','Gray',2022,400)\n",
    "print(car2.start())\n",
    "print(car2.gear())\n",
    "print(car2.nitro())\n",
    "print(car2.stop())\n"
   ]
  },
  {
   "cell_type": "code",
   "execution_count": 20,
   "metadata": {},
   "outputs": [
    {
     "ename": "AttributeError",
     "evalue": "'car_simulation_game' object has no attribute 'openroof'",
     "output_type": "error",
     "traceback": [
      "\u001b[1;31m---------------------------------------------------------------------------\u001b[0m",
      "\u001b[1;31mAttributeError\u001b[0m                            Traceback (most recent call last)",
      "\u001b[1;32m<ipython-input-20-ba5dd9b6880a>\u001b[0m in \u001b[0;36m<module>\u001b[1;34m\u001b[0m\n\u001b[1;32m----> 1\u001b[1;33m \u001b[0mcar1\u001b[0m\u001b[1;33m.\u001b[0m\u001b[0mopenroof\u001b[0m\u001b[1;33m\u001b[0m\u001b[1;33m\u001b[0m\u001b[0m\n\u001b[0m",
      "\u001b[1;31mAttributeError\u001b[0m: 'car_simulation_game' object has no attribute 'openroof'"
     ]
    }
   ],
   "source": [
    "car1.openroof"
   ]
  },
  {
   "cell_type": "code",
   "execution_count": 21,
   "metadata": {},
   "outputs": [
    {
     "data": {
      "text/plain": [
       "<bound method F12.openroof of <__main__.F12 object at 0x00000212F89F6C10>>"
      ]
     },
     "execution_count": 21,
     "metadata": {},
     "output_type": "execute_result"
    }
   ],
   "source": [
    "car2.openroof"
   ]
  },
  {
   "cell_type": "code",
   "execution_count": 22,
   "metadata": {},
   "outputs": [
    {
     "name": "stdout",
     "output_type": "stream",
     "text": [
      "1 to open roof or 2 to close roof1\n",
      "Roof Open\n"
     ]
    }
   ],
   "source": [
    "car2.openroof()"
   ]
  },
  {
   "cell_type": "code",
   "execution_count": 3,
   "metadata": {},
   "outputs": [
    {
     "name": "stdout",
     "output_type": "stream",
     "text": [
      "This is a Sonic Game Class that has been created\n",
      "Please choose character to play with: Character2\n",
      "1 to jump, 2 to roll under1\n",
      "Jump Obstacle\n",
      "None\n",
      "Low for low obstacle, High for high obstacleLow\n",
      "Low Jump\n",
      "None\n",
      "Kick for small obstacle, Blow for big obstacleKick\n",
      "Kick obstacle\n",
      "None\n",
      "RIGHT if obstacle stronger on left, LEFT if obstacle stronger on right, else keep STRAIGHTRIGHT\n",
      "Go Right\n",
      "None\n"
     ]
    }
   ],
   "source": [
    "class sonic:\n",
    "    '''This is a Sonic Game Class that has been created'''\n",
    "    \n",
    "    def __init__(self,Name,Colour,Char1,Char2,Char3): #Char for characteristics\n",
    "        self.Name = Name\n",
    "        self.Colour = Colour\n",
    "        self.Char1 = Char1\n",
    "        self.Char2 = Char2\n",
    "        self.Char3 = Char3\n",
    "    \n",
    "    def obstacle1(self):\n",
    "        option = input('1 to jump, 2 to roll under')\n",
    "        if option  == '1':\n",
    "            print('Jump Obstacle')\n",
    "        elif option == '2':\n",
    "            print('Roll under obstacle')\n",
    "    def obstacle2(self): #for very high obstacle\n",
    "        option = input('Low for low obstacle, High for high obstacle')\n",
    "        if option == 'Low':\n",
    "            print('Low Jump')\n",
    "        elif option == 'High':\n",
    "            print('High Jump')\n",
    "    def obstacle3(self):\n",
    "        option = input('Kick for small obstacle, Blow for big obstacle')\n",
    "        if option == 'Kick':\n",
    "            print('Kick obstacle')\n",
    "        elif option == 'Blow':\n",
    "            print('Blow Obstacle')\n",
    "    def obstacle4(self):\n",
    "        option = input('RIGHT if obstacle stronger on left, LEFT if obstacle stronger on right, else keep STRAIGHT')\n",
    "        if option == 'RIGHT':\n",
    "            print('Go Right')\n",
    "        elif option == 'LEFT':\n",
    "            print('Go Left')\n",
    "        else:\n",
    "            print('Go Straight')\n",
    "            \n",
    "print(sonic.__doc__)\n",
    "\n",
    "Character1 = sonic('Knuckles','Yellow','Strong','Fast','Intelligent')\n",
    "Character2 = sonic('Miles','Red','Strong','Fast','Creative')\n",
    "Character3 = sonic('Amy','Pink','Strong','Fast','Physical')\n",
    "\n",
    "Player = input('Please choose character to play with: ')\n",
    "\n",
    "\n",
    "print(Character1.obstacle1())\n",
    "print(Character1.obstacle2())\n",
    "print(Character1.obstacle3())\n",
    "print(Character1.obstacle4())"
   ]
  },
  {
   "cell_type": "markdown",
   "metadata": {},
   "source": [
    "# "
   ]
  }
 ],
 "metadata": {
  "kernelspec": {
   "display_name": "Python 3",
   "language": "python",
   "name": "python3"
  },
  "language_info": {
   "codemirror_mode": {
    "name": "ipython",
    "version": 3
   },
   "file_extension": ".py",
   "mimetype": "text/x-python",
   "name": "python",
   "nbconvert_exporter": "python",
   "pygments_lexer": "ipython3",
   "version": "3.8.5"
  }
 },
 "nbformat": 4,
 "nbformat_minor": 4
}
