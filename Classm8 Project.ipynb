{
 "cells": [
  {
   "cell_type": "code",
   "execution_count": 1,
   "metadata": {},
   "outputs": [
    {
     "name": "stdout",
     "output_type": "stream",
     "text": [
      "Please enter your full name: Ade\n",
      "Full Name: Ade\n",
      "How old are you: 23\n",
      "23 years\n",
      "What is your Gender? M or F: f\n",
      "Gender: f\n",
      "Please enter your State of Origin: Osun\n",
      "State of Origin: Osun\n",
      "Please enter the name of your university: Ile-Ife\n",
      "Name of University: Ile-Ife\n",
      "Please enter the geographical location of your school: Osun\n",
      "School Geographical Location: Osun\n",
      "You are posted to serve in the Lagos\n"
     ]
    }
   ],
   "source": [
    "# #defining variables\n",
    "North = 'Kaduna'\n",
    "South = 'Delta'\n",
    "West = 'Lagos'\n",
    "East = 'Owerri'\n",
    "\n",
    "#Collection of info from user\n",
    "student_name = input('Please enter your full name: ')\n",
    "print(f'Full Name: {student_name}')\n",
    "student_age = int(input('How old are you: '))\n",
    "print(f'{student_age} years')\n",
    "student_sex = input('What is your Gender? M or F: ')\n",
    "print(f'Gender: {student_sex}')\n",
    "state_of_origin = input('Please enter your State of Origin: ')\n",
    "print(f'State of Origin: {state_of_origin}')\n",
    "school_name = input('Please enter the name of your university: ')\n",
    "print(f'Name of University: {school_name}')\n",
    "school_geo_location = input('Please enter the geographical location of your school: ')\n",
    "print(f'School Geographical Location: {school_geo_location}')\n",
    "\n",
    "#Conditions\n",
    "if  state_of_origin == North or South or East and school_geo_location == North or South or East:\n",
    "    print(f'You are posted to serve in the {West}')\n",
    "elif  state_of_origin == South or East or West and school_geo_location == south or East or West:\n",
    "    print(f'You are posted to serve in the {North}')\n",
    "elif  state_of_origin == East or West or North and school_geo_location == East or West or North:\n",
    "    print(f'You are posted to serve in the {South}')\n",
    "elif  state_of_origin == West or North or South and school_geo_location == West or North or South:\n",
    "    print(f'You are posted to serve in the {East}')\n",
    "else:\n",
    "    print(f'You are enlisted for second batch posting review')\n"
   ]
  },
  {
   "cell_type": "code",
   "execution_count": 2,
   "metadata": {},
   "outputs": [
    {
     "name": "stdout",
     "output_type": "stream",
     "text": [
      "Please enter your full name: Omon\n",
      "Full Name: Omon\n",
      "How old are you: 34\n",
      "34 years\n",
      "What is your Gender? M or F: m\n",
      "Gender: m\n",
      "Please enter your State of Origin: NorthWest\n",
      "State of Origin: NorthWest\n",
      "Please enter the name of your university: Adejo Uni\n",
      "Name of University: Adejo Uni\n",
      "Please enter the geographical location of your school: NorthEast\n",
      "School Geographical Location: NorthEast\n",
      "You are posted to serve in the Lagos\n"
     ]
    }
   ],
   "source": [
    "# #defining variables\n",
    "North = 'Kaduna'\n",
    "South = 'Delta'\n",
    "West = 'Lagos'\n",
    "East = 'Owerri'\n",
    "\n",
    "#Collection of info from user\n",
    "student_name = input('Please enter your full name: ')\n",
    "print(f'Full Name: {student_name}')\n",
    "student_age = int(input('How old are you: '))\n",
    "print(f'{student_age} years')\n",
    "student_sex = input('What is your Gender? M or F: ')\n",
    "print(f'Gender: {student_sex}')\n",
    "state_of_origin = input('Please enter your State of Origin: ')\n",
    "print(f'State of Origin: {state_of_origin}')\n",
    "school_name = input('Please enter the name of your university: ')\n",
    "print(f'Name of University: {school_name}')\n",
    "school_geo_location = input('Please enter the geographical location of your school: ')\n",
    "print(f'School Geographical Location: {school_geo_location}')\n",
    "\n",
    "#Conditions\n",
    "if  state_of_origin == North or South or East and school_geo_location == North or South or East:\n",
    "    print(f'You are posted to serve in the {West}')\n",
    "elif  state_of_origin == South or East or West and school_geo_location == south or East or West:\n",
    "    print(f'You are posted to serve in the {North}')\n",
    "elif  state_of_origin == East or West or North and school_geo_location == East or West or North:\n",
    "    print(f'You are posted to serve in the {South}')\n",
    "elif  state_of_origin == West or North or South and school_geo_location == West or North or South:\n",
    "    print(f'You are posted to serve in the {East}')\n",
    "else:\n",
    "    print(f'You are enlisted for second batch posting review')\n"
   ]
  },
  {
   "cell_type": "code",
   "execution_count": 3,
   "metadata": {},
   "outputs": [
    {
     "name": "stdout",
     "output_type": "stream",
     "text": [
      "Please enter your full name: Sen\n",
      "Full Name: Sen\n",
      "How old are you: 54\n",
      "54 years\n",
      "What is your Gender? M or F: m\n",
      "Gender: m\n",
      "Please enter your State of Origin: Delta\n",
      "State of Origin: Delta\n",
      "Please enter the name of your university: Asedt Uni\n",
      "Name of University: Asedt Uni\n",
      "Please enter the geographical location of your school: Abudabi\n",
      "School Geographical Location: Abudabi\n",
      "You are Posted to Serve in the Anambra\n",
      "You are Posted to Serve in the Cross River\n"
     ]
    }
   ],
   "source": [
    "# #defining variables\n",
    "import random as rn\n",
    "\n",
    "North = ['Kaduna','Kano','Niger','Kogi','Borno','FCT','Abuja','Plateau','Katsina','Benue','Nassarawa','Yobe','Bauchi','Taraba','Adamawa','Sokoto']\n",
    "South = ['Delta','Bayelsa','Rivers','Cross River','Akwa-Ibom']\n",
    "West = ['Lagos','Ekiti','Ondo','Edo','Oyo','Osun']\n",
    "East = ['Owerri','Imo','Abia','Ebonyi','Anambra']\n",
    "\n",
    "#Collection of info from user\n",
    "student_name = input('Please enter your full name: ')\n",
    "print(f'Full Name: {student_name}')\n",
    "student_age = int(input('How old are you: '))\n",
    "print(f'{student_age} years')\n",
    "student_sex = input('What is your Gender? M or F: ')\n",
    "print(f'Gender: {student_sex}')\n",
    "state_of_origin = input('Please enter your State of Origin: ')\n",
    "print(f'State of Origin: {state_of_origin}')\n",
    "school_name = input('Please enter the name of your university: ')\n",
    "print(f'Name of University: {school_name}')\n",
    "school_geo_location = input('Please enter the geographical location of your school: ')\n",
    "print(f'School Geographical Location: {school_geo_location}')\n",
    "\n",
    "#Conditions\n",
    "if not any(char in (East,West,South) for char in school_geo_location):\n",
    "    print(f'You are Posted to Serve in the {rn.choice(East)}')\n",
    "elif not any(char in (West,South,North) for char in school_geo_location):\n",
    "    print(f'You are Posted to Serve in the {rn.choice(West)}')\n",
    "if not any(char in (South,North,East) for char in school_geo_location):\n",
    "    print(f'You are Posted to Serve in the {rn.choice(South)}')\n",
    "else:\n",
    "    print(f'You are posted to serve in {rn.choice(North)}')\n"
   ]
  },
  {
   "cell_type": "code",
   "execution_count": 4,
   "metadata": {},
   "outputs": [
    {
     "name": "stdout",
     "output_type": "stream",
     "text": [
      "Please enter your full name: Dennis\n",
      "Full Name: Dennis\n",
      "How old are you: 34\n",
      "34 years\n",
      "What is your Gender? M or F: m\n",
      "Gender: m\n",
      "Please enter your State of Origin: Allois\n",
      "State of Origin: Allois\n",
      "Please enter the name of your university: Carlifornia Uni\n",
      "Name of University: Carlifornia Uni\n",
      "Please enter the geographical location of your school: Illois\n",
      "School Geographical Location: Illois\n",
      "You are Posted to Serve in the Cross River\n"
     ]
    }
   ],
   "source": [
    "import random as rn\n",
    "\n",
    "# #defining variables\n",
    "North = ['Kaduna','Kano','Niger','Kogi','Borno','FCT','Abuja','Plateau','Katsina','Benue','Nassarawa','Yobe','Bauchi','Taraba','Adamawa','Sokoto']\n",
    "South = ['Delta','Bayelsa','Rivers','Cross River','Akwa-Ibom']\n",
    "West = ['Lagos','Ekiti','Ondo','Edo','Oyo','Osun']\n",
    "East = ['Owerri','Imo','Abia','Ebonyi','Anambra']\n",
    "\n",
    "#Collection of info from user\n",
    "student_name = input('Please enter your full name: ')\n",
    "print(f'Full Name: {student_name}')\n",
    "student_age = int(input('How old are you: '))\n",
    "print(f'{student_age} years')\n",
    "student_sex = input('What is your Gender? M or F: ')\n",
    "print(f'Gender: {student_sex}')\n",
    "state_of_origin = input('Please enter your State of Origin: ')\n",
    "print(f'State of Origin: {state_of_origin}')\n",
    "school_name = input('Please enter the name of your university: ')\n",
    "print(f'Name of University: {school_name}')\n",
    "school_geo_location = input('Please enter the geographical location of your school: ')\n",
    "print(f'School Geographical Location: {school_geo_location}')\n",
    "\n",
    "#Conditions\n",
    "if not any(char in (East,West,South) for char in school_geo_location):\n",
    "    n = (rn.choice(East),rn.choice(West),rn.choice(South))\n",
    "    print(f'You are Posted to Serve in the {rn.choice(n)}')\n",
    "\n",
    "else:\n",
    "    print(f'You are posted to serve in {rn.choice(North)}')\n",
    "    "
   ]
  },
  {
   "cell_type": "code",
   "execution_count": 1,
   "metadata": {},
   "outputs": [],
   "source": [
    "from datetime import date"
   ]
  },
  {
   "cell_type": "code",
   "execution_count": 5,
   "metadata": {},
   "outputs": [
    {
     "name": "stdout",
     "output_type": "stream",
     "text": [
      "Enter year of birth: 2000\n",
      "22\n"
     ]
    }
   ],
   "source": [
    "YOB = int(input('Enter year of birth: '))\n",
    "\n",
    "CA = date.today().year - YOB\n",
    "\n",
    "print(CA)"
   ]
  },
  {
   "cell_type": "code",
   "execution_count": null,
   "metadata": {},
   "outputs": [
    {
     "name": "stdout",
     "output_type": "stream",
     "text": [
      "Enter year of birth: 1998\n",
      "YOB: 1998\n",
      "Age: 22\n",
      "TS: 1\n",
      "Answer true or false in every Qst\n",
      "\n",
      "Qst 1. Nigeria is an islamic state\n",
      "Qst 2. There are 7 continents\n",
      "Qst 3. Covid-19 was a scam\n",
      "\n"
     ]
    }
   ],
   "source": [
    "from datetime import date\n",
    "\n",
    "YOB = int(input('Enter year of birth: '))\n",
    "#TS = Test SCore\n",
    "CA = date.today().year - YOB\n",
    "MA = TS/100 * CA\n",
    "IQ = MA/CA * 100\n",
    "print(f'YOB: {YOB}')\n",
    "print(f'Age: {Age}')\n",
    "print(f'TS: {TS}')\n",
    "\n",
    "print('Answer true or false in every Qst')\n",
    "print('''\\nQst 1. Nigeria is an islamic state\n",
    "Qst 2. There are 7 continents\n",
    "Qst 3. Covid-19 was a scam\n",
    "''')\n",
    "\n",
    "qstn1 = input('Enter Qstn 1 Answer: ')\n",
    "qstn2 = input('Enter Qstn 2 Answer: ')\n",
    "qstn3 = input('Ente2000r Qstn 3 Answer: ')\n",
    "\n",
    "if qstn1 == true and qstn2 == true and qstn3 == true:\n",
    "    TS = 100 * 3\n",
    "elif qstn1 == false and qstn2 == true and qstn3 == true:\n",
    "    TS = 100 * 2\n",
    "elif qstn1 == true and qstn2 == false and qstn3 == true:\n",
    "    TS = 100 * 2\n",
    "elif qstn1 == true and qstn2 == true and qstn3 == false:\n",
    "    TS = 100 *2\n",
    "elif qstn1 == false and qstn2 == false and qstn3 == true:\n",
    "    TS = 100 * 1\n",
    "elif qstn1 == false and qstn2 == true and qstn3 == false:\n",
    "    TS = 100 * 1\n",
    "elif qstn1 == true and qstn2 == false and qstn3 == false:\n",
    "    TS = 100 *1\n",
    "elif qstn1 == false and qstn2 == false and qstn3 == false:\n",
    "    TS = 1\n",
    "    \n",
    "print(f'TS: {TS}')    \n",
    "print(f'MA: {MA}')\n",
    "print(f'CA: {CA}')\n",
    "\n",
    "print(f'IQ: {IQ}')"
   ]
  },
  {
   "cell_type": "code",
   "execution_count": null,
   "metadata": {},
   "outputs": [],
   "source": []
  }
 ],
 "metadata": {
  "kernelspec": {
   "display_name": "Python 3",
   "language": "python",
   "name": "python3"
  },
  "language_info": {
   "codemirror_mode": {
    "name": "ipython",
    "version": 3
   },
   "file_extension": ".py",
   "mimetype": "text/x-python",
   "name": "python",
   "nbconvert_exporter": "python",
   "pygments_lexer": "ipython3",
   "version": "3.8.5"
  }
 },
 "nbformat": 4,
 "nbformat_minor": 4
}
