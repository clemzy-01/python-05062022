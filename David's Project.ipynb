{
 "cells": [
  {
   "cell_type": "code",
   "execution_count": 5,
   "metadata": {},
   "outputs": [
    {
     "name": "stdout",
     "output_type": "stream",
     "text": [
      "MacyHub Networks\n",
      "FAQ\n",
      "PLEASE SELECT THE QUESTION THAT MATCHES YOUR SEARCH/REQUEST\n",
      "Enter prefered question as qst1, qst2, qst3...: qst2\n",
      "Question 2: Where is the HQ of the company? \n",
      "Answer: Lagos\n",
      "We hope we have been able to solve your need through this platform\n",
      "Please Contact us via whatsapp on +2347040003564 for further inquiries\n"
     ]
    }
   ],
   "source": [
    "# Objective is to write a program for FAQs of a company\n",
    "## Compnay name display\n",
    "company_name = 'MacyHub Networks'\n",
    "print(company_name)\n",
    "\n",
    "## Display of objective\n",
    "obj = 'FAQ'\n",
    "print(obj)\n",
    "\n",
    "## Creating a dictionary of questions in keys and values\n",
    "faq = {'qst1': 'Question 1: How old is the company? \\nAnswer: Over Ten years old',\n",
    "'qst2': 'Question 2: Where is the HQ of the company? \\nAnswer: Lagos',\n",
    "'qst3': 'Question 3: WHo is the founder of the company? \\nAnswer: Tech Guru David Supremacy'}\n",
    "\n",
    "print('PLEASE SELECT THE QUESTION THAT MATCHES YOUR SEARCH/REQUEST')\n",
    "\n",
    "## User interaction tab to enter question of choice\n",
    "user_question = input('Enter prefered question as qst1, qst2, qst3...: ')\n",
    "\n",
    "## Conditions to determine answers to be displayed for each question\n",
    "if user_question == 'qst1':\n",
    "    print(faq['qst1'])\n",
    "elif user_question == 'qst2':\n",
    "    print(faq['qst2'])\n",
    "elif user_question == 'qst3':\n",
    "    print(faq['qst3'])\n",
    "else:\n",
    "    print('Please check the format of entery and enter correctly')   \n",
    "\n",
    "## User friendly appraoch to ascertain satisfaction\n",
    "print('We hope we have been able to solve your need through this platform')\n",
    "\n",
    "print('Please Contact us via whatsapp on +2347040003564 for further inquiries')\n"
   ]
  },
  {
   "cell_type": "code",
   "execution_count": 2,
   "metadata": {},
   "outputs": [
    {
     "name": "stdout",
     "output_type": "stream",
     "text": [
      "MacyHub Networks\n",
      "FAQ\n",
      "Question 1: How old is the company?\n",
      "Question 2: Where is the HQ of the company?\n",
      "Question 3: Who is the founder of the company?\n",
      "PLEASE SELECT THE QUESTION THAT MATCHES YOUR SEARCH/REQUEST\n",
      "Enter prefered question as 1, 2, 3,...: 3\n",
      "Question 3: Who is the founder of the company?\n",
      "Answer: Tech Guru David Supremacy\n",
      "We hope we have been able to solve your need through this platform\n",
      "Please Contact us via whatsapp on +2347040003564 for further inquiries\n"
     ]
    }
   ],
   "source": [
    "# Objective is to write a program for FAQs of a company\n",
    "## Compnay name display\n",
    "company_name = 'MacyHub Networks'\n",
    "print(company_name)\n",
    "\n",
    "## Display of objective\n",
    "obj = 'FAQ'\n",
    "print(obj)\n",
    "\n",
    "## Assigning questions to a variable(s) and display them\n",
    "Questions = '''Question 1: How old is the company?\n",
    "Question 2: Where is the HQ of the company?\n",
    "Question 3: Who is the founder of the company?'''\n",
    "\n",
    "print(Questions)\n",
    "\n",
    "question1 = 'How old is the company?'\n",
    "question2 = 'Where is the HQ of the company?'\n",
    "question3 = 'Who is the founder of the company?'\n",
    "\n",
    "## Creating a dictionary of questions in keys and values\n",
    "faq = {'qst1': 'Answer: Over Ten years old',\n",
    "'qst2': 'Answer: Lagos',\n",
    "'qst3': 'Answer: Tech Guru David Supremacy'}\n",
    "\n",
    "print('PLEASE SELECT THE QUESTION THAT MATCHES YOUR SEARCH/REQUEST')\n",
    "\n",
    "## User interaction tab to enter question of choice\n",
    "user_question = input('Enter prefered question as 1, 2, 3,...: ')\n",
    "\n",
    "## Conditions to determine answers to be displayed for each question\n",
    "if user_question == '1':\n",
    "    print(f'Question 1: {question1}')\n",
    "    print(faq['qst1'])\n",
    "elif user_question == '2':\n",
    "    print(f'Question 2: {question2}')\n",
    "    print(faq['qst2'])\n",
    "elif user_question == '3':\n",
    "    print(f'Question 3: {question3}')\n",
    "    print(faq['qst3'])\n",
    "else:\n",
    "    print('Please check the format of entery and enter correctly')   \n",
    "\n",
    "\n",
    "## User friendly appraoch to ascertain satisfaction\n",
    "print('We hope we have been able to solve your need through this platform')\n",
    "\n",
    "print('Please Contact us via whatsapp on +2347040003564 for further inquiries')\n"
   ]
  },
  {
   "cell_type": "code",
   "execution_count": null,
   "metadata": {},
   "outputs": [],
   "source": []
  }
 ],
 "metadata": {
  "kernelspec": {
   "display_name": "Python 3",
   "language": "python",
   "name": "python3"
  },
  "language_info": {
   "codemirror_mode": {
    "name": "ipython",
    "version": 3
   },
   "file_extension": ".py",
   "mimetype": "text/x-python",
   "name": "python",
   "nbconvert_exporter": "python",
   "pygments_lexer": "ipython3",
   "version": "3.8.5"
  }
 },
 "nbformat": 4,
 "nbformat_minor": 4
}
